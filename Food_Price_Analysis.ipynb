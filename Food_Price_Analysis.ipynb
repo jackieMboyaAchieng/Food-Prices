{
  "cells": [
    {
      "cell_type": "markdown",
      "metadata": {
        "id": "view-in-github",
        "colab_type": "text"
      },
      "source": [
        "<a href=\"https://colab.research.google.com/github/jackieMboyaAchieng/Food-Prices/blob/main/Food_Price_Analysis.ipynb\" target=\"_parent\"><img src=\"https://colab.research.google.com/assets/colab-badge.svg\" alt=\"Open In Colab\"/></a>"
      ]
    },
    {
      "cell_type": "markdown",
      "id": "a72b719b-83fa-40d8-b956-9fe824102149",
      "metadata": {
        "id": "a72b719b-83fa-40d8-b956-9fe824102149"
      },
      "source": [
        "# Import necessary libraries"
      ]
    },
    {
      "cell_type": "code",
      "execution_count": 3,
      "id": "27af8da9-3192-4498-a489-38f27ece2df3",
      "metadata": {
        "id": "27af8da9-3192-4498-a489-38f27ece2df3"
      },
      "outputs": [],
      "source": [
        "import pandas as pd\n",
        "import matplotlib.pyplot as plt\n",
        "import seaborn as sns\n",
        "from sklearn.model_selection import train_test_split\n",
        "from sklearn.preprocessing import StandardScaler, LabelEncoder\n",
        "from sklearn.linear_model import LinearRegression\n",
        "from sklearn.metrics import mean_squared_error, r2_score"
      ]
    },
    {
      "cell_type": "markdown",
      "id": "36823bee-940c-47ac-952d-c2a4877f8eb7",
      "metadata": {
        "id": "36823bee-940c-47ac-952d-c2a4877f8eb7"
      },
      "source": [
        "# Load the dataset"
      ]
    },
    {
      "cell_type": "code",
      "execution_count": 4,
      "id": "3ffc7acd-9e51-4eb7-9bf8-5535a3ea9a27",
      "metadata": {
        "colab": {
          "base_uri": "https://localhost:8080/",
          "height": 382
        },
        "id": "3ffc7acd-9e51-4eb7-9bf8-5535a3ea9a27",
        "outputId": "713bc47d-b4ce-451d-f5e4-7dec6e50b354"
      },
      "outputs": [
        {
          "output_type": "execute_result",
          "data": {
            "text/plain": [
              "        date   admin1   admin2   market  latitude  longitude  \\\n",
              "0 2006-01-15    Coast  Mombasa  Mombasa -4.050000  39.666667   \n",
              "1 2006-01-15    Coast  Mombasa  Mombasa -4.050000  39.666667   \n",
              "2 2006-01-15    Coast  Mombasa  Mombasa -4.050000  39.666667   \n",
              "3 2006-01-15  Eastern    Kitui    Kitui -1.366667  38.016667   \n",
              "4 2006-01-15  Eastern    Kitui    Kitui -1.366667  38.016667   \n",
              "\n",
              "             category      commodity   unit priceflag  pricetype currency  \\\n",
              "0  cereals and tubers          Maize     KG    actual  Wholesale      KES   \n",
              "1  cereals and tubers  Maize (white)  90 KG    actual  Wholesale      KES   \n",
              "2     pulses and nuts          Beans     KG    actual  Wholesale      KES   \n",
              "3  cereals and tubers  Maize (white)     KG    actual     Retail      KES   \n",
              "4  cereals and tubers        Sorghum  90 KG    actual  Wholesale      KES   \n",
              "\n",
              "     price  usdprice  \n",
              "0    16.13      0.22  \n",
              "1  1480.00     20.50  \n",
              "2    33.63      0.47  \n",
              "3    17.00      0.24  \n",
              "4  1800.00     24.94  "
            ],
            "text/html": [
              "\n",
              "  <div id=\"df-8e1bcd4e-a2b3-46b2-90a8-7f9a79a036e8\" class=\"colab-df-container\">\n",
              "    <div>\n",
              "<style scoped>\n",
              "    .dataframe tbody tr th:only-of-type {\n",
              "        vertical-align: middle;\n",
              "    }\n",
              "\n",
              "    .dataframe tbody tr th {\n",
              "        vertical-align: top;\n",
              "    }\n",
              "\n",
              "    .dataframe thead th {\n",
              "        text-align: right;\n",
              "    }\n",
              "</style>\n",
              "<table border=\"1\" class=\"dataframe\">\n",
              "  <thead>\n",
              "    <tr style=\"text-align: right;\">\n",
              "      <th></th>\n",
              "      <th>date</th>\n",
              "      <th>admin1</th>\n",
              "      <th>admin2</th>\n",
              "      <th>market</th>\n",
              "      <th>latitude</th>\n",
              "      <th>longitude</th>\n",
              "      <th>category</th>\n",
              "      <th>commodity</th>\n",
              "      <th>unit</th>\n",
              "      <th>priceflag</th>\n",
              "      <th>pricetype</th>\n",
              "      <th>currency</th>\n",
              "      <th>price</th>\n",
              "      <th>usdprice</th>\n",
              "    </tr>\n",
              "  </thead>\n",
              "  <tbody>\n",
              "    <tr>\n",
              "      <th>0</th>\n",
              "      <td>2006-01-15</td>\n",
              "      <td>Coast</td>\n",
              "      <td>Mombasa</td>\n",
              "      <td>Mombasa</td>\n",
              "      <td>-4.050000</td>\n",
              "      <td>39.666667</td>\n",
              "      <td>cereals and tubers</td>\n",
              "      <td>Maize</td>\n",
              "      <td>KG</td>\n",
              "      <td>actual</td>\n",
              "      <td>Wholesale</td>\n",
              "      <td>KES</td>\n",
              "      <td>16.13</td>\n",
              "      <td>0.22</td>\n",
              "    </tr>\n",
              "    <tr>\n",
              "      <th>1</th>\n",
              "      <td>2006-01-15</td>\n",
              "      <td>Coast</td>\n",
              "      <td>Mombasa</td>\n",
              "      <td>Mombasa</td>\n",
              "      <td>-4.050000</td>\n",
              "      <td>39.666667</td>\n",
              "      <td>cereals and tubers</td>\n",
              "      <td>Maize (white)</td>\n",
              "      <td>90 KG</td>\n",
              "      <td>actual</td>\n",
              "      <td>Wholesale</td>\n",
              "      <td>KES</td>\n",
              "      <td>1480.00</td>\n",
              "      <td>20.50</td>\n",
              "    </tr>\n",
              "    <tr>\n",
              "      <th>2</th>\n",
              "      <td>2006-01-15</td>\n",
              "      <td>Coast</td>\n",
              "      <td>Mombasa</td>\n",
              "      <td>Mombasa</td>\n",
              "      <td>-4.050000</td>\n",
              "      <td>39.666667</td>\n",
              "      <td>pulses and nuts</td>\n",
              "      <td>Beans</td>\n",
              "      <td>KG</td>\n",
              "      <td>actual</td>\n",
              "      <td>Wholesale</td>\n",
              "      <td>KES</td>\n",
              "      <td>33.63</td>\n",
              "      <td>0.47</td>\n",
              "    </tr>\n",
              "    <tr>\n",
              "      <th>3</th>\n",
              "      <td>2006-01-15</td>\n",
              "      <td>Eastern</td>\n",
              "      <td>Kitui</td>\n",
              "      <td>Kitui</td>\n",
              "      <td>-1.366667</td>\n",
              "      <td>38.016667</td>\n",
              "      <td>cereals and tubers</td>\n",
              "      <td>Maize (white)</td>\n",
              "      <td>KG</td>\n",
              "      <td>actual</td>\n",
              "      <td>Retail</td>\n",
              "      <td>KES</td>\n",
              "      <td>17.00</td>\n",
              "      <td>0.24</td>\n",
              "    </tr>\n",
              "    <tr>\n",
              "      <th>4</th>\n",
              "      <td>2006-01-15</td>\n",
              "      <td>Eastern</td>\n",
              "      <td>Kitui</td>\n",
              "      <td>Kitui</td>\n",
              "      <td>-1.366667</td>\n",
              "      <td>38.016667</td>\n",
              "      <td>cereals and tubers</td>\n",
              "      <td>Sorghum</td>\n",
              "      <td>90 KG</td>\n",
              "      <td>actual</td>\n",
              "      <td>Wholesale</td>\n",
              "      <td>KES</td>\n",
              "      <td>1800.00</td>\n",
              "      <td>24.94</td>\n",
              "    </tr>\n",
              "  </tbody>\n",
              "</table>\n",
              "</div>\n",
              "    <div class=\"colab-df-buttons\">\n",
              "\n",
              "  <div class=\"colab-df-container\">\n",
              "    <button class=\"colab-df-convert\" onclick=\"convertToInteractive('df-8e1bcd4e-a2b3-46b2-90a8-7f9a79a036e8')\"\n",
              "            title=\"Convert this dataframe to an interactive table.\"\n",
              "            style=\"display:none;\">\n",
              "\n",
              "  <svg xmlns=\"http://www.w3.org/2000/svg\" height=\"24px\" viewBox=\"0 -960 960 960\">\n",
              "    <path d=\"M120-120v-720h720v720H120Zm60-500h600v-160H180v160Zm220 220h160v-160H400v160Zm0 220h160v-160H400v160ZM180-400h160v-160H180v160Zm440 0h160v-160H620v160ZM180-180h160v-160H180v160Zm440 0h160v-160H620v160Z\"/>\n",
              "  </svg>\n",
              "    </button>\n",
              "\n",
              "  <style>\n",
              "    .colab-df-container {\n",
              "      display:flex;\n",
              "      gap: 12px;\n",
              "    }\n",
              "\n",
              "    .colab-df-convert {\n",
              "      background-color: #E8F0FE;\n",
              "      border: none;\n",
              "      border-radius: 50%;\n",
              "      cursor: pointer;\n",
              "      display: none;\n",
              "      fill: #1967D2;\n",
              "      height: 32px;\n",
              "      padding: 0 0 0 0;\n",
              "      width: 32px;\n",
              "    }\n",
              "\n",
              "    .colab-df-convert:hover {\n",
              "      background-color: #E2EBFA;\n",
              "      box-shadow: 0px 1px 2px rgba(60, 64, 67, 0.3), 0px 1px 3px 1px rgba(60, 64, 67, 0.15);\n",
              "      fill: #174EA6;\n",
              "    }\n",
              "\n",
              "    .colab-df-buttons div {\n",
              "      margin-bottom: 4px;\n",
              "    }\n",
              "\n",
              "    [theme=dark] .colab-df-convert {\n",
              "      background-color: #3B4455;\n",
              "      fill: #D2E3FC;\n",
              "    }\n",
              "\n",
              "    [theme=dark] .colab-df-convert:hover {\n",
              "      background-color: #434B5C;\n",
              "      box-shadow: 0px 1px 3px 1px rgba(0, 0, 0, 0.15);\n",
              "      filter: drop-shadow(0px 1px 2px rgba(0, 0, 0, 0.3));\n",
              "      fill: #FFFFFF;\n",
              "    }\n",
              "  </style>\n",
              "\n",
              "    <script>\n",
              "      const buttonEl =\n",
              "        document.querySelector('#df-8e1bcd4e-a2b3-46b2-90a8-7f9a79a036e8 button.colab-df-convert');\n",
              "      buttonEl.style.display =\n",
              "        google.colab.kernel.accessAllowed ? 'block' : 'none';\n",
              "\n",
              "      async function convertToInteractive(key) {\n",
              "        const element = document.querySelector('#df-8e1bcd4e-a2b3-46b2-90a8-7f9a79a036e8');\n",
              "        const dataTable =\n",
              "          await google.colab.kernel.invokeFunction('convertToInteractive',\n",
              "                                                    [key], {});\n",
              "        if (!dataTable) return;\n",
              "\n",
              "        const docLinkHtml = 'Like what you see? Visit the ' +\n",
              "          '<a target=\"_blank\" href=https://colab.research.google.com/notebooks/data_table.ipynb>data table notebook</a>'\n",
              "          + ' to learn more about interactive tables.';\n",
              "        element.innerHTML = '';\n",
              "        dataTable['output_type'] = 'display_data';\n",
              "        await google.colab.output.renderOutput(dataTable, element);\n",
              "        const docLink = document.createElement('div');\n",
              "        docLink.innerHTML = docLinkHtml;\n",
              "        element.appendChild(docLink);\n",
              "      }\n",
              "    </script>\n",
              "  </div>\n",
              "\n",
              "\n",
              "<div id=\"df-22a6e26a-d457-436e-b618-2709aba30c63\">\n",
              "  <button class=\"colab-df-quickchart\" onclick=\"quickchart('df-22a6e26a-d457-436e-b618-2709aba30c63')\"\n",
              "            title=\"Suggest charts\"\n",
              "            style=\"display:none;\">\n",
              "\n",
              "<svg xmlns=\"http://www.w3.org/2000/svg\" height=\"24px\"viewBox=\"0 0 24 24\"\n",
              "     width=\"24px\">\n",
              "    <g>\n",
              "        <path d=\"M19 3H5c-1.1 0-2 .9-2 2v14c0 1.1.9 2 2 2h14c1.1 0 2-.9 2-2V5c0-1.1-.9-2-2-2zM9 17H7v-7h2v7zm4 0h-2V7h2v10zm4 0h-2v-4h2v4z\"/>\n",
              "    </g>\n",
              "</svg>\n",
              "  </button>\n",
              "\n",
              "<style>\n",
              "  .colab-df-quickchart {\n",
              "      --bg-color: #E8F0FE;\n",
              "      --fill-color: #1967D2;\n",
              "      --hover-bg-color: #E2EBFA;\n",
              "      --hover-fill-color: #174EA6;\n",
              "      --disabled-fill-color: #AAA;\n",
              "      --disabled-bg-color: #DDD;\n",
              "  }\n",
              "\n",
              "  [theme=dark] .colab-df-quickchart {\n",
              "      --bg-color: #3B4455;\n",
              "      --fill-color: #D2E3FC;\n",
              "      --hover-bg-color: #434B5C;\n",
              "      --hover-fill-color: #FFFFFF;\n",
              "      --disabled-bg-color: #3B4455;\n",
              "      --disabled-fill-color: #666;\n",
              "  }\n",
              "\n",
              "  .colab-df-quickchart {\n",
              "    background-color: var(--bg-color);\n",
              "    border: none;\n",
              "    border-radius: 50%;\n",
              "    cursor: pointer;\n",
              "    display: none;\n",
              "    fill: var(--fill-color);\n",
              "    height: 32px;\n",
              "    padding: 0;\n",
              "    width: 32px;\n",
              "  }\n",
              "\n",
              "  .colab-df-quickchart:hover {\n",
              "    background-color: var(--hover-bg-color);\n",
              "    box-shadow: 0 1px 2px rgba(60, 64, 67, 0.3), 0 1px 3px 1px rgba(60, 64, 67, 0.15);\n",
              "    fill: var(--button-hover-fill-color);\n",
              "  }\n",
              "\n",
              "  .colab-df-quickchart-complete:disabled,\n",
              "  .colab-df-quickchart-complete:disabled:hover {\n",
              "    background-color: var(--disabled-bg-color);\n",
              "    fill: var(--disabled-fill-color);\n",
              "    box-shadow: none;\n",
              "  }\n",
              "\n",
              "  .colab-df-spinner {\n",
              "    border: 2px solid var(--fill-color);\n",
              "    border-color: transparent;\n",
              "    border-bottom-color: var(--fill-color);\n",
              "    animation:\n",
              "      spin 1s steps(1) infinite;\n",
              "  }\n",
              "\n",
              "  @keyframes spin {\n",
              "    0% {\n",
              "      border-color: transparent;\n",
              "      border-bottom-color: var(--fill-color);\n",
              "      border-left-color: var(--fill-color);\n",
              "    }\n",
              "    20% {\n",
              "      border-color: transparent;\n",
              "      border-left-color: var(--fill-color);\n",
              "      border-top-color: var(--fill-color);\n",
              "    }\n",
              "    30% {\n",
              "      border-color: transparent;\n",
              "      border-left-color: var(--fill-color);\n",
              "      border-top-color: var(--fill-color);\n",
              "      border-right-color: var(--fill-color);\n",
              "    }\n",
              "    40% {\n",
              "      border-color: transparent;\n",
              "      border-right-color: var(--fill-color);\n",
              "      border-top-color: var(--fill-color);\n",
              "    }\n",
              "    60% {\n",
              "      border-color: transparent;\n",
              "      border-right-color: var(--fill-color);\n",
              "    }\n",
              "    80% {\n",
              "      border-color: transparent;\n",
              "      border-right-color: var(--fill-color);\n",
              "      border-bottom-color: var(--fill-color);\n",
              "    }\n",
              "    90% {\n",
              "      border-color: transparent;\n",
              "      border-bottom-color: var(--fill-color);\n",
              "    }\n",
              "  }\n",
              "</style>\n",
              "\n",
              "  <script>\n",
              "    async function quickchart(key) {\n",
              "      const quickchartButtonEl =\n",
              "        document.querySelector('#' + key + ' button');\n",
              "      quickchartButtonEl.disabled = true;  // To prevent multiple clicks.\n",
              "      quickchartButtonEl.classList.add('colab-df-spinner');\n",
              "      try {\n",
              "        const charts = await google.colab.kernel.invokeFunction(\n",
              "            'suggestCharts', [key], {});\n",
              "      } catch (error) {\n",
              "        console.error('Error during call to suggestCharts:', error);\n",
              "      }\n",
              "      quickchartButtonEl.classList.remove('colab-df-spinner');\n",
              "      quickchartButtonEl.classList.add('colab-df-quickchart-complete');\n",
              "    }\n",
              "    (() => {\n",
              "      let quickchartButtonEl =\n",
              "        document.querySelector('#df-22a6e26a-d457-436e-b618-2709aba30c63 button');\n",
              "      quickchartButtonEl.style.display =\n",
              "        google.colab.kernel.accessAllowed ? 'block' : 'none';\n",
              "    })();\n",
              "  </script>\n",
              "</div>\n",
              "\n",
              "    </div>\n",
              "  </div>\n"
            ],
            "application/vnd.google.colaboratory.intrinsic+json": {
              "type": "dataframe",
              "variable_name": "food_prices",
              "summary": "{\n  \"name\": \"food_prices\",\n  \"rows\": 11999,\n  \"fields\": [\n    {\n      \"column\": \"date\",\n      \"properties\": {\n        \"dtype\": \"date\",\n        \"min\": \"2006-01-15 00:00:00\",\n        \"max\": \"2024-06-15 00:00:00\",\n        \"num_unique_values\": 222,\n        \"samples\": [\n          \"2018-11-15 00:00:00\",\n          \"2024-01-15 00:00:00\",\n          \"2007-04-15 00:00:00\"\n        ],\n        \"semantic_type\": \"\",\n        \"description\": \"\"\n      }\n    },\n    {\n      \"column\": \"admin1\",\n      \"properties\": {\n        \"dtype\": \"category\",\n        \"num_unique_values\": 7,\n        \"samples\": [\n          \"Coast\",\n          \"Eastern\",\n          \"Rift Valley\"\n        ],\n        \"semantic_type\": \"\",\n        \"description\": \"\"\n      }\n    },\n    {\n      \"column\": \"admin2\",\n      \"properties\": {\n        \"dtype\": \"category\",\n        \"num_unique_values\": 22,\n        \"samples\": [\n          \"Mombasa\",\n          \"Kajiado\",\n          \"Nakuru\"\n        ],\n        \"semantic_type\": \"\",\n        \"description\": \"\"\n      }\n    },\n    {\n      \"column\": \"market\",\n      \"properties\": {\n        \"dtype\": \"category\",\n        \"num_unique_values\": 62,\n        \"samples\": [\n          \"HongKong (Kakuma)\",\n          \"Junda (Mombasa)\",\n          \"Mombasa\"\n        ],\n        \"semantic_type\": \"\",\n        \"description\": \"\"\n      }\n    },\n    {\n      \"column\": \"latitude\",\n      \"properties\": {\n        \"dtype\": \"number\",\n        \"std\": 2.2500319427750033,\n        \"min\": -4.65973,\n        \"max\": 3.936804,\n        \"num_unique_values\": 62,\n        \"samples\": [\n          3.747204,\n          -4.0070984,\n          -4.05\n        ],\n        \"semantic_type\": \"\",\n        \"description\": \"\"\n      }\n    },\n    {\n      \"column\": \"longitude\",\n      \"properties\": {\n        \"dtype\": \"number\",\n        \"std\": 1.9230363558112162,\n        \"min\": 34.72799937,\n        \"max\": 41.858383,\n        \"num_unique_values\": 62,\n        \"samples\": [\n          34.83929,\n          39.6776164,\n          39.666667\n        ],\n        \"semantic_type\": \"\",\n        \"description\": \"\"\n      }\n    },\n    {\n      \"column\": \"category\",\n      \"properties\": {\n        \"dtype\": \"category\",\n        \"num_unique_values\": 8,\n        \"samples\": [\n          \"pulses and nuts\",\n          \"meat, fish and eggs\",\n          \"cereals and tubers\"\n        ],\n        \"semantic_type\": \"\",\n        \"description\": \"\"\n      }\n    },\n    {\n      \"column\": \"commodity\",\n      \"properties\": {\n        \"dtype\": \"category\",\n        \"num_unique_values\": 47,\n        \"samples\": [\n          \"Cabbage\",\n          \"Sorghum (white)\",\n          \"Potatoes (Irish, white)\"\n        ],\n        \"semantic_type\": \"\",\n        \"description\": \"\"\n      }\n    },\n    {\n      \"column\": \"unit\",\n      \"properties\": {\n        \"dtype\": \"category\",\n        \"num_unique_values\": 13,\n        \"samples\": [\n          \"200 G\",\n          \"126 KG\",\n          \"KG\"\n        ],\n        \"semantic_type\": \"\",\n        \"description\": \"\"\n      }\n    },\n    {\n      \"column\": \"priceflag\",\n      \"properties\": {\n        \"dtype\": \"category\",\n        \"num_unique_values\": 2,\n        \"samples\": [\n          \"aggregate\",\n          \"actual\"\n        ],\n        \"semantic_type\": \"\",\n        \"description\": \"\"\n      }\n    },\n    {\n      \"column\": \"pricetype\",\n      \"properties\": {\n        \"dtype\": \"category\",\n        \"num_unique_values\": 2,\n        \"samples\": [\n          \"Retail\",\n          \"Wholesale\"\n        ],\n        \"semantic_type\": \"\",\n        \"description\": \"\"\n      }\n    },\n    {\n      \"column\": \"currency\",\n      \"properties\": {\n        \"dtype\": \"category\",\n        \"num_unique_values\": 1,\n        \"samples\": [\n          \"KES\"\n        ],\n        \"semantic_type\": \"\",\n        \"description\": \"\"\n      }\n    },\n    {\n      \"column\": \"price\",\n      \"properties\": {\n        \"dtype\": \"number\",\n        \"std\": 2960.7156742391717,\n        \"min\": 5.0,\n        \"max\": 18900.0,\n        \"num_unique_values\": 5606,\n        \"samples\": [\n          100.0\n        ],\n        \"semantic_type\": \"\",\n        \"description\": \"\"\n      }\n    },\n    {\n      \"column\": \"usdprice\",\n      \"properties\": {\n        \"dtype\": \"number\",\n        \"std\": 26.45622750077174,\n        \"min\": 0.04,\n        \"max\": 150.81,\n        \"num_unique_values\": 3803,\n        \"samples\": [\n          19.06\n        ],\n        \"semantic_type\": \"\",\n        \"description\": \"\"\n      }\n    }\n  ]\n}"
            }
          },
          "metadata": {},
          "execution_count": 4
        }
      ],
      "source": [
        "file_name = 'food prices.xlsx' # change it to the name of your excel file\n",
        "food_prices = pd.read_excel(file_name)\n",
        "food_prices.head()"
      ]
    },
    {
      "cell_type": "markdown",
      "id": "937cc4f6-fc2a-44b7-b6cf-b39e867d43e9",
      "metadata": {
        "id": "937cc4f6-fc2a-44b7-b6cf-b39e867d43e9"
      },
      "source": [
        "## Understanding Data"
      ]
    },
    {
      "cell_type": "code",
      "execution_count": 5,
      "id": "4ed52fe5-8843-490e-bb81-449840d65b60",
      "metadata": {
        "colab": {
          "base_uri": "https://localhost:8080/"
        },
        "id": "4ed52fe5-8843-490e-bb81-449840d65b60",
        "outputId": "0398d142-2412-4c1c-f5ac-89801aeedeba"
      },
      "outputs": [
        {
          "output_type": "execute_result",
          "data": {
            "text/plain": [
              "(11999, 14)"
            ]
          },
          "metadata": {},
          "execution_count": 5
        }
      ],
      "source": [
        "food_prices.shape"
      ]
    },
    {
      "cell_type": "markdown",
      "id": "62f75aac-bf67-45eb-bb16-56cb1f9f0891",
      "metadata": {
        "id": "62f75aac-bf67-45eb-bb16-56cb1f9f0891"
      },
      "source": [
        "**The dataset has 11,999 rows of data and 14 colums.**"
      ]
    },
    {
      "cell_type": "code",
      "execution_count": 6,
      "id": "093ff3cf-08ea-4eb1-ba84-0713851ad08f",
      "metadata": {
        "colab": {
          "base_uri": "https://localhost:8080/",
          "height": 523
        },
        "id": "093ff3cf-08ea-4eb1-ba84-0713851ad08f",
        "outputId": "5a93a045-0bb4-4abf-a5a0-392ddc1af72e"
      },
      "outputs": [
        {
          "output_type": "execute_result",
          "data": {
            "text/plain": [
              "date         datetime64[ns]\n",
              "admin1               object\n",
              "admin2               object\n",
              "market               object\n",
              "latitude            float64\n",
              "longitude           float64\n",
              "category             object\n",
              "commodity            object\n",
              "unit                 object\n",
              "priceflag            object\n",
              "pricetype            object\n",
              "currency             object\n",
              "price               float64\n",
              "usdprice            float64\n",
              "dtype: object"
            ],
            "text/html": [
              "<div>\n",
              "<style scoped>\n",
              "    .dataframe tbody tr th:only-of-type {\n",
              "        vertical-align: middle;\n",
              "    }\n",
              "\n",
              "    .dataframe tbody tr th {\n",
              "        vertical-align: top;\n",
              "    }\n",
              "\n",
              "    .dataframe thead th {\n",
              "        text-align: right;\n",
              "    }\n",
              "</style>\n",
              "<table border=\"1\" class=\"dataframe\">\n",
              "  <thead>\n",
              "    <tr style=\"text-align: right;\">\n",
              "      <th></th>\n",
              "      <th>0</th>\n",
              "    </tr>\n",
              "  </thead>\n",
              "  <tbody>\n",
              "    <tr>\n",
              "      <th>date</th>\n",
              "      <td>datetime64[ns]</td>\n",
              "    </tr>\n",
              "    <tr>\n",
              "      <th>admin1</th>\n",
              "      <td>object</td>\n",
              "    </tr>\n",
              "    <tr>\n",
              "      <th>admin2</th>\n",
              "      <td>object</td>\n",
              "    </tr>\n",
              "    <tr>\n",
              "      <th>market</th>\n",
              "      <td>object</td>\n",
              "    </tr>\n",
              "    <tr>\n",
              "      <th>latitude</th>\n",
              "      <td>float64</td>\n",
              "    </tr>\n",
              "    <tr>\n",
              "      <th>longitude</th>\n",
              "      <td>float64</td>\n",
              "    </tr>\n",
              "    <tr>\n",
              "      <th>category</th>\n",
              "      <td>object</td>\n",
              "    </tr>\n",
              "    <tr>\n",
              "      <th>commodity</th>\n",
              "      <td>object</td>\n",
              "    </tr>\n",
              "    <tr>\n",
              "      <th>unit</th>\n",
              "      <td>object</td>\n",
              "    </tr>\n",
              "    <tr>\n",
              "      <th>priceflag</th>\n",
              "      <td>object</td>\n",
              "    </tr>\n",
              "    <tr>\n",
              "      <th>pricetype</th>\n",
              "      <td>object</td>\n",
              "    </tr>\n",
              "    <tr>\n",
              "      <th>currency</th>\n",
              "      <td>object</td>\n",
              "    </tr>\n",
              "    <tr>\n",
              "      <th>price</th>\n",
              "      <td>float64</td>\n",
              "    </tr>\n",
              "    <tr>\n",
              "      <th>usdprice</th>\n",
              "      <td>float64</td>\n",
              "    </tr>\n",
              "  </tbody>\n",
              "</table>\n",
              "</div><br><label><b>dtype:</b> object</label>"
            ]
          },
          "metadata": {},
          "execution_count": 6
        }
      ],
      "source": [
        "food_prices.dtypes"
      ]
    },
    {
      "cell_type": "code",
      "execution_count": 7,
      "id": "0ab8d7b6-b73a-4b20-9795-40c754523be0",
      "metadata": {
        "colab": {
          "base_uri": "https://localhost:8080/",
          "height": 229
        },
        "id": "0ab8d7b6-b73a-4b20-9795-40c754523be0",
        "outputId": "3230d60b-9b83-4faf-ef39-58e9d42ee75f"
      },
      "outputs": [
        {
          "output_type": "execute_result",
          "data": {
            "text/plain": [
              "             admin1   admin2   market            category      commodity  \\\n",
              "count         11999    11999    11999               11999          11999   \n",
              "unique            7       22       62                   8             47   \n",
              "top     Rift Valley  Nairobi  Nairobi  cereals and tubers  Maize (white)   \n",
              "freq           4790     2425     1182                5880           1229   \n",
              "\n",
              "         unit priceflag  pricetype currency  \n",
              "count   11999     11999      11999    11999  \n",
              "unique     13         2          2        1  \n",
              "top        KG    actual  Wholesale      KES  \n",
              "freq     5403      7677       6196    11999  "
            ],
            "text/html": [
              "\n",
              "  <div id=\"df-68889405-f3ad-4fe6-8030-0a4641e96656\" class=\"colab-df-container\">\n",
              "    <div>\n",
              "<style scoped>\n",
              "    .dataframe tbody tr th:only-of-type {\n",
              "        vertical-align: middle;\n",
              "    }\n",
              "\n",
              "    .dataframe tbody tr th {\n",
              "        vertical-align: top;\n",
              "    }\n",
              "\n",
              "    .dataframe thead th {\n",
              "        text-align: right;\n",
              "    }\n",
              "</style>\n",
              "<table border=\"1\" class=\"dataframe\">\n",
              "  <thead>\n",
              "    <tr style=\"text-align: right;\">\n",
              "      <th></th>\n",
              "      <th>admin1</th>\n",
              "      <th>admin2</th>\n",
              "      <th>market</th>\n",
              "      <th>category</th>\n",
              "      <th>commodity</th>\n",
              "      <th>unit</th>\n",
              "      <th>priceflag</th>\n",
              "      <th>pricetype</th>\n",
              "      <th>currency</th>\n",
              "    </tr>\n",
              "  </thead>\n",
              "  <tbody>\n",
              "    <tr>\n",
              "      <th>count</th>\n",
              "      <td>11999</td>\n",
              "      <td>11999</td>\n",
              "      <td>11999</td>\n",
              "      <td>11999</td>\n",
              "      <td>11999</td>\n",
              "      <td>11999</td>\n",
              "      <td>11999</td>\n",
              "      <td>11999</td>\n",
              "      <td>11999</td>\n",
              "    </tr>\n",
              "    <tr>\n",
              "      <th>unique</th>\n",
              "      <td>7</td>\n",
              "      <td>22</td>\n",
              "      <td>62</td>\n",
              "      <td>8</td>\n",
              "      <td>47</td>\n",
              "      <td>13</td>\n",
              "      <td>2</td>\n",
              "      <td>2</td>\n",
              "      <td>1</td>\n",
              "    </tr>\n",
              "    <tr>\n",
              "      <th>top</th>\n",
              "      <td>Rift Valley</td>\n",
              "      <td>Nairobi</td>\n",
              "      <td>Nairobi</td>\n",
              "      <td>cereals and tubers</td>\n",
              "      <td>Maize (white)</td>\n",
              "      <td>KG</td>\n",
              "      <td>actual</td>\n",
              "      <td>Wholesale</td>\n",
              "      <td>KES</td>\n",
              "    </tr>\n",
              "    <tr>\n",
              "      <th>freq</th>\n",
              "      <td>4790</td>\n",
              "      <td>2425</td>\n",
              "      <td>1182</td>\n",
              "      <td>5880</td>\n",
              "      <td>1229</td>\n",
              "      <td>5403</td>\n",
              "      <td>7677</td>\n",
              "      <td>6196</td>\n",
              "      <td>11999</td>\n",
              "    </tr>\n",
              "  </tbody>\n",
              "</table>\n",
              "</div>\n",
              "    <div class=\"colab-df-buttons\">\n",
              "\n",
              "  <div class=\"colab-df-container\">\n",
              "    <button class=\"colab-df-convert\" onclick=\"convertToInteractive('df-68889405-f3ad-4fe6-8030-0a4641e96656')\"\n",
              "            title=\"Convert this dataframe to an interactive table.\"\n",
              "            style=\"display:none;\">\n",
              "\n",
              "  <svg xmlns=\"http://www.w3.org/2000/svg\" height=\"24px\" viewBox=\"0 -960 960 960\">\n",
              "    <path d=\"M120-120v-720h720v720H120Zm60-500h600v-160H180v160Zm220 220h160v-160H400v160Zm0 220h160v-160H400v160ZM180-400h160v-160H180v160Zm440 0h160v-160H620v160ZM180-180h160v-160H180v160Zm440 0h160v-160H620v160Z\"/>\n",
              "  </svg>\n",
              "    </button>\n",
              "\n",
              "  <style>\n",
              "    .colab-df-container {\n",
              "      display:flex;\n",
              "      gap: 12px;\n",
              "    }\n",
              "\n",
              "    .colab-df-convert {\n",
              "      background-color: #E8F0FE;\n",
              "      border: none;\n",
              "      border-radius: 50%;\n",
              "      cursor: pointer;\n",
              "      display: none;\n",
              "      fill: #1967D2;\n",
              "      height: 32px;\n",
              "      padding: 0 0 0 0;\n",
              "      width: 32px;\n",
              "    }\n",
              "\n",
              "    .colab-df-convert:hover {\n",
              "      background-color: #E2EBFA;\n",
              "      box-shadow: 0px 1px 2px rgba(60, 64, 67, 0.3), 0px 1px 3px 1px rgba(60, 64, 67, 0.15);\n",
              "      fill: #174EA6;\n",
              "    }\n",
              "\n",
              "    .colab-df-buttons div {\n",
              "      margin-bottom: 4px;\n",
              "    }\n",
              "\n",
              "    [theme=dark] .colab-df-convert {\n",
              "      background-color: #3B4455;\n",
              "      fill: #D2E3FC;\n",
              "    }\n",
              "\n",
              "    [theme=dark] .colab-df-convert:hover {\n",
              "      background-color: #434B5C;\n",
              "      box-shadow: 0px 1px 3px 1px rgba(0, 0, 0, 0.15);\n",
              "      filter: drop-shadow(0px 1px 2px rgba(0, 0, 0, 0.3));\n",
              "      fill: #FFFFFF;\n",
              "    }\n",
              "  </style>\n",
              "\n",
              "    <script>\n",
              "      const buttonEl =\n",
              "        document.querySelector('#df-68889405-f3ad-4fe6-8030-0a4641e96656 button.colab-df-convert');\n",
              "      buttonEl.style.display =\n",
              "        google.colab.kernel.accessAllowed ? 'block' : 'none';\n",
              "\n",
              "      async function convertToInteractive(key) {\n",
              "        const element = document.querySelector('#df-68889405-f3ad-4fe6-8030-0a4641e96656');\n",
              "        const dataTable =\n",
              "          await google.colab.kernel.invokeFunction('convertToInteractive',\n",
              "                                                    [key], {});\n",
              "        if (!dataTable) return;\n",
              "\n",
              "        const docLinkHtml = 'Like what you see? Visit the ' +\n",
              "          '<a target=\"_blank\" href=https://colab.research.google.com/notebooks/data_table.ipynb>data table notebook</a>'\n",
              "          + ' to learn more about interactive tables.';\n",
              "        element.innerHTML = '';\n",
              "        dataTable['output_type'] = 'display_data';\n",
              "        await google.colab.output.renderOutput(dataTable, element);\n",
              "        const docLink = document.createElement('div');\n",
              "        docLink.innerHTML = docLinkHtml;\n",
              "        element.appendChild(docLink);\n",
              "      }\n",
              "    </script>\n",
              "  </div>\n",
              "\n",
              "\n",
              "<div id=\"df-cc0c87af-9b21-455d-9470-1c3545cc1547\">\n",
              "  <button class=\"colab-df-quickchart\" onclick=\"quickchart('df-cc0c87af-9b21-455d-9470-1c3545cc1547')\"\n",
              "            title=\"Suggest charts\"\n",
              "            style=\"display:none;\">\n",
              "\n",
              "<svg xmlns=\"http://www.w3.org/2000/svg\" height=\"24px\"viewBox=\"0 0 24 24\"\n",
              "     width=\"24px\">\n",
              "    <g>\n",
              "        <path d=\"M19 3H5c-1.1 0-2 .9-2 2v14c0 1.1.9 2 2 2h14c1.1 0 2-.9 2-2V5c0-1.1-.9-2-2-2zM9 17H7v-7h2v7zm4 0h-2V7h2v10zm4 0h-2v-4h2v4z\"/>\n",
              "    </g>\n",
              "</svg>\n",
              "  </button>\n",
              "\n",
              "<style>\n",
              "  .colab-df-quickchart {\n",
              "      --bg-color: #E8F0FE;\n",
              "      --fill-color: #1967D2;\n",
              "      --hover-bg-color: #E2EBFA;\n",
              "      --hover-fill-color: #174EA6;\n",
              "      --disabled-fill-color: #AAA;\n",
              "      --disabled-bg-color: #DDD;\n",
              "  }\n",
              "\n",
              "  [theme=dark] .colab-df-quickchart {\n",
              "      --bg-color: #3B4455;\n",
              "      --fill-color: #D2E3FC;\n",
              "      --hover-bg-color: #434B5C;\n",
              "      --hover-fill-color: #FFFFFF;\n",
              "      --disabled-bg-color: #3B4455;\n",
              "      --disabled-fill-color: #666;\n",
              "  }\n",
              "\n",
              "  .colab-df-quickchart {\n",
              "    background-color: var(--bg-color);\n",
              "    border: none;\n",
              "    border-radius: 50%;\n",
              "    cursor: pointer;\n",
              "    display: none;\n",
              "    fill: var(--fill-color);\n",
              "    height: 32px;\n",
              "    padding: 0;\n",
              "    width: 32px;\n",
              "  }\n",
              "\n",
              "  .colab-df-quickchart:hover {\n",
              "    background-color: var(--hover-bg-color);\n",
              "    box-shadow: 0 1px 2px rgba(60, 64, 67, 0.3), 0 1px 3px 1px rgba(60, 64, 67, 0.15);\n",
              "    fill: var(--button-hover-fill-color);\n",
              "  }\n",
              "\n",
              "  .colab-df-quickchart-complete:disabled,\n",
              "  .colab-df-quickchart-complete:disabled:hover {\n",
              "    background-color: var(--disabled-bg-color);\n",
              "    fill: var(--disabled-fill-color);\n",
              "    box-shadow: none;\n",
              "  }\n",
              "\n",
              "  .colab-df-spinner {\n",
              "    border: 2px solid var(--fill-color);\n",
              "    border-color: transparent;\n",
              "    border-bottom-color: var(--fill-color);\n",
              "    animation:\n",
              "      spin 1s steps(1) infinite;\n",
              "  }\n",
              "\n",
              "  @keyframes spin {\n",
              "    0% {\n",
              "      border-color: transparent;\n",
              "      border-bottom-color: var(--fill-color);\n",
              "      border-left-color: var(--fill-color);\n",
              "    }\n",
              "    20% {\n",
              "      border-color: transparent;\n",
              "      border-left-color: var(--fill-color);\n",
              "      border-top-color: var(--fill-color);\n",
              "    }\n",
              "    30% {\n",
              "      border-color: transparent;\n",
              "      border-left-color: var(--fill-color);\n",
              "      border-top-color: var(--fill-color);\n",
              "      border-right-color: var(--fill-color);\n",
              "    }\n",
              "    40% {\n",
              "      border-color: transparent;\n",
              "      border-right-color: var(--fill-color);\n",
              "      border-top-color: var(--fill-color);\n",
              "    }\n",
              "    60% {\n",
              "      border-color: transparent;\n",
              "      border-right-color: var(--fill-color);\n",
              "    }\n",
              "    80% {\n",
              "      border-color: transparent;\n",
              "      border-right-color: var(--fill-color);\n",
              "      border-bottom-color: var(--fill-color);\n",
              "    }\n",
              "    90% {\n",
              "      border-color: transparent;\n",
              "      border-bottom-color: var(--fill-color);\n",
              "    }\n",
              "  }\n",
              "</style>\n",
              "\n",
              "  <script>\n",
              "    async function quickchart(key) {\n",
              "      const quickchartButtonEl =\n",
              "        document.querySelector('#' + key + ' button');\n",
              "      quickchartButtonEl.disabled = true;  // To prevent multiple clicks.\n",
              "      quickchartButtonEl.classList.add('colab-df-spinner');\n",
              "      try {\n",
              "        const charts = await google.colab.kernel.invokeFunction(\n",
              "            'suggestCharts', [key], {});\n",
              "      } catch (error) {\n",
              "        console.error('Error during call to suggestCharts:', error);\n",
              "      }\n",
              "      quickchartButtonEl.classList.remove('colab-df-spinner');\n",
              "      quickchartButtonEl.classList.add('colab-df-quickchart-complete');\n",
              "    }\n",
              "    (() => {\n",
              "      let quickchartButtonEl =\n",
              "        document.querySelector('#df-cc0c87af-9b21-455d-9470-1c3545cc1547 button');\n",
              "      quickchartButtonEl.style.display =\n",
              "        google.colab.kernel.accessAllowed ? 'block' : 'none';\n",
              "    })();\n",
              "  </script>\n",
              "</div>\n",
              "\n",
              "    </div>\n",
              "  </div>\n"
            ],
            "application/vnd.google.colaboratory.intrinsic+json": {
              "type": "dataframe",
              "summary": "{\n  \"name\": \"food_prices\",\n  \"rows\": 4,\n  \"fields\": [\n    {\n      \"column\": \"admin1\",\n      \"properties\": {\n        \"dtype\": \"string\",\n        \"num_unique_values\": 4,\n        \"samples\": [\n          7,\n          \"4790\",\n          \"11999\"\n        ],\n        \"semantic_type\": \"\",\n        \"description\": \"\"\n      }\n    },\n    {\n      \"column\": \"admin2\",\n      \"properties\": {\n        \"dtype\": \"string\",\n        \"num_unique_values\": 4,\n        \"samples\": [\n          22,\n          \"2425\",\n          \"11999\"\n        ],\n        \"semantic_type\": \"\",\n        \"description\": \"\"\n      }\n    },\n    {\n      \"column\": \"market\",\n      \"properties\": {\n        \"dtype\": \"string\",\n        \"num_unique_values\": 4,\n        \"samples\": [\n          62,\n          \"1182\",\n          \"11999\"\n        ],\n        \"semantic_type\": \"\",\n        \"description\": \"\"\n      }\n    },\n    {\n      \"column\": \"category\",\n      \"properties\": {\n        \"dtype\": \"string\",\n        \"num_unique_values\": 4,\n        \"samples\": [\n          8,\n          \"5880\",\n          \"11999\"\n        ],\n        \"semantic_type\": \"\",\n        \"description\": \"\"\n      }\n    },\n    {\n      \"column\": \"commodity\",\n      \"properties\": {\n        \"dtype\": \"string\",\n        \"num_unique_values\": 4,\n        \"samples\": [\n          47,\n          \"1229\",\n          \"11999\"\n        ],\n        \"semantic_type\": \"\",\n        \"description\": \"\"\n      }\n    },\n    {\n      \"column\": \"unit\",\n      \"properties\": {\n        \"dtype\": \"string\",\n        \"num_unique_values\": 4,\n        \"samples\": [\n          13,\n          \"5403\",\n          \"11999\"\n        ],\n        \"semantic_type\": \"\",\n        \"description\": \"\"\n      }\n    },\n    {\n      \"column\": \"priceflag\",\n      \"properties\": {\n        \"dtype\": \"string\",\n        \"num_unique_values\": 4,\n        \"samples\": [\n          2,\n          \"7677\",\n          \"11999\"\n        ],\n        \"semantic_type\": \"\",\n        \"description\": \"\"\n      }\n    },\n    {\n      \"column\": \"pricetype\",\n      \"properties\": {\n        \"dtype\": \"string\",\n        \"num_unique_values\": 4,\n        \"samples\": [\n          2,\n          \"6196\",\n          \"11999\"\n        ],\n        \"semantic_type\": \"\",\n        \"description\": \"\"\n      }\n    },\n    {\n      \"column\": \"currency\",\n      \"properties\": {\n        \"dtype\": \"string\",\n        \"num_unique_values\": 3,\n        \"samples\": [\n          \"11999\",\n          1,\n          \"KES\"\n        ],\n        \"semantic_type\": \"\",\n        \"description\": \"\"\n      }\n    }\n  ]\n}"
            }
          },
          "metadata": {},
          "execution_count": 7
        }
      ],
      "source": [
        "food_prices.describe(include='object')"
      ]
    },
    {
      "cell_type": "code",
      "execution_count": 8,
      "id": "3920ab57-227b-404f-ae9f-1d2e64531651",
      "metadata": {
        "colab": {
          "base_uri": "https://localhost:8080/",
          "height": 300
        },
        "id": "3920ab57-227b-404f-ae9f-1d2e64531651",
        "outputId": "16063f30-b37e-4b18-84be-d4e7a7fabd7b"
      },
      "outputs": [
        {
          "output_type": "execute_result",
          "data": {
            "text/plain": [
              "              price      usdprice\n",
              "count  11999.000000  11999.000000\n",
              "mean    1849.576110     17.289079\n",
              "std     2960.715674     26.456228\n",
              "min        5.000000      0.040000\n",
              "25%       55.205000      0.540000\n",
              "50%      150.000000      1.210000\n",
              "75%     2754.500000     26.960000\n",
              "max    18900.000000    150.810000"
            ],
            "text/html": [
              "\n",
              "  <div id=\"df-956211b9-17de-45ca-a3fb-aca58592a424\" class=\"colab-df-container\">\n",
              "    <div>\n",
              "<style scoped>\n",
              "    .dataframe tbody tr th:only-of-type {\n",
              "        vertical-align: middle;\n",
              "    }\n",
              "\n",
              "    .dataframe tbody tr th {\n",
              "        vertical-align: top;\n",
              "    }\n",
              "\n",
              "    .dataframe thead th {\n",
              "        text-align: right;\n",
              "    }\n",
              "</style>\n",
              "<table border=\"1\" class=\"dataframe\">\n",
              "  <thead>\n",
              "    <tr style=\"text-align: right;\">\n",
              "      <th></th>\n",
              "      <th>price</th>\n",
              "      <th>usdprice</th>\n",
              "    </tr>\n",
              "  </thead>\n",
              "  <tbody>\n",
              "    <tr>\n",
              "      <th>count</th>\n",
              "      <td>11999.000000</td>\n",
              "      <td>11999.000000</td>\n",
              "    </tr>\n",
              "    <tr>\n",
              "      <th>mean</th>\n",
              "      <td>1849.576110</td>\n",
              "      <td>17.289079</td>\n",
              "    </tr>\n",
              "    <tr>\n",
              "      <th>std</th>\n",
              "      <td>2960.715674</td>\n",
              "      <td>26.456228</td>\n",
              "    </tr>\n",
              "    <tr>\n",
              "      <th>min</th>\n",
              "      <td>5.000000</td>\n",
              "      <td>0.040000</td>\n",
              "    </tr>\n",
              "    <tr>\n",
              "      <th>25%</th>\n",
              "      <td>55.205000</td>\n",
              "      <td>0.540000</td>\n",
              "    </tr>\n",
              "    <tr>\n",
              "      <th>50%</th>\n",
              "      <td>150.000000</td>\n",
              "      <td>1.210000</td>\n",
              "    </tr>\n",
              "    <tr>\n",
              "      <th>75%</th>\n",
              "      <td>2754.500000</td>\n",
              "      <td>26.960000</td>\n",
              "    </tr>\n",
              "    <tr>\n",
              "      <th>max</th>\n",
              "      <td>18900.000000</td>\n",
              "      <td>150.810000</td>\n",
              "    </tr>\n",
              "  </tbody>\n",
              "</table>\n",
              "</div>\n",
              "    <div class=\"colab-df-buttons\">\n",
              "\n",
              "  <div class=\"colab-df-container\">\n",
              "    <button class=\"colab-df-convert\" onclick=\"convertToInteractive('df-956211b9-17de-45ca-a3fb-aca58592a424')\"\n",
              "            title=\"Convert this dataframe to an interactive table.\"\n",
              "            style=\"display:none;\">\n",
              "\n",
              "  <svg xmlns=\"http://www.w3.org/2000/svg\" height=\"24px\" viewBox=\"0 -960 960 960\">\n",
              "    <path d=\"M120-120v-720h720v720H120Zm60-500h600v-160H180v160Zm220 220h160v-160H400v160Zm0 220h160v-160H400v160ZM180-400h160v-160H180v160Zm440 0h160v-160H620v160ZM180-180h160v-160H180v160Zm440 0h160v-160H620v160Z\"/>\n",
              "  </svg>\n",
              "    </button>\n",
              "\n",
              "  <style>\n",
              "    .colab-df-container {\n",
              "      display:flex;\n",
              "      gap: 12px;\n",
              "    }\n",
              "\n",
              "    .colab-df-convert {\n",
              "      background-color: #E8F0FE;\n",
              "      border: none;\n",
              "      border-radius: 50%;\n",
              "      cursor: pointer;\n",
              "      display: none;\n",
              "      fill: #1967D2;\n",
              "      height: 32px;\n",
              "      padding: 0 0 0 0;\n",
              "      width: 32px;\n",
              "    }\n",
              "\n",
              "    .colab-df-convert:hover {\n",
              "      background-color: #E2EBFA;\n",
              "      box-shadow: 0px 1px 2px rgba(60, 64, 67, 0.3), 0px 1px 3px 1px rgba(60, 64, 67, 0.15);\n",
              "      fill: #174EA6;\n",
              "    }\n",
              "\n",
              "    .colab-df-buttons div {\n",
              "      margin-bottom: 4px;\n",
              "    }\n",
              "\n",
              "    [theme=dark] .colab-df-convert {\n",
              "      background-color: #3B4455;\n",
              "      fill: #D2E3FC;\n",
              "    }\n",
              "\n",
              "    [theme=dark] .colab-df-convert:hover {\n",
              "      background-color: #434B5C;\n",
              "      box-shadow: 0px 1px 3px 1px rgba(0, 0, 0, 0.15);\n",
              "      filter: drop-shadow(0px 1px 2px rgba(0, 0, 0, 0.3));\n",
              "      fill: #FFFFFF;\n",
              "    }\n",
              "  </style>\n",
              "\n",
              "    <script>\n",
              "      const buttonEl =\n",
              "        document.querySelector('#df-956211b9-17de-45ca-a3fb-aca58592a424 button.colab-df-convert');\n",
              "      buttonEl.style.display =\n",
              "        google.colab.kernel.accessAllowed ? 'block' : 'none';\n",
              "\n",
              "      async function convertToInteractive(key) {\n",
              "        const element = document.querySelector('#df-956211b9-17de-45ca-a3fb-aca58592a424');\n",
              "        const dataTable =\n",
              "          await google.colab.kernel.invokeFunction('convertToInteractive',\n",
              "                                                    [key], {});\n",
              "        if (!dataTable) return;\n",
              "\n",
              "        const docLinkHtml = 'Like what you see? Visit the ' +\n",
              "          '<a target=\"_blank\" href=https://colab.research.google.com/notebooks/data_table.ipynb>data table notebook</a>'\n",
              "          + ' to learn more about interactive tables.';\n",
              "        element.innerHTML = '';\n",
              "        dataTable['output_type'] = 'display_data';\n",
              "        await google.colab.output.renderOutput(dataTable, element);\n",
              "        const docLink = document.createElement('div');\n",
              "        docLink.innerHTML = docLinkHtml;\n",
              "        element.appendChild(docLink);\n",
              "      }\n",
              "    </script>\n",
              "  </div>\n",
              "\n",
              "\n",
              "<div id=\"df-72c0e116-18a8-45ce-9951-0297a64b8816\">\n",
              "  <button class=\"colab-df-quickchart\" onclick=\"quickchart('df-72c0e116-18a8-45ce-9951-0297a64b8816')\"\n",
              "            title=\"Suggest charts\"\n",
              "            style=\"display:none;\">\n",
              "\n",
              "<svg xmlns=\"http://www.w3.org/2000/svg\" height=\"24px\"viewBox=\"0 0 24 24\"\n",
              "     width=\"24px\">\n",
              "    <g>\n",
              "        <path d=\"M19 3H5c-1.1 0-2 .9-2 2v14c0 1.1.9 2 2 2h14c1.1 0 2-.9 2-2V5c0-1.1-.9-2-2-2zM9 17H7v-7h2v7zm4 0h-2V7h2v10zm4 0h-2v-4h2v4z\"/>\n",
              "    </g>\n",
              "</svg>\n",
              "  </button>\n",
              "\n",
              "<style>\n",
              "  .colab-df-quickchart {\n",
              "      --bg-color: #E8F0FE;\n",
              "      --fill-color: #1967D2;\n",
              "      --hover-bg-color: #E2EBFA;\n",
              "      --hover-fill-color: #174EA6;\n",
              "      --disabled-fill-color: #AAA;\n",
              "      --disabled-bg-color: #DDD;\n",
              "  }\n",
              "\n",
              "  [theme=dark] .colab-df-quickchart {\n",
              "      --bg-color: #3B4455;\n",
              "      --fill-color: #D2E3FC;\n",
              "      --hover-bg-color: #434B5C;\n",
              "      --hover-fill-color: #FFFFFF;\n",
              "      --disabled-bg-color: #3B4455;\n",
              "      --disabled-fill-color: #666;\n",
              "  }\n",
              "\n",
              "  .colab-df-quickchart {\n",
              "    background-color: var(--bg-color);\n",
              "    border: none;\n",
              "    border-radius: 50%;\n",
              "    cursor: pointer;\n",
              "    display: none;\n",
              "    fill: var(--fill-color);\n",
              "    height: 32px;\n",
              "    padding: 0;\n",
              "    width: 32px;\n",
              "  }\n",
              "\n",
              "  .colab-df-quickchart:hover {\n",
              "    background-color: var(--hover-bg-color);\n",
              "    box-shadow: 0 1px 2px rgba(60, 64, 67, 0.3), 0 1px 3px 1px rgba(60, 64, 67, 0.15);\n",
              "    fill: var(--button-hover-fill-color);\n",
              "  }\n",
              "\n",
              "  .colab-df-quickchart-complete:disabled,\n",
              "  .colab-df-quickchart-complete:disabled:hover {\n",
              "    background-color: var(--disabled-bg-color);\n",
              "    fill: var(--disabled-fill-color);\n",
              "    box-shadow: none;\n",
              "  }\n",
              "\n",
              "  .colab-df-spinner {\n",
              "    border: 2px solid var(--fill-color);\n",
              "    border-color: transparent;\n",
              "    border-bottom-color: var(--fill-color);\n",
              "    animation:\n",
              "      spin 1s steps(1) infinite;\n",
              "  }\n",
              "\n",
              "  @keyframes spin {\n",
              "    0% {\n",
              "      border-color: transparent;\n",
              "      border-bottom-color: var(--fill-color);\n",
              "      border-left-color: var(--fill-color);\n",
              "    }\n",
              "    20% {\n",
              "      border-color: transparent;\n",
              "      border-left-color: var(--fill-color);\n",
              "      border-top-color: var(--fill-color);\n",
              "    }\n",
              "    30% {\n",
              "      border-color: transparent;\n",
              "      border-left-color: var(--fill-color);\n",
              "      border-top-color: var(--fill-color);\n",
              "      border-right-color: var(--fill-color);\n",
              "    }\n",
              "    40% {\n",
              "      border-color: transparent;\n",
              "      border-right-color: var(--fill-color);\n",
              "      border-top-color: var(--fill-color);\n",
              "    }\n",
              "    60% {\n",
              "      border-color: transparent;\n",
              "      border-right-color: var(--fill-color);\n",
              "    }\n",
              "    80% {\n",
              "      border-color: transparent;\n",
              "      border-right-color: var(--fill-color);\n",
              "      border-bottom-color: var(--fill-color);\n",
              "    }\n",
              "    90% {\n",
              "      border-color: transparent;\n",
              "      border-bottom-color: var(--fill-color);\n",
              "    }\n",
              "  }\n",
              "</style>\n",
              "\n",
              "  <script>\n",
              "    async function quickchart(key) {\n",
              "      const quickchartButtonEl =\n",
              "        document.querySelector('#' + key + ' button');\n",
              "      quickchartButtonEl.disabled = true;  // To prevent multiple clicks.\n",
              "      quickchartButtonEl.classList.add('colab-df-spinner');\n",
              "      try {\n",
              "        const charts = await google.colab.kernel.invokeFunction(\n",
              "            'suggestCharts', [key], {});\n",
              "      } catch (error) {\n",
              "        console.error('Error during call to suggestCharts:', error);\n",
              "      }\n",
              "      quickchartButtonEl.classList.remove('colab-df-spinner');\n",
              "      quickchartButtonEl.classList.add('colab-df-quickchart-complete');\n",
              "    }\n",
              "    (() => {\n",
              "      let quickchartButtonEl =\n",
              "        document.querySelector('#df-72c0e116-18a8-45ce-9951-0297a64b8816 button');\n",
              "      quickchartButtonEl.style.display =\n",
              "        google.colab.kernel.accessAllowed ? 'block' : 'none';\n",
              "    })();\n",
              "  </script>\n",
              "</div>\n",
              "\n",
              "    </div>\n",
              "  </div>\n"
            ],
            "application/vnd.google.colaboratory.intrinsic+json": {
              "type": "dataframe",
              "summary": "{\n  \"name\": \"food_prices[['price', 'usdprice']]\",\n  \"rows\": 8,\n  \"fields\": [\n    {\n      \"column\": \"price\",\n      \"properties\": {\n        \"dtype\": \"number\",\n        \"std\": 6907.820201212026,\n        \"min\": 5.0,\n        \"max\": 18900.0,\n        \"num_unique_values\": 8,\n        \"samples\": [\n          1849.5761096758063,\n          150.0,\n          11999.0\n        ],\n        \"semantic_type\": \"\",\n        \"description\": \"\"\n      }\n    },\n    {\n      \"column\": \"usdprice\",\n      \"properties\": {\n        \"dtype\": \"number\",\n        \"std\": 4231.301365559333,\n        \"min\": 0.04,\n        \"max\": 11999.0,\n        \"num_unique_values\": 8,\n        \"samples\": [\n          17.28907908992416,\n          1.21,\n          11999.0\n        ],\n        \"semantic_type\": \"\",\n        \"description\": \"\"\n      }\n    }\n  ]\n}"
            }
          },
          "metadata": {},
          "execution_count": 8
        }
      ],
      "source": [
        "food_prices[['price', 'usdprice']].describe()"
      ]
    },
    {
      "cell_type": "markdown",
      "id": "78853ab8-ce66-4615-b9cc-57b48b24c02b",
      "metadata": {
        "id": "78853ab8-ce66-4615-b9cc-57b48b24c02b"
      },
      "source": [
        "## Data Cleaning and Preprocessing"
      ]
    },
    {
      "cell_type": "code",
      "execution_count": 9,
      "id": "8be27885-8854-4417-a873-ac1b8db7db18",
      "metadata": {
        "colab": {
          "base_uri": "https://localhost:8080/",
          "height": 366
        },
        "id": "8be27885-8854-4417-a873-ac1b8db7db18",
        "outputId": "3b7f7fee-761b-4e18-e727-4b8cc16a1441"
      },
      "outputs": [
        {
          "output_type": "execute_result",
          "data": {
            "text/plain": [
              "category\n",
              "cereals and tubers       5880\n",
              "pulses and nuts          2390\n",
              "vegetables and fruits    1453\n",
              "miscellaneous food        653\n",
              "oil and fats              529\n",
              "milk and dairy            494\n",
              "meat, fish and eggs       466\n",
              "non-food                  134\n",
              "Name: count, dtype: int64"
            ],
            "text/html": [
              "<div>\n",
              "<style scoped>\n",
              "    .dataframe tbody tr th:only-of-type {\n",
              "        vertical-align: middle;\n",
              "    }\n",
              "\n",
              "    .dataframe tbody tr th {\n",
              "        vertical-align: top;\n",
              "    }\n",
              "\n",
              "    .dataframe thead th {\n",
              "        text-align: right;\n",
              "    }\n",
              "</style>\n",
              "<table border=\"1\" class=\"dataframe\">\n",
              "  <thead>\n",
              "    <tr style=\"text-align: right;\">\n",
              "      <th></th>\n",
              "      <th>count</th>\n",
              "    </tr>\n",
              "    <tr>\n",
              "      <th>category</th>\n",
              "      <th></th>\n",
              "    </tr>\n",
              "  </thead>\n",
              "  <tbody>\n",
              "    <tr>\n",
              "      <th>cereals and tubers</th>\n",
              "      <td>5880</td>\n",
              "    </tr>\n",
              "    <tr>\n",
              "      <th>pulses and nuts</th>\n",
              "      <td>2390</td>\n",
              "    </tr>\n",
              "    <tr>\n",
              "      <th>vegetables and fruits</th>\n",
              "      <td>1453</td>\n",
              "    </tr>\n",
              "    <tr>\n",
              "      <th>miscellaneous food</th>\n",
              "      <td>653</td>\n",
              "    </tr>\n",
              "    <tr>\n",
              "      <th>oil and fats</th>\n",
              "      <td>529</td>\n",
              "    </tr>\n",
              "    <tr>\n",
              "      <th>milk and dairy</th>\n",
              "      <td>494</td>\n",
              "    </tr>\n",
              "    <tr>\n",
              "      <th>meat, fish and eggs</th>\n",
              "      <td>466</td>\n",
              "    </tr>\n",
              "    <tr>\n",
              "      <th>non-food</th>\n",
              "      <td>134</td>\n",
              "    </tr>\n",
              "  </tbody>\n",
              "</table>\n",
              "</div><br><label><b>dtype:</b> int64</label>"
            ]
          },
          "metadata": {},
          "execution_count": 9
        }
      ],
      "source": [
        "\n",
        "# Get the value counts for each category\n",
        "category_counts = food_prices['category'].value_counts()\n",
        "\n",
        "# Display the category distribution\n",
        "category_counts"
      ]
    },
    {
      "cell_type": "markdown",
      "id": "e3612b39-e862-4dcc-b10a-9d4642914eac",
      "metadata": {
        "id": "e3612b39-e862-4dcc-b10a-9d4642914eac"
      },
      "source": [
        "- **\"cereals and tubers\" is the most frequent category in the dataset with 5,880 entries.**"
      ]
    },
    {
      "cell_type": "markdown",
      "id": "16da9523-c6c9-42b2-bdfb-e6714fbd6783",
      "metadata": {
        "id": "16da9523-c6c9-42b2-bdfb-e6714fbd6783"
      },
      "source": [
        "#### check for unique categories"
      ]
    },
    {
      "cell_type": "code",
      "execution_count": 10,
      "id": "c62b9c2b-2901-4462-8241-8926d71fdc4f",
      "metadata": {
        "id": "c62b9c2b-2901-4462-8241-8926d71fdc4f"
      },
      "outputs": [],
      "source": [
        "# Rename columns to remove leading and trailing spaces\n",
        "food_prices.columns = food_prices.columns.str.strip()"
      ]
    },
    {
      "cell_type": "markdown",
      "id": "f9fcf90f-9896-4b48-98bf-c123c7c151b5",
      "metadata": {
        "id": "f9fcf90f-9896-4b48-98bf-c123c7c151b5"
      },
      "source": [
        "#### Check for missing values and handle them if any is present."
      ]
    },
    {
      "cell_type": "code",
      "execution_count": 11,
      "id": "bd2e166b-c9d6-4558-99eb-f17a37bedc8f",
      "metadata": {
        "colab": {
          "base_uri": "https://localhost:8080/",
          "height": 523
        },
        "id": "bd2e166b-c9d6-4558-99eb-f17a37bedc8f",
        "outputId": "eb037bee-775c-4f84-eb9c-b377ef40551b"
      },
      "outputs": [
        {
          "output_type": "execute_result",
          "data": {
            "text/plain": [
              "date         0\n",
              "admin1       0\n",
              "admin2       0\n",
              "market       0\n",
              "latitude     0\n",
              "longitude    0\n",
              "category     0\n",
              "commodity    0\n",
              "unit         0\n",
              "priceflag    0\n",
              "pricetype    0\n",
              "currency     0\n",
              "price        0\n",
              "usdprice     0\n",
              "dtype: int64"
            ],
            "text/html": [
              "<div>\n",
              "<style scoped>\n",
              "    .dataframe tbody tr th:only-of-type {\n",
              "        vertical-align: middle;\n",
              "    }\n",
              "\n",
              "    .dataframe tbody tr th {\n",
              "        vertical-align: top;\n",
              "    }\n",
              "\n",
              "    .dataframe thead th {\n",
              "        text-align: right;\n",
              "    }\n",
              "</style>\n",
              "<table border=\"1\" class=\"dataframe\">\n",
              "  <thead>\n",
              "    <tr style=\"text-align: right;\">\n",
              "      <th></th>\n",
              "      <th>0</th>\n",
              "    </tr>\n",
              "  </thead>\n",
              "  <tbody>\n",
              "    <tr>\n",
              "      <th>date</th>\n",
              "      <td>0</td>\n",
              "    </tr>\n",
              "    <tr>\n",
              "      <th>admin1</th>\n",
              "      <td>0</td>\n",
              "    </tr>\n",
              "    <tr>\n",
              "      <th>admin2</th>\n",
              "      <td>0</td>\n",
              "    </tr>\n",
              "    <tr>\n",
              "      <th>market</th>\n",
              "      <td>0</td>\n",
              "    </tr>\n",
              "    <tr>\n",
              "      <th>latitude</th>\n",
              "      <td>0</td>\n",
              "    </tr>\n",
              "    <tr>\n",
              "      <th>longitude</th>\n",
              "      <td>0</td>\n",
              "    </tr>\n",
              "    <tr>\n",
              "      <th>category</th>\n",
              "      <td>0</td>\n",
              "    </tr>\n",
              "    <tr>\n",
              "      <th>commodity</th>\n",
              "      <td>0</td>\n",
              "    </tr>\n",
              "    <tr>\n",
              "      <th>unit</th>\n",
              "      <td>0</td>\n",
              "    </tr>\n",
              "    <tr>\n",
              "      <th>priceflag</th>\n",
              "      <td>0</td>\n",
              "    </tr>\n",
              "    <tr>\n",
              "      <th>pricetype</th>\n",
              "      <td>0</td>\n",
              "    </tr>\n",
              "    <tr>\n",
              "      <th>currency</th>\n",
              "      <td>0</td>\n",
              "    </tr>\n",
              "    <tr>\n",
              "      <th>price</th>\n",
              "      <td>0</td>\n",
              "    </tr>\n",
              "    <tr>\n",
              "      <th>usdprice</th>\n",
              "      <td>0</td>\n",
              "    </tr>\n",
              "  </tbody>\n",
              "</table>\n",
              "</div><br><label><b>dtype:</b> int64</label>"
            ]
          },
          "metadata": {},
          "execution_count": 11
        }
      ],
      "source": [
        "#Missng values\n",
        "food_prices.isna().sum()"
      ]
    },
    {
      "cell_type": "markdown",
      "id": "b1971c9d-46c8-49cb-8721-12f97093a3cb",
      "metadata": {
        "id": "b1971c9d-46c8-49cb-8721-12f97093a3cb"
      },
      "source": [
        "# Exploratory Data Analysis"
      ]
    },
    {
      "cell_type": "markdown",
      "id": "e5829352-b01a-425f-84eb-a0ce452d7833",
      "metadata": {
        "id": "e5829352-b01a-425f-84eb-a0ce452d7833"
      },
      "source": [
        "### Cereals and Tubers as Staple foods in Kenya"
      ]
    },
    {
      "cell_type": "code",
      "execution_count": 12,
      "id": "e3a16a61-4024-45b1-b1bd-ad55e4ecfa5e",
      "metadata": {
        "colab": {
          "base_uri": "https://localhost:8080/"
        },
        "id": "e3a16a61-4024-45b1-b1bd-ad55e4ecfa5e",
        "outputId": "69661db4-2190-46b2-af6c-e60dc76433ec"
      },
      "outputs": [
        {
          "output_type": "stream",
          "name": "stdout",
          "text": [
            "Index(['date', 'provincial_region', 'admin2', 'market', 'latitude',\n",
            "       'longitude', 'category', 'commodity', 'unit', 'priceflag', 'pricetype',\n",
            "       'currency', 'price', 'usdprice'],\n",
            "      dtype='object')\n"
          ]
        }
      ],
      "source": [
        "# Check if 'admin1' exists and rename it if necessary\n",
        "if 'admin1' in food_prices.columns:\n",
        "    food_prices.rename(columns={'admin1': 'provincial_region'}, inplace=True)\n",
        "else:\n",
        "    print(\"Column 'admin1' not found!\")\n",
        "\n",
        "# Check if renaming was successful\n",
        "print(food_prices.columns)"
      ]
    },
    {
      "cell_type": "markdown",
      "id": "4ef2f488-b610-4425-a2d3-699af6db4635",
      "metadata": {
        "id": "4ef2f488-b610-4425-a2d3-699af6db4635"
      },
      "source": [
        "#### Distribution of Food categories"
      ]
    },
    {
      "cell_type": "code",
      "execution_count": 13,
      "id": "0a1f230a-d2e9-455e-9dc7-ea0480d9baeb",
      "metadata": {
        "colab": {
          "base_uri": "https://localhost:8080/",
          "height": 428
        },
        "id": "0a1f230a-d2e9-455e-9dc7-ea0480d9baeb",
        "outputId": "d3060182-e1a7-4469-c954-459dd33a562a"
      },
      "outputs": [
        {
          "output_type": "display_data",
          "data": {
            "text/plain": [
              "<Figure size 640x480 with 1 Axes>"
            ],
            "image/png": "[encoded data removed]"
          },
          "metadata": {}
        }
      ],
      "source": [
        "# Pie chart for 'category'\n",
        "proportions_category = food_prices['category'].value_counts()\n",
        "food_prices.rename(columns={'admin1': 'provincial region'}, inplace=True)\n",
        "proportions_category.plot(kind='pie', autopct='%1.1f%%')\n",
        "plt.title('Proportion of Each Category')\n",
        "plt.ylabel('')\n",
        "plt.show()"
      ]
    },
    {
      "cell_type": "markdown",
      "id": "ba90a26e-59a7-44ab-b895-9c6f1db99c08",
      "metadata": {
        "id": "ba90a26e-59a7-44ab-b895-9c6f1db99c08"
      },
      "source": [
        "**Key Insights**:<br>\n",
        "***Dominance of Cereals and Tubers***: This category constitutes the largest portion of 49% of the total. This suggests a significant reliance on these food products in the Kenya.\n",
        "\n",
        "***Importance of Pulses and Nuts***: With 19.9% of the data, pulses and nuts represent a substantial component of the diet. These are excellent sources of protein and other essential nutrients.\n",
        "\n",
        "***Vegetables and Fruits Underrepresented***: While crucial for a balanced diet, vegetables and fruits comprise only 12.1% of the dataset. This indicates a potential area for dietary improvement.\n",
        "\n",
        "***Moderate Consumption of Other Categories***: The remaining categories (meat, fish, eggs, milk and dairy, oil and fats, miscellaneous food, and non-food) occupy relatively smaller proportions of the dataset. <br>\n",
        "\n",
        "**Potential Implications**:<br>\n",
        "***Dietary Challenges***: The relatively low proportion of fruits, vegetables, and potentially protein-rich foods like meat, fish, and eggs could indicate potential nutritional deficiencies in the population.<br>\n",
        "***Food Security***: A heavy reliance on cereals and tubers might make the population vulnerable to fluctuations in their production or prices.<br>\n",
        "Policy Implications: The data could inform policies aimed at promoting diversified diets, increasing fruit and vegetable consumption, and addressing food security concerns."
      ]
    },
    {
      "cell_type": "markdown",
      "id": "25105334-3982-442c-8150-d78729d15bfd",
      "metadata": {
        "id": "25105334-3982-442c-8150-d78729d15bfd"
      },
      "source": [
        "#### Market Distribution"
      ]
    },
    {
      "cell_type": "code",
      "execution_count": 14,
      "id": "43f02b02-06a9-4746-8a24-632b2fd783f2",
      "metadata": {
        "colab": {
          "base_uri": "https://localhost:8080/",
          "height": 598
        },
        "id": "43f02b02-06a9-4746-8a24-632b2fd783f2",
        "outputId": "91f5f4df-8e5e-46f8-ddaf-8838733a13a8"
      },
      "outputs": [
        {
          "output_type": "display_data",
          "data": {
            "text/plain": [
              "<Figure size 1000x700 with 1 Axes>"
            ],
            "image/png": "[encoded data removed]"
          },
          "metadata": {}
        }
      ],
      "source": [
        "market_counts = food_prices['market'].value_counts()\n",
        "top_ten_markets = market_counts.head(10)\n",
        "\n",
        "# Plotting the pie chart\n",
        "plt.figure(figsize=(10, 7))\n",
        "plt.pie(top_ten_markets, labels=top_ten_markets.index, autopct='%1.1f%%', startangle=140, colors=plt.cm.Paired(range(10)))\n",
        "plt.title('Top 10 Markets by Number of Entries')\n",
        "plt.show()"
      ]
    },
    {
      "cell_type": "markdown",
      "id": "d9b5a0e4-3535-4dce-8e29-155600aaec2e",
      "metadata": {
        "id": "d9b5a0e4-3535-4dce-8e29-155600aaec2e"
      },
      "source": [
        "**Insights**:<br>\n",
        "\n",
        "***Nairobi Dominance***: Nairobi is the leading market, capturing a substantial 21.7% of the total entries. This highlights its significance as a major commercial hub in Kenya. <br>\n",
        "***Regional Distribution***: The chart showcases a good representation of markets across different regions of Kenya. We see major cities like Mombasa (13.1%), Kisumu (17.9%), and Eldoret (9.1%) featured prominently, indicating their importance in terms of market activity.<br>\n",
        "***Emerging Markets***: Notably, markets like Garissa, Kakuma, and Hagadera, located in the North Eastern and Rift Valley regions, have a presence in the top 10. This suggests growing economic activity and market potential in these areas.<br>\n",
        "***Market Concentration***: While Nairobi holds a dominant position, the remaining markets share a relatively smaller portion of the total entries. This suggests opportunities for expansion and growth in these regions."
      ]
    },
    {
      "cell_type": "markdown",
      "id": "43bf87ef-3b0b-443a-8be5-73d7df460bfb",
      "metadata": {
        "id": "43bf87ef-3b0b-443a-8be5-73d7df460bfb"
      },
      "source": [
        "### Price variation across regions"
      ]
    },
    {
      "cell_type": "code",
      "execution_count": 15,
      "id": "4664cb63-d379-405c-8484-361f7b807ca4",
      "metadata": {
        "colab": {
          "base_uri": "https://localhost:8080/",
          "height": 543
        },
        "id": "4664cb63-d379-405c-8484-361f7b807ca4",
        "outputId": "aec7d149-b001-43c4-ae27-470ee2ffd411"
      },
      "outputs": [
        {
          "output_type": "display_data",
          "data": {
            "text/plain": [
              "<Figure size 1400x800 with 0 Axes>"
            ]
          },
          "metadata": {}
        },
        {
          "output_type": "display_data",
          "data": {
            "text/plain": [
              "<Figure size 640x480 with 1 Axes>"
            ],
            "image/png": "[encoded data removed]"
          },
          "metadata": {}
        }
      ],
      "source": [
        "plt.figure(figsize=(14, 8))\n",
        "food_prices.boxplot(column='price', by='provincial_region', grid=False)\n",
        "plt.xlabel('Region')\n",
        "plt.ylabel('Price in KES')\n",
        "plt.title('Price Variation by Region')\n",
        "plt.suptitle('')\n",
        "plt.xticks(rotation=45)\n",
        "plt.show()"
      ]
    },
    {
      "cell_type": "markdown",
      "id": "6270e49e-3fb4-4678-8bd3-bcdb004a38f7",
      "metadata": {
        "id": "6270e49e-3fb4-4678-8bd3-bcdb004a38f7"
      },
      "source": [
        "**Insights**:\n",
        "\n",
        "Price Variation: There is significant price variation across different regions for the product represented.\n",
        "\n",
        "Median Prices:\n",
        "- Nairobi has the highest median price.\n",
        "- Central, Coast, and Eastern regions have similar median prices, which are lower than Nairobi.\n",
        "- North Eastern, Nyanza, and Rift Valley have the lowest median prices.<br>\n",
        "\n",
        "**In Central region, majority are producing their own food, hence less people spend on food products.** <br>\n",
        "\n",
        "Nairobi has the widest price range, suggesting more price variability in this region.\n",
        "<br>\n",
        "North Eastern and Nyanza seem to have extreme price points in these regions. <br>\n",
        "\n",
        "**Possible Explanations for Price Variation:**\n",
        "\n",
        "- Economic factors: Differences in income levels, purchasing power, and economic development across regions can influence prices.<br>\n",
        "- Supply and demand: Variations in supply and demand for the product in different regions can affect prices.<br>\n",
        "- Transportation costs: The cost of transporting the product to different regions can impact prices.<br>\n",
        "- Market competition: The level of competition among sellers in each region can influence price levels."
      ]
    },
    {
      "cell_type": "markdown",
      "id": "985440f2-632f-4db5-ab98-a1607d7b9684",
      "metadata": {
        "id": "985440f2-632f-4db5-ab98-a1607d7b9684"
      },
      "source": [
        "#### Filter the dataset to capture only the most common category"
      ]
    },
    {
      "cell_type": "code",
      "execution_count": 16,
      "id": "dcece650-8e08-4105-becc-788185d0f319",
      "metadata": {
        "colab": {
          "base_uri": "https://localhost:8080/",
          "height": 704
        },
        "id": "dcece650-8e08-4105-becc-788185d0f319",
        "outputId": "22197d52-9ba2-4fc8-9565-c8769a60ff62"
      },
      "outputs": [
        {
          "output_type": "execute_result",
          "data": {
            "text/plain": [
              "            date                 market      commodity   unit  priceflag  \\\n",
              "0     2006-01-15                Mombasa          Maize     KG     actual   \n",
              "1     2006-01-15                Mombasa  Maize (white)  90 KG     actual   \n",
              "3     2006-01-15                  Kitui  Maize (white)     KG     actual   \n",
              "4     2006-01-15                  Kitui        Sorghum  90 KG     actual   \n",
              "5     2006-01-15               Marsabit  Maize (white)     KG     actual   \n",
              "...          ...                    ...            ...    ...        ...   \n",
              "11989 2024-06-15  Kalobeyei (Village 2)        Sorghum     KG  aggregate   \n",
              "11992 2024-06-15  Kalobeyei (Village 3)          Maize     KG  aggregate   \n",
              "11993 2024-06-15  Kalobeyei (Village 3)    Maize flour     KG  aggregate   \n",
              "11994 2024-06-15  Kalobeyei (Village 3)           Rice     KG  aggregate   \n",
              "11995 2024-06-15  Kalobeyei (Village 3)        Sorghum     KG  aggregate   \n",
              "\n",
              "       pricetype currency    price  usdprice  \n",
              "0      Wholesale      KES    16.13      0.22  \n",
              "1      Wholesale      KES  1480.00     20.50  \n",
              "3         Retail      KES    17.00      0.24  \n",
              "4      Wholesale      KES  1800.00     24.94  \n",
              "5         Retail      KES    21.00      0.29  \n",
              "...          ...      ...      ...       ...  \n",
              "11989     Retail      KES    70.00      0.54  \n",
              "11992     Retail      KES    50.00      0.39  \n",
              "11993     Retail      KES    80.00      0.62  \n",
              "11994     Retail      KES   135.00      1.04  \n",
              "11995     Retail      KES    65.00      0.50  \n",
              "\n",
              "[5880 rows x 9 columns]"
            ],
            "text/html": [
              "\n",
              "  <div id=\"df-48aeb89c-3478-4dae-b4ec-2f4da6ef21f7\" class=\"colab-df-container\">\n",
              "    <div>\n",
              "<style scoped>\n",
              "    .dataframe tbody tr th:only-of-type {\n",
              "        vertical-align: middle;\n",
              "    }\n",
              "\n",
              "    .dataframe tbody tr th {\n",
              "        vertical-align: top;\n",
              "    }\n",
              "\n",
              "    .dataframe thead th {\n",
              "        text-align: right;\n",
              "    }\n",
              "</style>\n",
              "<table border=\"1\" class=\"dataframe\">\n",
              "  <thead>\n",
              "    <tr style=\"text-align: right;\">\n",
              "      <th></th>\n",
              "      <th>date</th>\n",
              "      <th>market</th>\n",
              "      <th>commodity</th>\n",
              "      <th>unit</th>\n",
              "      <th>priceflag</th>\n",
              "      <th>pricetype</th>\n",
              "      <th>currency</th>\n",
              "      <th>price</th>\n",
              "      <th>usdprice</th>\n",
              "    </tr>\n",
              "  </thead>\n",
              "  <tbody>\n",
              "    <tr>\n",
              "      <th>0</th>\n",
              "      <td>2006-01-15</td>\n",
              "      <td>Mombasa</td>\n",
              "      <td>Maize</td>\n",
              "      <td>KG</td>\n",
              "      <td>actual</td>\n",
              "      <td>Wholesale</td>\n",
              "      <td>KES</td>\n",
              "      <td>16.13</td>\n",
              "      <td>0.22</td>\n",
              "    </tr>\n",
              "    <tr>\n",
              "      <th>1</th>\n",
              "      <td>2006-01-15</td>\n",
              "      <td>Mombasa</td>\n",
              "      <td>Maize (white)</td>\n",
              "      <td>90 KG</td>\n",
              "      <td>actual</td>\n",
              "      <td>Wholesale</td>\n",
              "      <td>KES</td>\n",
              "      <td>1480.00</td>\n",
              "      <td>20.50</td>\n",
              "    </tr>\n",
              "    <tr>\n",
              "      <th>3</th>\n",
              "      <td>2006-01-15</td>\n",
              "      <td>Kitui</td>\n",
              "      <td>Maize (white)</td>\n",
              "      <td>KG</td>\n",
              "      <td>actual</td>\n",
              "      <td>Retail</td>\n",
              "      <td>KES</td>\n",
              "      <td>17.00</td>\n",
              "      <td>0.24</td>\n",
              "    </tr>\n",
              "    <tr>\n",
              "      <th>4</th>\n",
              "      <td>2006-01-15</td>\n",
              "      <td>Kitui</td>\n",
              "      <td>Sorghum</td>\n",
              "      <td>90 KG</td>\n",
              "      <td>actual</td>\n",
              "      <td>Wholesale</td>\n",
              "      <td>KES</td>\n",
              "      <td>1800.00</td>\n",
              "      <td>24.94</td>\n",
              "    </tr>\n",
              "    <tr>\n",
              "      <th>5</th>\n",
              "      <td>2006-01-15</td>\n",
              "      <td>Marsabit</td>\n",
              "      <td>Maize (white)</td>\n",
              "      <td>KG</td>\n",
              "      <td>actual</td>\n",
              "      <td>Retail</td>\n",
              "      <td>KES</td>\n",
              "      <td>21.00</td>\n",
              "      <td>0.29</td>\n",
              "    </tr>\n",
              "    <tr>\n",
              "      <th>...</th>\n",
              "      <td>...</td>\n",
              "      <td>...</td>\n",
              "      <td>...</td>\n",
              "      <td>...</td>\n",
              "      <td>...</td>\n",
              "      <td>...</td>\n",
              "      <td>...</td>\n",
              "      <td>...</td>\n",
              "      <td>...</td>\n",
              "    </tr>\n",
              "    <tr>\n",
              "      <th>11989</th>\n",
              "      <td>2024-06-15</td>\n",
              "      <td>Kalobeyei (Village 2)</td>\n",
              "      <td>Sorghum</td>\n",
              "      <td>KG</td>\n",
              "      <td>aggregate</td>\n",
              "      <td>Retail</td>\n",
              "      <td>KES</td>\n",
              "      <td>70.00</td>\n",
              "      <td>0.54</td>\n",
              "    </tr>\n",
              "    <tr>\n",
              "      <th>11992</th>\n",
              "      <td>2024-06-15</td>\n",
              "      <td>Kalobeyei (Village 3)</td>\n",
              "      <td>Maize</td>\n",
              "      <td>KG</td>\n",
              "      <td>aggregate</td>\n",
              "      <td>Retail</td>\n",
              "      <td>KES</td>\n",
              "      <td>50.00</td>\n",
              "      <td>0.39</td>\n",
              "    </tr>\n",
              "    <tr>\n",
              "      <th>11993</th>\n",
              "      <td>2024-06-15</td>\n",
              "      <td>Kalobeyei (Village 3)</td>\n",
              "      <td>Maize flour</td>\n",
              "      <td>KG</td>\n",
              "      <td>aggregate</td>\n",
              "      <td>Retail</td>\n",
              "      <td>KES</td>\n",
              "      <td>80.00</td>\n",
              "      <td>0.62</td>\n",
              "    </tr>\n",
              "    <tr>\n",
              "      <th>11994</th>\n",
              "      <td>2024-06-15</td>\n",
              "      <td>Kalobeyei (Village 3)</td>\n",
              "      <td>Rice</td>\n",
              "      <td>KG</td>\n",
              "      <td>aggregate</td>\n",
              "      <td>Retail</td>\n",
              "      <td>KES</td>\n",
              "      <td>135.00</td>\n",
              "      <td>1.04</td>\n",
              "    </tr>\n",
              "    <tr>\n",
              "      <th>11995</th>\n",
              "      <td>2024-06-15</td>\n",
              "      <td>Kalobeyei (Village 3)</td>\n",
              "      <td>Sorghum</td>\n",
              "      <td>KG</td>\n",
              "      <td>aggregate</td>\n",
              "      <td>Retail</td>\n",
              "      <td>KES</td>\n",
              "      <td>65.00</td>\n",
              "      <td>0.50</td>\n",
              "    </tr>\n",
              "  </tbody>\n",
              "</table>\n",
              "<p>5880 rows × 9 columns</p>\n",
              "</div>\n",
              "    <div class=\"colab-df-buttons\">\n",
              "\n",
              "  <div class=\"colab-df-container\">\n",
              "    <button class=\"colab-df-convert\" onclick=\"convertToInteractive('df-48aeb89c-3478-4dae-b4ec-2f4da6ef21f7')\"\n",
              "            title=\"Convert this dataframe to an interactive table.\"\n",
              "            style=\"display:none;\">\n",
              "\n",
              "  <svg xmlns=\"http://www.w3.org/2000/svg\" height=\"24px\" viewBox=\"0 -960 960 960\">\n",
              "    <path d=\"M120-120v-720h720v720H120Zm60-500h600v-160H180v160Zm220 220h160v-160H400v160Zm0 220h160v-160H400v160ZM180-400h160v-160H180v160Zm440 0h160v-160H620v160ZM180-180h160v-160H180v160Zm440 0h160v-160H620v160Z\"/>\n",
              "  </svg>\n",
              "    </button>\n",
              "\n",
              "  <style>\n",
              "    .colab-df-container {\n",
              "      display:flex;\n",
              "      gap: 12px;\n",
              "    }\n",
              "\n",
              "    .colab-df-convert {\n",
              "      background-color: #E8F0FE;\n",
              "      border: none;\n",
              "      border-radius: 50%;\n",
              "      cursor: pointer;\n",
              "      display: none;\n",
              "      fill: #1967D2;\n",
              "      height: 32px;\n",
              "      padding: 0 0 0 0;\n",
              "      width: 32px;\n",
              "    }\n",
              "\n",
              "    .colab-df-convert:hover {\n",
              "      background-color: #E2EBFA;\n",
              "      box-shadow: 0px 1px 2px rgba(60, 64, 67, 0.3), 0px 1px 3px 1px rgba(60, 64, 67, 0.15);\n",
              "      fill: #174EA6;\n",
              "    }\n",
              "\n",
              "    .colab-df-buttons div {\n",
              "      margin-bottom: 4px;\n",
              "    }\n",
              "\n",
              "    [theme=dark] .colab-df-convert {\n",
              "      background-color: #3B4455;\n",
              "      fill: #D2E3FC;\n",
              "    }\n",
              "\n",
              "    [theme=dark] .colab-df-convert:hover {\n",
              "      background-color: #434B5C;\n",
              "      box-shadow: 0px 1px 3px 1px rgba(0, 0, 0, 0.15);\n",
              "      filter: drop-shadow(0px 1px 2px rgba(0, 0, 0, 0.3));\n",
              "      fill: #FFFFFF;\n",
              "    }\n",
              "  </style>\n",
              "\n",
              "    <script>\n",
              "      const buttonEl =\n",
              "        document.querySelector('#df-48aeb89c-3478-4dae-b4ec-2f4da6ef21f7 button.colab-df-convert');\n",
              "      buttonEl.style.display =\n",
              "        google.colab.kernel.accessAllowed ? 'block' : 'none';\n",
              "\n",
              "      async function convertToInteractive(key) {\n",
              "        const element = document.querySelector('#df-48aeb89c-3478-4dae-b4ec-2f4da6ef21f7');\n",
              "        const dataTable =\n",
              "          await google.colab.kernel.invokeFunction('convertToInteractive',\n",
              "                                                    [key], {});\n",
              "        if (!dataTable) return;\n",
              "\n",
              "        const docLinkHtml = 'Like what you see? Visit the ' +\n",
              "          '<a target=\"_blank\" href=https://colab.research.google.com/notebooks/data_table.ipynb>data table notebook</a>'\n",
              "          + ' to learn more about interactive tables.';\n",
              "        element.innerHTML = '';\n",
              "        dataTable['output_type'] = 'display_data';\n",
              "        await google.colab.output.renderOutput(dataTable, element);\n",
              "        const docLink = document.createElement('div');\n",
              "        docLink.innerHTML = docLinkHtml;\n",
              "        element.appendChild(docLink);\n",
              "      }\n",
              "    </script>\n",
              "  </div>\n",
              "\n",
              "\n",
              "<div id=\"df-938a4055-2ccc-4bcc-bae0-cbd91794320e\">\n",
              "  <button class=\"colab-df-quickchart\" onclick=\"quickchart('df-938a4055-2ccc-4bcc-bae0-cbd91794320e')\"\n",
              "            title=\"Suggest charts\"\n",
              "            style=\"display:none;\">\n",
              "\n",
              "<svg xmlns=\"http://www.w3.org/2000/svg\" height=\"24px\"viewBox=\"0 0 24 24\"\n",
              "     width=\"24px\">\n",
              "    <g>\n",
              "        <path d=\"M19 3H5c-1.1 0-2 .9-2 2v14c0 1.1.9 2 2 2h14c1.1 0 2-.9 2-2V5c0-1.1-.9-2-2-2zM9 17H7v-7h2v7zm4 0h-2V7h2v10zm4 0h-2v-4h2v4z\"/>\n",
              "    </g>\n",
              "</svg>\n",
              "  </button>\n",
              "\n",
              "<style>\n",
              "  .colab-df-quickchart {\n",
              "      --bg-color: #E8F0FE;\n",
              "      --fill-color: #1967D2;\n",
              "      --hover-bg-color: #E2EBFA;\n",
              "      --hover-fill-color: #174EA6;\n",
              "      --disabled-fill-color: #AAA;\n",
              "      --disabled-bg-color: #DDD;\n",
              "  }\n",
              "\n",
              "  [theme=dark] .colab-df-quickchart {\n",
              "      --bg-color: #3B4455;\n",
              "      --fill-color: #D2E3FC;\n",
              "      --hover-bg-color: #434B5C;\n",
              "      --hover-fill-color: #FFFFFF;\n",
              "      --disabled-bg-color: #3B4455;\n",
              "      --disabled-fill-color: #666;\n",
              "  }\n",
              "\n",
              "  .colab-df-quickchart {\n",
              "    background-color: var(--bg-color);\n",
              "    border: none;\n",
              "    border-radius: 50%;\n",
              "    cursor: pointer;\n",
              "    display: none;\n",
              "    fill: var(--fill-color);\n",
              "    height: 32px;\n",
              "    padding: 0;\n",
              "    width: 32px;\n",
              "  }\n",
              "\n",
              "  .colab-df-quickchart:hover {\n",
              "    background-color: var(--hover-bg-color);\n",
              "    box-shadow: 0 1px 2px rgba(60, 64, 67, 0.3), 0 1px 3px 1px rgba(60, 64, 67, 0.15);\n",
              "    fill: var(--button-hover-fill-color);\n",
              "  }\n",
              "\n",
              "  .colab-df-quickchart-complete:disabled,\n",
              "  .colab-df-quickchart-complete:disabled:hover {\n",
              "    background-color: var(--disabled-bg-color);\n",
              "    fill: var(--disabled-fill-color);\n",
              "    box-shadow: none;\n",
              "  }\n",
              "\n",
              "  .colab-df-spinner {\n",
              "    border: 2px solid var(--fill-color);\n",
              "    border-color: transparent;\n",
              "    border-bottom-color: var(--fill-color);\n",
              "    animation:\n",
              "      spin 1s steps(1) infinite;\n",
              "  }\n",
              "\n",
              "  @keyframes spin {\n",
              "    0% {\n",
              "      border-color: transparent;\n",
              "      border-bottom-color: var(--fill-color);\n",
              "      border-left-color: var(--fill-color);\n",
              "    }\n",
              "    20% {\n",
              "      border-color: transparent;\n",
              "      border-left-color: var(--fill-color);\n",
              "      border-top-color: var(--fill-color);\n",
              "    }\n",
              "    30% {\n",
              "      border-color: transparent;\n",
              "      border-left-color: var(--fill-color);\n",
              "      border-top-color: var(--fill-color);\n",
              "      border-right-color: var(--fill-color);\n",
              "    }\n",
              "    40% {\n",
              "      border-color: transparent;\n",
              "      border-right-color: var(--fill-color);\n",
              "      border-top-color: var(--fill-color);\n",
              "    }\n",
              "    60% {\n",
              "      border-color: transparent;\n",
              "      border-right-color: var(--fill-color);\n",
              "    }\n",
              "    80% {\n",
              "      border-color: transparent;\n",
              "      border-right-color: var(--fill-color);\n",
              "      border-bottom-color: var(--fill-color);\n",
              "    }\n",
              "    90% {\n",
              "      border-color: transparent;\n",
              "      border-bottom-color: var(--fill-color);\n",
              "    }\n",
              "  }\n",
              "</style>\n",
              "\n",
              "  <script>\n",
              "    async function quickchart(key) {\n",
              "      const quickchartButtonEl =\n",
              "        document.querySelector('#' + key + ' button');\n",
              "      quickchartButtonEl.disabled = true;  // To prevent multiple clicks.\n",
              "      quickchartButtonEl.classList.add('colab-df-spinner');\n",
              "      try {\n",
              "        const charts = await google.colab.kernel.invokeFunction(\n",
              "            'suggestCharts', [key], {});\n",
              "      } catch (error) {\n",
              "        console.error('Error during call to suggestCharts:', error);\n",
              "      }\n",
              "      quickchartButtonEl.classList.remove('colab-df-spinner');\n",
              "      quickchartButtonEl.classList.add('colab-df-quickchart-complete');\n",
              "    }\n",
              "    (() => {\n",
              "      let quickchartButtonEl =\n",
              "        document.querySelector('#df-938a4055-2ccc-4bcc-bae0-cbd91794320e button');\n",
              "      quickchartButtonEl.style.display =\n",
              "        google.colab.kernel.accessAllowed ? 'block' : 'none';\n",
              "    })();\n",
              "  </script>\n",
              "</div>\n",
              "\n",
              "  <div id=\"id_5d48a867-0b69-41bd-9b9a-d3aaa60bf866\">\n",
              "    <style>\n",
              "      .colab-df-generate {\n",
              "        background-color: #E8F0FE;\n",
              "        border: none;\n",
              "        border-radius: 50%;\n",
              "        cursor: pointer;\n",
              "        display: none;\n",
              "        fill: #1967D2;\n",
              "        height: 32px;\n",
              "        padding: 0 0 0 0;\n",
              "        width: 32px;\n",
              "      }\n",
              "\n",
              "      .colab-df-generate:hover {\n",
              "        background-color: #E2EBFA;\n",
              "        box-shadow: 0px 1px 2px rgba(60, 64, 67, 0.3), 0px 1px 3px 1px rgba(60, 64, 67, 0.15);\n",
              "        fill: #174EA6;\n",
              "      }\n",
              "\n",
              "      [theme=dark] .colab-df-generate {\n",
              "        background-color: #3B4455;\n",
              "        fill: #D2E3FC;\n",
              "      }\n",
              "\n",
              "      [theme=dark] .colab-df-generate:hover {\n",
              "        background-color: #434B5C;\n",
              "        box-shadow: 0px 1px 3px 1px rgba(0, 0, 0, 0.15);\n",
              "        filter: drop-shadow(0px 1px 2px rgba(0, 0, 0, 0.3));\n",
              "        fill: #FFFFFF;\n",
              "      }\n",
              "    </style>\n",
              "    <button class=\"colab-df-generate\" onclick=\"generateWithVariable('cereals_tubers_filtered')\"\n",
              "            title=\"Generate code using this dataframe.\"\n",
              "            style=\"display:none;\">\n",
              "\n",
              "  <svg xmlns=\"http://www.w3.org/2000/svg\" height=\"24px\"viewBox=\"0 0 24 24\"\n",
              "       width=\"24px\">\n",
              "    <path d=\"M7,19H8.4L18.45,9,17,7.55,7,17.6ZM5,21V16.75L18.45,3.32a2,2,0,0,1,2.83,0l1.4,1.43a1.91,1.91,0,0,1,.58,1.4,1.91,1.91,0,0,1-.58,1.4L9.25,21ZM18.45,9,17,7.55Zm-12,3A5.31,5.31,0,0,0,4.9,8.1,5.31,5.31,0,0,0,1,6.5,5.31,5.31,0,0,0,4.9,4.9,5.31,5.31,0,0,0,6.5,1,5.31,5.31,0,0,0,8.1,4.9,5.31,5.31,0,0,0,12,6.5,5.46,5.46,0,0,0,6.5,12Z\"/>\n",
              "  </svg>\n",
              "    </button>\n",
              "    <script>\n",
              "      (() => {\n",
              "      const buttonEl =\n",
              "        document.querySelector('#id_5d48a867-0b69-41bd-9b9a-d3aaa60bf866 button.colab-df-generate');\n",
              "      buttonEl.style.display =\n",
              "        google.colab.kernel.accessAllowed ? 'block' : 'none';\n",
              "\n",
              "      buttonEl.onclick = () => {\n",
              "        google.colab.notebook.generateWithVariable('cereals_tubers_filtered');\n",
              "      }\n",
              "      })();\n",
              "    </script>\n",
              "  </div>\n",
              "\n",
              "    </div>\n",
              "  </div>\n"
            ],
            "application/vnd.google.colaboratory.intrinsic+json": {
              "type": "dataframe",
              "variable_name": "cereals_tubers_filtered",
              "summary": "{\n  \"name\": \"cereals_tubers_filtered\",\n  \"rows\": 5880,\n  \"fields\": [\n    {\n      \"column\": \"date\",\n      \"properties\": {\n        \"dtype\": \"date\",\n        \"min\": \"2006-01-15 00:00:00\",\n        \"max\": \"2024-06-15 00:00:00\",\n        \"num_unique_values\": 222,\n        \"samples\": [\n          \"2018-11-15 00:00:00\",\n          \"2024-01-15 00:00:00\",\n          \"2007-04-15 00:00:00\"\n        ],\n        \"semantic_type\": \"\",\n        \"description\": \"\"\n      }\n    },\n    {\n      \"column\": \"market\",\n      \"properties\": {\n        \"dtype\": \"category\",\n        \"num_unique_values\": 61,\n        \"samples\": [\n          \"Mombasa\",\n          \"Kisumu\",\n          \"Wajir town\"\n        ],\n        \"semantic_type\": \"\",\n        \"description\": \"\"\n      }\n    },\n    {\n      \"column\": \"commodity\",\n      \"properties\": {\n        \"dtype\": \"category\",\n        \"num_unique_values\": 16,\n        \"samples\": [\n          \"Maize\",\n          \"Maize (white)\",\n          \"Maize flour\"\n        ],\n        \"semantic_type\": \"\",\n        \"description\": \"\"\n      }\n    },\n    {\n      \"column\": \"unit\",\n      \"properties\": {\n        \"dtype\": \"category\",\n        \"num_unique_values\": 4,\n        \"samples\": [\n          \"90 KG\",\n          \"50 KG\",\n          \"KG\"\n        ],\n        \"semantic_type\": \"\",\n        \"description\": \"\"\n      }\n    },\n    {\n      \"column\": \"priceflag\",\n      \"properties\": {\n        \"dtype\": \"category\",\n        \"num_unique_values\": 2,\n        \"samples\": [\n          \"aggregate\",\n          \"actual\"\n        ],\n        \"semantic_type\": \"\",\n        \"description\": \"\"\n      }\n    },\n    {\n      \"column\": \"pricetype\",\n      \"properties\": {\n        \"dtype\": \"category\",\n        \"num_unique_values\": 2,\n        \"samples\": [\n          \"Retail\",\n          \"Wholesale\"\n        ],\n        \"semantic_type\": \"\",\n        \"description\": \"\"\n      }\n    },\n    {\n      \"column\": \"currency\",\n      \"properties\": {\n        \"dtype\": \"category\",\n        \"num_unique_values\": 1,\n        \"samples\": [\n          \"KES\"\n        ],\n        \"semantic_type\": \"\",\n        \"description\": \"\"\n      }\n    },\n    {\n      \"column\": \"price\",\n      \"properties\": {\n        \"dtype\": \"number\",\n        \"std\": 2040.2763138063626,\n        \"min\": 6.0,\n        \"max\": 11997.0,\n        \"num_unique_values\": 2989,\n        \"samples\": [\n          33.11\n        ],\n        \"semantic_type\": \"\",\n        \"description\": \"\"\n      }\n    },\n    {\n      \"column\": \"usdprice\",\n      \"properties\": {\n        \"dtype\": \"number\",\n        \"std\": 18.83028727529108,\n        \"min\": 0.07,\n        \"max\": 109.84,\n        \"num_unique_values\": 1985,\n        \"samples\": [\n          45.95\n        ],\n        \"semantic_type\": \"\",\n        \"description\": \"\"\n      }\n    }\n  ]\n}"
            }
          },
          "metadata": {},
          "execution_count": 16
        }
      ],
      "source": [
        "# Filter the dataset for the \"Cereals and Tubers\" category\n",
        "cereals_tubers_filtered = food_prices[food_prices['category'] == 'cereals and tubers']\n",
        "\n",
        "# Select only the relevant columns: market, commodity, unit, pricetype, currency, price, usdprice\n",
        "cereals_tubers_filtered = cereals_tubers_filtered[['date', 'market', 'commodity', 'unit', 'priceflag', 'pricetype', 'currency', 'price', 'usdprice']]\n",
        "\n",
        "# Display the first few rows of the filtered dataset\n",
        "cereals_tubers_filtered\n"
      ]
    },
    {
      "cell_type": "code",
      "execution_count": 17,
      "id": "f95b9c23-ca9e-4836-a1ef-db97898d61fc",
      "metadata": {
        "colab": {
          "base_uri": "https://localhost:8080/"
        },
        "id": "f95b9c23-ca9e-4836-a1ef-db97898d61fc",
        "outputId": "30e37cc3-f826-4e11-a0c3-497e5c53896d"
      },
      "outputs": [
        {
          "output_type": "stream",
          "name": "stdout",
          "text": [
            "Index(['date', 'market', 'commodity', 'unit', 'priceflag', 'pricetype',\n",
            "       'currency', 'price', 'usdprice'],\n",
            "      dtype='object')\n"
          ]
        }
      ],
      "source": [
        "print(cereals_tubers_filtered.columns)"
      ]
    },
    {
      "cell_type": "code",
      "execution_count": 18,
      "id": "49a2b861-280f-4fee-ba09-4ce5f52e9d48",
      "metadata": {
        "colab": {
          "base_uri": "https://localhost:8080/",
          "height": 499
        },
        "id": "49a2b861-280f-4fee-ba09-4ce5f52e9d48",
        "outputId": "5254995d-a258-4541-edae-d9095fcadc07"
      },
      "outputs": [
        {
          "output_type": "stream",
          "name": "stderr",
          "text": [
            "<ipython-input-18-e37e3934b6fb>:10: FutureWarning: \n",
            "\n",
            "Passing `palette` without assigning `hue` is deprecated and will be removed in v0.14.0. Assign the `x` variable to `hue` and set `legend=False` for the same effect.\n",
            "\n",
            "  sns.barplot(x=commodity_counts.index, y=commodity_counts.values, palette='viridis')\n"
          ]
        },
        {
          "output_type": "display_data",
          "data": {
            "text/plain": [
              "<Figure size 1000x600 with 1 Axes>"
            ],
            "image/png": "[encoded data removed]"
          },
          "metadata": {}
        }
      ],
      "source": [
        "# Create a bar plot to visualize commodity categories in data2\n",
        "import matplotlib.pyplot as plt\n",
        "import seaborn as sns\n",
        "\n",
        "# Count the occurrences of each commodity in the filtered dataset\n",
        "commodity_counts = cereals_tubers_filtered['commodity'].value_counts()\n",
        "\n",
        "# Create a bar plot\n",
        "plt.figure(figsize=(10, 6))\n",
        "sns.barplot(x=commodity_counts.index, y=commodity_counts.values, palette='viridis')\n",
        "\n",
        "# Annotate each bar with the exact count\n",
        "for index, value in enumerate(commodity_counts.values):\n",
        "    plt.text(index, value + 0.5, f'{value}', ha='center', va='bottom')\n",
        "\n",
        "\n",
        "# Customize the plot\n",
        "plt.title('Commodity Distribution in the Cereals and Tubers Category')\n",
        "plt.xlabel('Commodity')\n",
        "plt.ylabel('Count')\n",
        "plt.xticks(rotation=90)  # Rotate x-axis labels for better readability\n",
        "plt.tight_layout()\n",
        "\n",
        "# Show the plot\n",
        "plt.show()"
      ]
    },
    {
      "cell_type": "markdown",
      "id": "13c51dee-a3e3-4414-8d81-45459cb656b7",
      "metadata": {
        "id": "13c51dee-a3e3-4414-8d81-45459cb656b7"
      },
      "source": [
        "**Insights**<br>\n",
        "- **Maize (white)** is the most purchased commodity. Indicating most Kenya families depend on maize as a staple food."
      ]
    },
    {
      "cell_type": "markdown",
      "id": "f1fc61d1-f645-43da-b282-28ce17fcb1f5",
      "metadata": {
        "id": "f1fc61d1-f645-43da-b282-28ce17fcb1f5"
      },
      "source": [
        "## Standardize unit and prices"
      ]
    },
    {
      "cell_type": "code",
      "execution_count": 19,
      "id": "0d0e0dec-773c-483e-86ae-0de172a56615",
      "metadata": {
        "colab": {
          "base_uri": "https://localhost:8080/",
          "height": 513
        },
        "id": "0d0e0dec-773c-483e-86ae-0de172a56615",
        "outputId": "6c017756-4e6b-4512-d6e4-69c720b39b74"
      },
      "outputs": [
        {
          "output_type": "execute_result",
          "data": {
            "text/plain": [
              "           commodity   unit standard_unit  priceflag  pricetype  \\\n",
              "0              Maize     KG            KG     actual  Wholesale   \n",
              "1      Maize (white)  90 KG            KG     actual  Wholesale   \n",
              "3      Maize (white)     KG            KG     actual     Retail   \n",
              "4            Sorghum  90 KG            KG     actual  Wholesale   \n",
              "5      Maize (white)     KG            KG     actual     Retail   \n",
              "...              ...    ...           ...        ...        ...   \n",
              "11989        Sorghum     KG            KG  aggregate     Retail   \n",
              "11992          Maize     KG            KG  aggregate     Retail   \n",
              "11993    Maize flour     KG            KG  aggregate     Retail   \n",
              "11994           Rice     KG            KG  aggregate     Retail   \n",
              "11995        Sorghum     KG            KG  aggregate     Retail   \n",
              "\n",
              "       standardized_price    price  \n",
              "0                   16.13    16.13  \n",
              "1                   16.44  1480.00  \n",
              "3                   17.00    17.00  \n",
              "4                   20.00  1800.00  \n",
              "5                   21.00    21.00  \n",
              "...                   ...      ...  \n",
              "11989               70.00    70.00  \n",
              "11992               50.00    50.00  \n",
              "11993               80.00    80.00  \n",
              "11994              135.00   135.00  \n",
              "11995               65.00    65.00  \n",
              "\n",
              "[5880 rows x 7 columns]"
            ],
            "text/html": [
              "\n",
              "  <div id=\"df-bea0460e-f796-44ec-9368-7032902f1a1a\" class=\"colab-df-container\">\n",
              "    <div>\n",
              "<style scoped>\n",
              "    .dataframe tbody tr th:only-of-type {\n",
              "        vertical-align: middle;\n",
              "    }\n",
              "\n",
              "    .dataframe tbody tr th {\n",
              "        vertical-align: top;\n",
              "    }\n",
              "\n",
              "    .dataframe thead th {\n",
              "        text-align: right;\n",
              "    }\n",
              "</style>\n",
              "<table border=\"1\" class=\"dataframe\">\n",
              "  <thead>\n",
              "    <tr style=\"text-align: right;\">\n",
              "      <th></th>\n",
              "      <th>commodity</th>\n",
              "      <th>unit</th>\n",
              "      <th>standard_unit</th>\n",
              "      <th>priceflag</th>\n",
              "      <th>pricetype</th>\n",
              "      <th>standardized_price</th>\n",
              "      <th>price</th>\n",
              "    </tr>\n",
              "  </thead>\n",
              "  <tbody>\n",
              "    <tr>\n",
              "      <th>0</th>\n",
              "      <td>Maize</td>\n",
              "      <td>KG</td>\n",
              "      <td>KG</td>\n",
              "      <td>actual</td>\n",
              "      <td>Wholesale</td>\n",
              "      <td>16.13</td>\n",
              "      <td>16.13</td>\n",
              "    </tr>\n",
              "    <tr>\n",
              "      <th>1</th>\n",
              "      <td>Maize (white)</td>\n",
              "      <td>90 KG</td>\n",
              "      <td>KG</td>\n",
              "      <td>actual</td>\n",
              "      <td>Wholesale</td>\n",
              "      <td>16.44</td>\n",
              "      <td>1480.00</td>\n",
              "    </tr>\n",
              "    <tr>\n",
              "      <th>3</th>\n",
              "      <td>Maize (white)</td>\n",
              "      <td>KG</td>\n",
              "      <td>KG</td>\n",
              "      <td>actual</td>\n",
              "      <td>Retail</td>\n",
              "      <td>17.00</td>\n",
              "      <td>17.00</td>\n",
              "    </tr>\n",
              "    <tr>\n",
              "      <th>4</th>\n",
              "      <td>Sorghum</td>\n",
              "      <td>90 KG</td>\n",
              "      <td>KG</td>\n",
              "      <td>actual</td>\n",
              "      <td>Wholesale</td>\n",
              "      <td>20.00</td>\n",
              "      <td>1800.00</td>\n",
              "    </tr>\n",
              "    <tr>\n",
              "      <th>5</th>\n",
              "      <td>Maize (white)</td>\n",
              "      <td>KG</td>\n",
              "      <td>KG</td>\n",
              "      <td>actual</td>\n",
              "      <td>Retail</td>\n",
              "      <td>21.00</td>\n",
              "      <td>21.00</td>\n",
              "    </tr>\n",
              "    <tr>\n",
              "      <th>...</th>\n",
              "      <td>...</td>\n",
              "      <td>...</td>\n",
              "      <td>...</td>\n",
              "      <td>...</td>\n",
              "      <td>...</td>\n",
              "      <td>...</td>\n",
              "      <td>...</td>\n",
              "    </tr>\n",
              "    <tr>\n",
              "      <th>11989</th>\n",
              "      <td>Sorghum</td>\n",
              "      <td>KG</td>\n",
              "      <td>KG</td>\n",
              "      <td>aggregate</td>\n",
              "      <td>Retail</td>\n",
              "      <td>70.00</td>\n",
              "      <td>70.00</td>\n",
              "    </tr>\n",
              "    <tr>\n",
              "      <th>11992</th>\n",
              "      <td>Maize</td>\n",
              "      <td>KG</td>\n",
              "      <td>KG</td>\n",
              "      <td>aggregate</td>\n",
              "      <td>Retail</td>\n",
              "      <td>50.00</td>\n",
              "      <td>50.00</td>\n",
              "    </tr>\n",
              "    <tr>\n",
              "      <th>11993</th>\n",
              "      <td>Maize flour</td>\n",
              "      <td>KG</td>\n",
              "      <td>KG</td>\n",
              "      <td>aggregate</td>\n",
              "      <td>Retail</td>\n",
              "      <td>80.00</td>\n",
              "      <td>80.00</td>\n",
              "    </tr>\n",
              "    <tr>\n",
              "      <th>11994</th>\n",
              "      <td>Rice</td>\n",
              "      <td>KG</td>\n",
              "      <td>KG</td>\n",
              "      <td>aggregate</td>\n",
              "      <td>Retail</td>\n",
              "      <td>135.00</td>\n",
              "      <td>135.00</td>\n",
              "    </tr>\n",
              "    <tr>\n",
              "      <th>11995</th>\n",
              "      <td>Sorghum</td>\n",
              "      <td>KG</td>\n",
              "      <td>KG</td>\n",
              "      <td>aggregate</td>\n",
              "      <td>Retail</td>\n",
              "      <td>65.00</td>\n",
              "      <td>65.00</td>\n",
              "    </tr>\n",
              "  </tbody>\n",
              "</table>\n",
              "<p>5880 rows × 7 columns</p>\n",
              "</div>\n",
              "    <div class=\"colab-df-buttons\">\n",
              "\n",
              "  <div class=\"colab-df-container\">\n",
              "    <button class=\"colab-df-convert\" onclick=\"convertToInteractive('df-bea0460e-f796-44ec-9368-7032902f1a1a')\"\n",
              "            title=\"Convert this dataframe to an interactive table.\"\n",
              "            style=\"display:none;\">\n",
              "\n",
              "  <svg xmlns=\"http://www.w3.org/2000/svg\" height=\"24px\" viewBox=\"0 -960 960 960\">\n",
              "    <path d=\"M120-120v-720h720v720H120Zm60-500h600v-160H180v160Zm220 220h160v-160H400v160Zm0 220h160v-160H400v160ZM180-400h160v-160H180v160Zm440 0h160v-160H620v160ZM180-180h160v-160H180v160Zm440 0h160v-160H620v160Z\"/>\n",
              "  </svg>\n",
              "    </button>\n",
              "\n",
              "  <style>\n",
              "    .colab-df-container {\n",
              "      display:flex;\n",
              "      gap: 12px;\n",
              "    }\n",
              "\n",
              "    .colab-df-convert {\n",
              "      background-color: #E8F0FE;\n",
              "      border: none;\n",
              "      border-radius: 50%;\n",
              "      cursor: pointer;\n",
              "      display: none;\n",
              "      fill: #1967D2;\n",
              "      height: 32px;\n",
              "      padding: 0 0 0 0;\n",
              "      width: 32px;\n",
              "    }\n",
              "\n",
              "    .colab-df-convert:hover {\n",
              "      background-color: #E2EBFA;\n",
              "      box-shadow: 0px 1px 2px rgba(60, 64, 67, 0.3), 0px 1px 3px 1px rgba(60, 64, 67, 0.15);\n",
              "      fill: #174EA6;\n",
              "    }\n",
              "\n",
              "    .colab-df-buttons div {\n",
              "      margin-bottom: 4px;\n",
              "    }\n",
              "\n",
              "    [theme=dark] .colab-df-convert {\n",
              "      background-color: #3B4455;\n",
              "      fill: #D2E3FC;\n",
              "    }\n",
              "\n",
              "    [theme=dark] .colab-df-convert:hover {\n",
              "      background-color: #434B5C;\n",
              "      box-shadow: 0px 1px 3px 1px rgba(0, 0, 0, 0.15);\n",
              "      filter: drop-shadow(0px 1px 2px rgba(0, 0, 0, 0.3));\n",
              "      fill: #FFFFFF;\n",
              "    }\n",
              "  </style>\n",
              "\n",
              "    <script>\n",
              "      const buttonEl =\n",
              "        document.querySelector('#df-bea0460e-f796-44ec-9368-7032902f1a1a button.colab-df-convert');\n",
              "      buttonEl.style.display =\n",
              "        google.colab.kernel.accessAllowed ? 'block' : 'none';\n",
              "\n",
              "      async function convertToInteractive(key) {\n",
              "        const element = document.querySelector('#df-bea0460e-f796-44ec-9368-7032902f1a1a');\n",
              "        const dataTable =\n",
              "          await google.colab.kernel.invokeFunction('convertToInteractive',\n",
              "                                                    [key], {});\n",
              "        if (!dataTable) return;\n",
              "\n",
              "        const docLinkHtml = 'Like what you see? Visit the ' +\n",
              "          '<a target=\"_blank\" href=https://colab.research.google.com/notebooks/data_table.ipynb>data table notebook</a>'\n",
              "          + ' to learn more about interactive tables.';\n",
              "        element.innerHTML = '';\n",
              "        dataTable['output_type'] = 'display_data';\n",
              "        await google.colab.output.renderOutput(dataTable, element);\n",
              "        const docLink = document.createElement('div');\n",
              "        docLink.innerHTML = docLinkHtml;\n",
              "        element.appendChild(docLink);\n",
              "      }\n",
              "    </script>\n",
              "  </div>\n",
              "\n",
              "\n",
              "<div id=\"df-c74028c1-1aa2-410e-bb78-038ba1514c9b\">\n",
              "  <button class=\"colab-df-quickchart\" onclick=\"quickchart('df-c74028c1-1aa2-410e-bb78-038ba1514c9b')\"\n",
              "            title=\"Suggest charts\"\n",
              "            style=\"display:none;\">\n",
              "\n",
              "<svg xmlns=\"http://www.w3.org/2000/svg\" height=\"24px\"viewBox=\"0 0 24 24\"\n",
              "     width=\"24px\">\n",
              "    <g>\n",
              "        <path d=\"M19 3H5c-1.1 0-2 .9-2 2v14c0 1.1.9 2 2 2h14c1.1 0 2-.9 2-2V5c0-1.1-.9-2-2-2zM9 17H7v-7h2v7zm4 0h-2V7h2v10zm4 0h-2v-4h2v4z\"/>\n",
              "    </g>\n",
              "</svg>\n",
              "  </button>\n",
              "\n",
              "<style>\n",
              "  .colab-df-quickchart {\n",
              "      --bg-color: #E8F0FE;\n",
              "      --fill-color: #1967D2;\n",
              "      --hover-bg-color: #E2EBFA;\n",
              "      --hover-fill-color: #174EA6;\n",
              "      --disabled-fill-color: #AAA;\n",
              "      --disabled-bg-color: #DDD;\n",
              "  }\n",
              "\n",
              "  [theme=dark] .colab-df-quickchart {\n",
              "      --bg-color: #3B4455;\n",
              "      --fill-color: #D2E3FC;\n",
              "      --hover-bg-color: #434B5C;\n",
              "      --hover-fill-color: #FFFFFF;\n",
              "      --disabled-bg-color: #3B4455;\n",
              "      --disabled-fill-color: #666;\n",
              "  }\n",
              "\n",
              "  .colab-df-quickchart {\n",
              "    background-color: var(--bg-color);\n",
              "    border: none;\n",
              "    border-radius: 50%;\n",
              "    cursor: pointer;\n",
              "    display: none;\n",
              "    fill: var(--fill-color);\n",
              "    height: 32px;\n",
              "    padding: 0;\n",
              "    width: 32px;\n",
              "  }\n",
              "\n",
              "  .colab-df-quickchart:hover {\n",
              "    background-color: var(--hover-bg-color);\n",
              "    box-shadow: 0 1px 2px rgba(60, 64, 67, 0.3), 0 1px 3px 1px rgba(60, 64, 67, 0.15);\n",
              "    fill: var(--button-hover-fill-color);\n",
              "  }\n",
              "\n",
              "  .colab-df-quickchart-complete:disabled,\n",
              "  .colab-df-quickchart-complete:disabled:hover {\n",
              "    background-color: var(--disabled-bg-color);\n",
              "    fill: var(--disabled-fill-color);\n",
              "    box-shadow: none;\n",
              "  }\n",
              "\n",
              "  .colab-df-spinner {\n",
              "    border: 2px solid var(--fill-color);\n",
              "    border-color: transparent;\n",
              "    border-bottom-color: var(--fill-color);\n",
              "    animation:\n",
              "      spin 1s steps(1) infinite;\n",
              "  }\n",
              "\n",
              "  @keyframes spin {\n",
              "    0% {\n",
              "      border-color: transparent;\n",
              "      border-bottom-color: var(--fill-color);\n",
              "      border-left-color: var(--fill-color);\n",
              "    }\n",
              "    20% {\n",
              "      border-color: transparent;\n",
              "      border-left-color: var(--fill-color);\n",
              "      border-top-color: var(--fill-color);\n",
              "    }\n",
              "    30% {\n",
              "      border-color: transparent;\n",
              "      border-left-color: var(--fill-color);\n",
              "      border-top-color: var(--fill-color);\n",
              "      border-right-color: var(--fill-color);\n",
              "    }\n",
              "    40% {\n",
              "      border-color: transparent;\n",
              "      border-right-color: var(--fill-color);\n",
              "      border-top-color: var(--fill-color);\n",
              "    }\n",
              "    60% {\n",
              "      border-color: transparent;\n",
              "      border-right-color: var(--fill-color);\n",
              "    }\n",
              "    80% {\n",
              "      border-color: transparent;\n",
              "      border-right-color: var(--fill-color);\n",
              "      border-bottom-color: var(--fill-color);\n",
              "    }\n",
              "    90% {\n",
              "      border-color: transparent;\n",
              "      border-bottom-color: var(--fill-color);\n",
              "    }\n",
              "  }\n",
              "</style>\n",
              "\n",
              "  <script>\n",
              "    async function quickchart(key) {\n",
              "      const quickchartButtonEl =\n",
              "        document.querySelector('#' + key + ' button');\n",
              "      quickchartButtonEl.disabled = true;  // To prevent multiple clicks.\n",
              "      quickchartButtonEl.classList.add('colab-df-spinner');\n",
              "      try {\n",
              "        const charts = await google.colab.kernel.invokeFunction(\n",
              "            'suggestCharts', [key], {});\n",
              "      } catch (error) {\n",
              "        console.error('Error during call to suggestCharts:', error);\n",
              "      }\n",
              "      quickchartButtonEl.classList.remove('colab-df-spinner');\n",
              "      quickchartButtonEl.classList.add('colab-df-quickchart-complete');\n",
              "    }\n",
              "    (() => {\n",
              "      let quickchartButtonEl =\n",
              "        document.querySelector('#df-c74028c1-1aa2-410e-bb78-038ba1514c9b button');\n",
              "      quickchartButtonEl.style.display =\n",
              "        google.colab.kernel.accessAllowed ? 'block' : 'none';\n",
              "    })();\n",
              "  </script>\n",
              "</div>\n",
              "\n",
              "    </div>\n",
              "  </div>\n"
            ],
            "application/vnd.google.colaboratory.intrinsic+json": {
              "type": "dataframe",
              "summary": "{\n  \"name\": \"cereals_tubers_filtered[['commodity', 'unit', 'standard_unit', 'priceflag', 'pricetype', 'standardized_price', 'price']]\",\n  \"rows\": 5880,\n  \"fields\": [\n    {\n      \"column\": \"commodity\",\n      \"properties\": {\n        \"dtype\": \"category\",\n        \"num_unique_values\": 16,\n        \"samples\": [\n          \"Maize\",\n          \"Maize (white)\",\n          \"Maize flour\"\n        ],\n        \"semantic_type\": \"\",\n        \"description\": \"\"\n      }\n    },\n    {\n      \"column\": \"unit\",\n      \"properties\": {\n        \"dtype\": \"category\",\n        \"num_unique_values\": 4,\n        \"samples\": [\n          \"90 KG\",\n          \"50 KG\",\n          \"KG\"\n        ],\n        \"semantic_type\": \"\",\n        \"description\": \"\"\n      }\n    },\n    {\n      \"column\": \"standard_unit\",\n      \"properties\": {\n        \"dtype\": \"category\",\n        \"num_unique_values\": 2,\n        \"samples\": [\n          \"400 G\",\n          \"KG\"\n        ],\n        \"semantic_type\": \"\",\n        \"description\": \"\"\n      }\n    },\n    {\n      \"column\": \"priceflag\",\n      \"properties\": {\n        \"dtype\": \"category\",\n        \"num_unique_values\": 2,\n        \"samples\": [\n          \"aggregate\",\n          \"actual\"\n        ],\n        \"semantic_type\": \"\",\n        \"description\": \"\"\n      }\n    },\n    {\n      \"column\": \"pricetype\",\n      \"properties\": {\n        \"dtype\": \"category\",\n        \"num_unique_values\": 2,\n        \"samples\": [\n          \"Retail\",\n          \"Wholesale\"\n        ],\n        \"semantic_type\": \"\",\n        \"description\": \"\"\n      }\n    },\n    {\n      \"column\": \"standardized_price\",\n      \"properties\": {\n        \"dtype\": \"number\",\n        \"std\": 32.580419664881596,\n        \"min\": 0.6,\n        \"max\": 220.0,\n        \"num_unique_values\": 2515,\n        \"samples\": [\n          39.7,\n          33.75\n        ],\n        \"semantic_type\": \"\",\n        \"description\": \"\"\n      }\n    },\n    {\n      \"column\": \"price\",\n      \"properties\": {\n        \"dtype\": \"number\",\n        \"std\": 2040.2763138063626,\n        \"min\": 6.0,\n        \"max\": 11997.0,\n        \"num_unique_values\": 2989,\n        \"samples\": [\n          33.11,\n          5900.0\n        ],\n        \"semantic_type\": \"\",\n        \"description\": \"\"\n      }\n    }\n  ]\n}"
            }
          },
          "metadata": {},
          "execution_count": 19
        }
      ],
      "source": [
        "import re\n",
        "\n",
        "# Function to clean units and adjust prices\n",
        "def standardize_price(row):\n",
        "    unit = row['unit']\n",
        "    price = row['price']\n",
        "\n",
        "    # Check if the unit is written as \"value KG\" (e.g., \"5 KG\")\n",
        "    match = re.match(r'(\\d+)\\s?KG', unit)  # Regular expression to capture the numeric value before \"KG\"\n",
        "\n",
        "    if match:\n",
        "        # Extract the numeric value and divide the price by that value\n",
        "        kg_value = int(match.group(1))\n",
        "        standardized_price = round(price / kg_value, 2)  # Round to 2 decimal places\n",
        "        standard_unit = 'KG'\n",
        "    elif unit.strip() == 'KG':  # If it's just \"KG\", return the price as-is\n",
        "        standardized_price = round(price, 2)  # Round to 2 decimal places\n",
        "        standard_unit = 'KG'\n",
        "    else:\n",
        "        # If the unit is not in KG or value KG format, leave it unchanged\n",
        "        standardized_price = round(price, 2)  # Ensure price is still rounded\n",
        "        standard_unit = unit  # Preserve the non-standard unit\n",
        "\n",
        "    return pd.Series([standardized_price, standard_unit])\n",
        "\n",
        "# Apply the function to the dataset\n",
        "cereals_tubers_filtered[['standardized_price', 'standard_unit']] = cereals_tubers_filtered.apply(standardize_price, axis=1)\n",
        "\n",
        "# Print out a sample of the adjusted data to check\n",
        "cereals_tubers_filtered[['commodity', 'unit', 'standard_unit', 'priceflag', 'pricetype', 'standardized_price', 'price']]"
      ]
    },
    {
      "cell_type": "code",
      "execution_count": 20,
      "id": "81d3d86c-e981-47e6-a0da-76799ada9c97",
      "metadata": {
        "colab": {
          "base_uri": "https://localhost:8080/"
        },
        "id": "81d3d86c-e981-47e6-a0da-76799ada9c97",
        "outputId": "c9240859-43c9-44cf-cb88-502fab4c79c4"
      },
      "outputs": [
        {
          "output_type": "execute_result",
          "data": {
            "text/plain": [
              "Index(['date', 'market', 'commodity', 'unit', 'priceflag', 'pricetype',\n",
              "       'currency', 'price', 'usdprice', 'standardized_price', 'standard_unit'],\n",
              "      dtype='object')"
            ]
          },
          "metadata": {},
          "execution_count": 20
        }
      ],
      "source": [
        "cereals_tubers_filtered.columns"
      ]
    },
    {
      "cell_type": "code",
      "execution_count": 21,
      "id": "57132ec3-47e0-4787-a959-455fc1083a33",
      "metadata": {
        "colab": {
          "base_uri": "https://localhost:8080/"
        },
        "id": "57132ec3-47e0-4787-a959-455fc1083a33",
        "outputId": "67691d1a-b018-40e6-f1eb-5240dcd13b5c"
      },
      "outputs": [
        {
          "output_type": "execute_result",
          "data": {
            "text/plain": [
              "dtype('float64')"
            ]
          },
          "metadata": {},
          "execution_count": 21
        }
      ],
      "source": [
        "cereals_tubers_filtered['standardized_price'].dtype"
      ]
    },
    {
      "cell_type": "markdown",
      "id": "6c2941b2-798a-4510-b5c6-b2c5f632cdfb",
      "metadata": {
        "id": "6c2941b2-798a-4510-b5c6-b2c5f632cdfb"
      },
      "source": [
        "#### Price Distribution"
      ]
    },
    {
      "cell_type": "code",
      "execution_count": 22,
      "id": "71aa80d6-0da8-4c62-81bd-7793baf74afe",
      "metadata": {
        "colab": {
          "base_uri": "https://localhost:8080/",
          "height": 329
        },
        "id": "71aa80d6-0da8-4c62-81bd-7793baf74afe",
        "outputId": "de20ce30-d49e-4f2e-a467-7f2e6ebb457b"
      },
      "outputs": [
        {
          "output_type": "display_data",
          "data": {
            "text/plain": [
              "<Figure size 1200x600 with 2 Axes>"
            ],
            "image/png": "[encoded data removed]"
          },
          "metadata": {}
        }
      ],
      "source": [
        "\n",
        "# Summary statistics for the price and usdprice columns\n",
        "price_stats = cereals_tubers_filtered[['price', 'usdprice']].describe()\n",
        "\n",
        "# Plot the distribution of prices and usdprice\n",
        "import matplotlib.pyplot as plt\n",
        "import seaborn as sns\n",
        "\n",
        "# Set the figure size\n",
        "plt.figure(figsize=(12, 6))\n",
        "\n",
        "# Plotting the price distribution\n",
        "plt.subplot(1, 2, 1)\n",
        "sns.histplot(cereals_tubers_filtered['price'], kde=True, color='blue')\n",
        "plt.title('Price Distribution (Cereals and Tubers)')\n",
        "plt.xlabel('Price (Local Currency)')\n",
        "\n",
        "# Plotting the USD price distribution\n",
        "plt.subplot(1, 2, 2)\n",
        "sns.histplot(cereals_tubers_filtered['usdprice'], kde=True, color='green')\n",
        "plt.title('USD Price Distribution (Cereals and Tubers)')\n",
        "plt.xlabel('Price (USD)')\n",
        "\n",
        "plt.tight_layout()\n",
        "plt.show()\n"
      ]
    },
    {
      "cell_type": "code",
      "execution_count": 23,
      "id": "76f6cd04-e727-4918-a717-50d2fceeed8f",
      "metadata": {
        "colab": {
          "base_uri": "https://localhost:8080/"
        },
        "id": "76f6cd04-e727-4918-a717-50d2fceeed8f",
        "outputId": "125bca3d-1767-4398-c930-9ca39767d5ca"
      },
      "outputs": [
        {
          "output_type": "execute_result",
          "data": {
            "text/plain": [
              "dtype('float64')"
            ]
          },
          "metadata": {},
          "execution_count": 23
        }
      ],
      "source": [
        "cereals_tubers_filtered['standardized_price'].dtype"
      ]
    },
    {
      "cell_type": "code",
      "execution_count": 24,
      "id": "63fb589a-825c-450a-a3e6-e2ffb66449b2",
      "metadata": {
        "colab": {
          "base_uri": "https://localhost:8080/",
          "height": 607
        },
        "id": "63fb589a-825c-450a-a3e6-e2ffb66449b2",
        "outputId": "20cfc5e4-04c9-4903-f8ad-15b3469383de"
      },
      "outputs": [
        {
          "output_type": "display_data",
          "data": {
            "text/plain": [
              "<Figure size 1200x600 with 1 Axes>"
            ],
            "image/png": "[encoded data removed]"
          },
          "metadata": {}
        }
      ],
      "source": [
        "# Set the figure size\n",
        "plt.figure(figsize=(12, 6))\n",
        "\n",
        "# Plotting the KES price boxplot\n",
        "plt.subplot(1, 2, 1)\n",
        "sns.boxplot(x=cereals_tubers_filtered['standardized_price'])\n",
        "plt.title('KES Price Distribution (Cereals and Tubers')\n",
        "plt.xlabel('Price (KES)')\n",
        "\n",
        "\n",
        "# Plotting the USD price boxplot\n",
        "# plt.subplot(1, 2, 2)\n",
        "# sns.boxplot(cereals_tubers_filtered['usdprice'])\n",
        "# plt.title('USD Price Distribution for 1 KG (Cereals and Tubers)')\n",
        "# plt.xlabel('Price (USD)')\n",
        "\n",
        "plt.tight_layout()\n",
        "plt.show()"
      ]
    },
    {
      "cell_type": "code",
      "execution_count": 25,
      "id": "1fedcdba-6862-4109-aae2-1ac29ee1b168",
      "metadata": {
        "colab": {
          "base_uri": "https://localhost:8080/",
          "height": 607
        },
        "id": "1fedcdba-6862-4109-aae2-1ac29ee1b168",
        "outputId": "68dac0a8-e221-46b9-c67f-6bed294a5418"
      },
      "outputs": [
        {
          "output_type": "display_data",
          "data": {
            "text/plain": [
              "<Figure size 1200x600 with 1 Axes>"
            ],
            "image/png": "[encoded data removed]"
          },
          "metadata": {}
        }
      ],
      "source": [
        "# Plotting the USD price boxplot\n",
        "plt.figure(figsize=(12, 6))\n",
        "\n",
        "plt.subplot(1, 2, 2)\n",
        "sns.boxplot(cereals_tubers_filtered['usdprice'])\n",
        "plt.title('USD Price Distribution (Cereals and Tubers)')\n",
        "plt.xlabel('Price (USD)')\n",
        "\n",
        "plt.tight_layout()\n",
        "plt.show()"
      ]
    },
    {
      "cell_type": "markdown",
      "id": "5548d7b5-74cc-4b23-8fd9-73a1b0a0596d",
      "metadata": {
        "id": "5548d7b5-74cc-4b23-8fd9-73a1b0a0596d"
      },
      "source": [
        "***Insights***\n",
        "<br><br>\n",
        "The data shows a wide range in prices, indicating significant variability, likely influenced by factors like commodity type, market type, and region.\n",
        "\n",
        "**Key Points about Right Skewness**\n",
        "1. ***Concentration of Lower Prices***: Most of the commodities have prices that are relatively low compared to a few high-priced items.\n",
        "2. ***Presence of Outliers***: The high prices can be considered outliers or less frequent but significantly higher than the median prices.\n",
        "3. ***Mean vs. Median***: The mean price will be higher than the median price because the mean is influenced by the high outliers.\n",
        "4. ***Market Dynamics***: The right skewness might indicate variability in the market prices due to factors like supply and demand, seasonality, or regional price differences.\n",
        "\n",
        "<br>**Implications of Right Skewness**\n",
        "\n",
        "1. ***Market Analysis***: This skewness suggests that while most commodities are affordably priced, there are some that can be quite expensive, potentially due to scarcity or higher demand in certain markets.\n",
        "2. ***Economic Insights***: The higher prices can be due to factors such as transportation costs, import taxes, or market monopolies.\n",
        "3. ***Policy Making***: Understanding the distribution of prices across regions or seasons can help in making decisions about subsidies, price controls, or interventions in specific markets to address price disparities. <br><br>"
      ]
    },
    {
      "cell_type": "code",
      "execution_count": 26,
      "id": "d12db638-0ac0-43c2-964a-9805c924591f",
      "metadata": {
        "colab": {
          "base_uri": "https://localhost:8080/"
        },
        "id": "d12db638-0ac0-43c2-964a-9805c924591f",
        "outputId": "c6a005e6-490e-4801-a65c-5f3ff8e0ae38"
      },
      "outputs": [
        {
          "output_type": "execute_result",
          "data": {
            "text/plain": [
              "dtype('float64')"
            ]
          },
          "metadata": {},
          "execution_count": 26
        }
      ],
      "source": [
        "cereals_tubers_filtered['standardized_price'].dtype"
      ]
    },
    {
      "cell_type": "code",
      "execution_count": 27,
      "id": "cb5d5c35-2356-483f-8ec4-61a878d354e2",
      "metadata": {
        "colab": {
          "base_uri": "https://localhost:8080/",
          "height": 521
        },
        "id": "cb5d5c35-2356-483f-8ec4-61a878d354e2",
        "outputId": "00eba2bd-06d6-44b2-90d0-58a29ec7a75e"
      },
      "outputs": [
        {
          "output_type": "display_data",
          "data": {
            "text/plain": [
              "<Figure size 800x600 with 1 Axes>"
            ],
            "image/png": "[encoded data removed]"
          },
          "metadata": {}
        }
      ],
      "source": [
        "# Calculate the proportion of each priceflag category\n",
        "pricetype_counts = cereals_tubers_filtered['pricetype'].value_counts()\n",
        "categories = pricetype_counts.index\n",
        "values = pricetype_counts.values\n",
        "\n",
        "# Create a pie chart\n",
        "plt.figure(figsize=(8, 6))\n",
        "plt.pie(values, labels=categories, autopct='%1.1f%%', startangle=140, colors=['#ff9999', '#66b3ff'])\n",
        "plt.title('Price Type Distribution: Wholesale vs Retail')\n",
        "plt.show()"
      ]
    },
    {
      "cell_type": "markdown",
      "id": "6e8d06fb-4a7c-48f5-b189-f46de5bca302",
      "metadata": {
        "id": "6e8d06fb-4a7c-48f5-b189-f46de5bca302"
      },
      "source": [
        "**Insights**<br>\n",
        "- Most consumers tend to purchase goods on wholesale prices as opposed to retail price"
      ]
    },
    {
      "cell_type": "code",
      "execution_count": 28,
      "id": "44400ac7-1a59-4071-97e1-2b5b0ef9c4f4",
      "metadata": {
        "colab": {
          "base_uri": "https://localhost:8080/"
        },
        "id": "44400ac7-1a59-4071-97e1-2b5b0ef9c4f4",
        "outputId": "663807e2-dd0c-4378-da7b-805d19ac5d24"
      },
      "outputs": [
        {
          "output_type": "execute_result",
          "data": {
            "text/plain": [
              "Index(['date', 'market', 'commodity', 'unit', 'priceflag', 'pricetype',\n",
              "       'currency', 'price', 'usdprice', 'standardized_price', 'standard_unit'],\n",
              "      dtype='object')"
            ]
          },
          "metadata": {},
          "execution_count": 28
        }
      ],
      "source": [
        "cereals_tubers_filtered.columns"
      ]
    },
    {
      "cell_type": "code",
      "execution_count": 29,
      "id": "9cb0cb8b-627e-4f93-8dd1-259dd6cd524b",
      "metadata": {
        "colab": {
          "base_uri": "https://localhost:8080/"
        },
        "id": "9cb0cb8b-627e-4f93-8dd1-259dd6cd524b",
        "outputId": "5cbd3d2e-8946-4f0e-adeb-89df7a0c53ee"
      },
      "outputs": [
        {
          "output_type": "execute_result",
          "data": {
            "text/plain": [
              "dtype('float64')"
            ]
          },
          "metadata": {},
          "execution_count": 29
        }
      ],
      "source": [
        "cereals_tubers_filtered['standardized_price'].dtype"
      ]
    },
    {
      "cell_type": "code",
      "execution_count": 30,
      "id": "eba12e67-3ff8-4443-9db7-af8b405c0cb9",
      "metadata": {
        "colab": {
          "base_uri": "https://localhost:8080/",
          "height": 423
        },
        "id": "eba12e67-3ff8-4443-9db7-af8b405c0cb9",
        "outputId": "87068d08-baf9-4d82-9693-2a5a80820769"
      },
      "outputs": [
        {
          "output_type": "execute_result",
          "data": {
            "text/plain": [
              "          commodity          season  standardized_price\n",
              "0             Bread   first_quarter           40.564516\n",
              "1             Bread  fourth_quarter           42.346154\n",
              "2             Bread  second_quarter           41.259615\n",
              "3             Bread   third_quarter           41.196000\n",
              "4             Maize   first_quarter           37.091063\n",
              "..              ...             ...                 ...\n",
              "58  Sorghum (white)   third_quarter           64.149000\n",
              "59      Wheat flour   first_quarter           86.845357\n",
              "60      Wheat flour  fourth_quarter           79.201613\n",
              "61      Wheat flour  second_quarter           86.429072\n",
              "62      Wheat flour   third_quarter           79.673333\n",
              "\n",
              "[63 rows x 3 columns]"
            ],
            "text/html": [
              "\n",
              "  <div id=\"df-03dc55c7-0681-4f5e-9a23-6fbf617bff84\" class=\"colab-df-container\">\n",
              "    <div>\n",
              "<style scoped>\n",
              "    .dataframe tbody tr th:only-of-type {\n",
              "        vertical-align: middle;\n",
              "    }\n",
              "\n",
              "    .dataframe tbody tr th {\n",
              "        vertical-align: top;\n",
              "    }\n",
              "\n",
              "    .dataframe thead th {\n",
              "        text-align: right;\n",
              "    }\n",
              "</style>\n",
              "<table border=\"1\" class=\"dataframe\">\n",
              "  <thead>\n",
              "    <tr style=\"text-align: right;\">\n",
              "      <th></th>\n",
              "      <th>commodity</th>\n",
              "      <th>season</th>\n",
              "      <th>standardized_price</th>\n",
              "    </tr>\n",
              "  </thead>\n",
              "  <tbody>\n",
              "    <tr>\n",
              "      <th>0</th>\n",
              "      <td>Bread</td>\n",
              "      <td>first_quarter</td>\n",
              "      <td>40.564516</td>\n",
              "    </tr>\n",
              "    <tr>\n",
              "      <th>1</th>\n",
              "      <td>Bread</td>\n",
              "      <td>fourth_quarter</td>\n",
              "      <td>42.346154</td>\n",
              "    </tr>\n",
              "    <tr>\n",
              "      <th>2</th>\n",
              "      <td>Bread</td>\n",
              "      <td>second_quarter</td>\n",
              "      <td>41.259615</td>\n",
              "    </tr>\n",
              "    <tr>\n",
              "      <th>3</th>\n",
              "      <td>Bread</td>\n",
              "      <td>third_quarter</td>\n",
              "      <td>41.196000</td>\n",
              "    </tr>\n",
              "    <tr>\n",
              "      <th>4</th>\n",
              "      <td>Maize</td>\n",
              "      <td>first_quarter</td>\n",
              "      <td>37.091063</td>\n",
              "    </tr>\n",
              "    <tr>\n",
              "      <th>...</th>\n",
              "      <td>...</td>\n",
              "      <td>...</td>\n",
              "      <td>...</td>\n",
              "    </tr>\n",
              "    <tr>\n",
              "      <th>58</th>\n",
              "      <td>Sorghum (white)</td>\n",
              "      <td>third_quarter</td>\n",
              "      <td>64.149000</td>\n",
              "    </tr>\n",
              "    <tr>\n",
              "      <th>59</th>\n",
              "      <td>Wheat flour</td>\n",
              "      <td>first_quarter</td>\n",
              "      <td>86.845357</td>\n",
              "    </tr>\n",
              "    <tr>\n",
              "      <th>60</th>\n",
              "      <td>Wheat flour</td>\n",
              "      <td>fourth_quarter</td>\n",
              "      <td>79.201613</td>\n",
              "    </tr>\n",
              "    <tr>\n",
              "      <th>61</th>\n",
              "      <td>Wheat flour</td>\n",
              "      <td>second_quarter</td>\n",
              "      <td>86.429072</td>\n",
              "    </tr>\n",
              "    <tr>\n",
              "      <th>62</th>\n",
              "      <td>Wheat flour</td>\n",
              "      <td>third_quarter</td>\n",
              "      <td>79.673333</td>\n",
              "    </tr>\n",
              "  </tbody>\n",
              "</table>\n",
              "<p>63 rows × 3 columns</p>\n",
              "</div>\n",
              "    <div class=\"colab-df-buttons\">\n",
              "\n",
              "  <div class=\"colab-df-container\">\n",
              "    <button class=\"colab-df-convert\" onclick=\"convertToInteractive('df-03dc55c7-0681-4f5e-9a23-6fbf617bff84')\"\n",
              "            title=\"Convert this dataframe to an interactive table.\"\n",
              "            style=\"display:none;\">\n",
              "\n",
              "  <svg xmlns=\"http://www.w3.org/2000/svg\" height=\"24px\" viewBox=\"0 -960 960 960\">\n",
              "    <path d=\"M120-120v-720h720v720H120Zm60-500h600v-160H180v160Zm220 220h160v-160H400v160Zm0 220h160v-160H400v160ZM180-400h160v-160H180v160Zm440 0h160v-160H620v160ZM180-180h160v-160H180v160Zm440 0h160v-160H620v160Z\"/>\n",
              "  </svg>\n",
              "    </button>\n",
              "\n",
              "  <style>\n",
              "    .colab-df-container {\n",
              "      display:flex;\n",
              "      gap: 12px;\n",
              "    }\n",
              "\n",
              "    .colab-df-convert {\n",
              "      background-color: #E8F0FE;\n",
              "      border: none;\n",
              "      border-radius: 50%;\n",
              "      cursor: pointer;\n",
              "      display: none;\n",
              "      fill: #1967D2;\n",
              "      height: 32px;\n",
              "      padding: 0 0 0 0;\n",
              "      width: 32px;\n",
              "    }\n",
              "\n",
              "    .colab-df-convert:hover {\n",
              "      background-color: #E2EBFA;\n",
              "      box-shadow: 0px 1px 2px rgba(60, 64, 67, 0.3), 0px 1px 3px 1px rgba(60, 64, 67, 0.15);\n",
              "      fill: #174EA6;\n",
              "    }\n",
              "\n",
              "    .colab-df-buttons div {\n",
              "      margin-bottom: 4px;\n",
              "    }\n",
              "\n",
              "    [theme=dark] .colab-df-convert {\n",
              "      background-color: #3B4455;\n",
              "      fill: #D2E3FC;\n",
              "    }\n",
              "\n",
              "    [theme=dark] .colab-df-convert:hover {\n",
              "      background-color: #434B5C;\n",
              "      box-shadow: 0px 1px 3px 1px rgba(0, 0, 0, 0.15);\n",
              "      filter: drop-shadow(0px 1px 2px rgba(0, 0, 0, 0.3));\n",
              "      fill: #FFFFFF;\n",
              "    }\n",
              "  </style>\n",
              "\n",
              "    <script>\n",
              "      const buttonEl =\n",
              "        document.querySelector('#df-03dc55c7-0681-4f5e-9a23-6fbf617bff84 button.colab-df-convert');\n",
              "      buttonEl.style.display =\n",
              "        google.colab.kernel.accessAllowed ? 'block' : 'none';\n",
              "\n",
              "      async function convertToInteractive(key) {\n",
              "        const element = document.querySelector('#df-03dc55c7-0681-4f5e-9a23-6fbf617bff84');\n",
              "        const dataTable =\n",
              "          await google.colab.kernel.invokeFunction('convertToInteractive',\n",
              "                                                    [key], {});\n",
              "        if (!dataTable) return;\n",
              "\n",
              "        const docLinkHtml = 'Like what you see? Visit the ' +\n",
              "          '<a target=\"_blank\" href=https://colab.research.google.com/notebooks/data_table.ipynb>data table notebook</a>'\n",
              "          + ' to learn more about interactive tables.';\n",
              "        element.innerHTML = '';\n",
              "        dataTable['output_type'] = 'display_data';\n",
              "        await google.colab.output.renderOutput(dataTable, element);\n",
              "        const docLink = document.createElement('div');\n",
              "        docLink.innerHTML = docLinkHtml;\n",
              "        element.appendChild(docLink);\n",
              "      }\n",
              "    </script>\n",
              "  </div>\n",
              "\n",
              "\n",
              "<div id=\"df-a227c98d-1bcb-464d-8e7d-b2bcddce742a\">\n",
              "  <button class=\"colab-df-quickchart\" onclick=\"quickchart('df-a227c98d-1bcb-464d-8e7d-b2bcddce742a')\"\n",
              "            title=\"Suggest charts\"\n",
              "            style=\"display:none;\">\n",
              "\n",
              "<svg xmlns=\"http://www.w3.org/2000/svg\" height=\"24px\"viewBox=\"0 0 24 24\"\n",
              "     width=\"24px\">\n",
              "    <g>\n",
              "        <path d=\"M19 3H5c-1.1 0-2 .9-2 2v14c0 1.1.9 2 2 2h14c1.1 0 2-.9 2-2V5c0-1.1-.9-2-2-2zM9 17H7v-7h2v7zm4 0h-2V7h2v10zm4 0h-2v-4h2v4z\"/>\n",
              "    </g>\n",
              "</svg>\n",
              "  </button>\n",
              "\n",
              "<style>\n",
              "  .colab-df-quickchart {\n",
              "      --bg-color: #E8F0FE;\n",
              "      --fill-color: #1967D2;\n",
              "      --hover-bg-color: #E2EBFA;\n",
              "      --hover-fill-color: #174EA6;\n",
              "      --disabled-fill-color: #AAA;\n",
              "      --disabled-bg-color: #DDD;\n",
              "  }\n",
              "\n",
              "  [theme=dark] .colab-df-quickchart {\n",
              "      --bg-color: #3B4455;\n",
              "      --fill-color: #D2E3FC;\n",
              "      --hover-bg-color: #434B5C;\n",
              "      --hover-fill-color: #FFFFFF;\n",
              "      --disabled-bg-color: #3B4455;\n",
              "      --disabled-fill-color: #666;\n",
              "  }\n",
              "\n",
              "  .colab-df-quickchart {\n",
              "    background-color: var(--bg-color);\n",
              "    border: none;\n",
              "    border-radius: 50%;\n",
              "    cursor: pointer;\n",
              "    display: none;\n",
              "    fill: var(--fill-color);\n",
              "    height: 32px;\n",
              "    padding: 0;\n",
              "    width: 32px;\n",
              "  }\n",
              "\n",
              "  .colab-df-quickchart:hover {\n",
              "    background-color: var(--hover-bg-color);\n",
              "    box-shadow: 0 1px 2px rgba(60, 64, 67, 0.3), 0 1px 3px 1px rgba(60, 64, 67, 0.15);\n",
              "    fill: var(--button-hover-fill-color);\n",
              "  }\n",
              "\n",
              "  .colab-df-quickchart-complete:disabled,\n",
              "  .colab-df-quickchart-complete:disabled:hover {\n",
              "    background-color: var(--disabled-bg-color);\n",
              "    fill: var(--disabled-fill-color);\n",
              "    box-shadow: none;\n",
              "  }\n",
              "\n",
              "  .colab-df-spinner {\n",
              "    border: 2px solid var(--fill-color);\n",
              "    border-color: transparent;\n",
              "    border-bottom-color: var(--fill-color);\n",
              "    animation:\n",
              "      spin 1s steps(1) infinite;\n",
              "  }\n",
              "\n",
              "  @keyframes spin {\n",
              "    0% {\n",
              "      border-color: transparent;\n",
              "      border-bottom-color: var(--fill-color);\n",
              "      border-left-color: var(--fill-color);\n",
              "    }\n",
              "    20% {\n",
              "      border-color: transparent;\n",
              "      border-left-color: var(--fill-color);\n",
              "      border-top-color: var(--fill-color);\n",
              "    }\n",
              "    30% {\n",
              "      border-color: transparent;\n",
              "      border-left-color: var(--fill-color);\n",
              "      border-top-color: var(--fill-color);\n",
              "      border-right-color: var(--fill-color);\n",
              "    }\n",
              "    40% {\n",
              "      border-color: transparent;\n",
              "      border-right-color: var(--fill-color);\n",
              "      border-top-color: var(--fill-color);\n",
              "    }\n",
              "    60% {\n",
              "      border-color: transparent;\n",
              "      border-right-color: var(--fill-color);\n",
              "    }\n",
              "    80% {\n",
              "      border-color: transparent;\n",
              "      border-right-color: var(--fill-color);\n",
              "      border-bottom-color: var(--fill-color);\n",
              "    }\n",
              "    90% {\n",
              "      border-color: transparent;\n",
              "      border-bottom-color: var(--fill-color);\n",
              "    }\n",
              "  }\n",
              "</style>\n",
              "\n",
              "  <script>\n",
              "    async function quickchart(key) {\n",
              "      const quickchartButtonEl =\n",
              "        document.querySelector('#' + key + ' button');\n",
              "      quickchartButtonEl.disabled = true;  // To prevent multiple clicks.\n",
              "      quickchartButtonEl.classList.add('colab-df-spinner');\n",
              "      try {\n",
              "        const charts = await google.colab.kernel.invokeFunction(\n",
              "            'suggestCharts', [key], {});\n",
              "      } catch (error) {\n",
              "        console.error('Error during call to suggestCharts:', error);\n",
              "      }\n",
              "      quickchartButtonEl.classList.remove('colab-df-spinner');\n",
              "      quickchartButtonEl.classList.add('colab-df-quickchart-complete');\n",
              "    }\n",
              "    (() => {\n",
              "      let quickchartButtonEl =\n",
              "        document.querySelector('#df-a227c98d-1bcb-464d-8e7d-b2bcddce742a button');\n",
              "      quickchartButtonEl.style.display =\n",
              "        google.colab.kernel.accessAllowed ? 'block' : 'none';\n",
              "    })();\n",
              "  </script>\n",
              "</div>\n",
              "\n",
              "  <div id=\"id_0ef60568-a254-4d94-8973-04d0660233ab\">\n",
              "    <style>\n",
              "      .colab-df-generate {\n",
              "        background-color: #E8F0FE;\n",
              "        border: none;\n",
              "        border-radius: 50%;\n",
              "        cursor: pointer;\n",
              "        display: none;\n",
              "        fill: #1967D2;\n",
              "        height: 32px;\n",
              "        padding: 0 0 0 0;\n",
              "        width: 32px;\n",
              "      }\n",
              "\n",
              "      .colab-df-generate:hover {\n",
              "        background-color: #E2EBFA;\n",
              "        box-shadow: 0px 1px 2px rgba(60, 64, 67, 0.3), 0px 1px 3px 1px rgba(60, 64, 67, 0.15);\n",
              "        fill: #174EA6;\n",
              "      }\n",
              "\n",
              "      [theme=dark] .colab-df-generate {\n",
              "        background-color: #3B4455;\n",
              "        fill: #D2E3FC;\n",
              "      }\n",
              "\n",
              "      [theme=dark] .colab-df-generate:hover {\n",
              "        background-color: #434B5C;\n",
              "        box-shadow: 0px 1px 3px 1px rgba(0, 0, 0, 0.15);\n",
              "        filter: drop-shadow(0px 1px 2px rgba(0, 0, 0, 0.3));\n",
              "        fill: #FFFFFF;\n",
              "      }\n",
              "    </style>\n",
              "    <button class=\"colab-df-generate\" onclick=\"generateWithVariable('avg_price_by_season')\"\n",
              "            title=\"Generate code using this dataframe.\"\n",
              "            style=\"display:none;\">\n",
              "\n",
              "  <svg xmlns=\"http://www.w3.org/2000/svg\" height=\"24px\"viewBox=\"0 0 24 24\"\n",
              "       width=\"24px\">\n",
              "    <path d=\"M7,19H8.4L18.45,9,17,7.55,7,17.6ZM5,21V16.75L18.45,3.32a2,2,0,0,1,2.83,0l1.4,1.43a1.91,1.91,0,0,1,.58,1.4,1.91,1.91,0,0,1-.58,1.4L9.25,21ZM18.45,9,17,7.55Zm-12,3A5.31,5.31,0,0,0,4.9,8.1,5.31,5.31,0,0,0,1,6.5,5.31,5.31,0,0,0,4.9,4.9,5.31,5.31,0,0,0,6.5,1,5.31,5.31,0,0,0,8.1,4.9,5.31,5.31,0,0,0,12,6.5,5.46,5.46,0,0,0,6.5,12Z\"/>\n",
              "  </svg>\n",
              "    </button>\n",
              "    <script>\n",
              "      (() => {\n",
              "      const buttonEl =\n",
              "        document.querySelector('#id_0ef60568-a254-4d94-8973-04d0660233ab button.colab-df-generate');\n",
              "      buttonEl.style.display =\n",
              "        google.colab.kernel.accessAllowed ? 'block' : 'none';\n",
              "\n",
              "      buttonEl.onclick = () => {\n",
              "        google.colab.notebook.generateWithVariable('avg_price_by_season');\n",
              "      }\n",
              "      })();\n",
              "    </script>\n",
              "  </div>\n",
              "\n",
              "    </div>\n",
              "  </div>\n"
            ],
            "application/vnd.google.colaboratory.intrinsic+json": {
              "type": "dataframe",
              "variable_name": "avg_price_by_season",
              "summary": "{\n  \"name\": \"avg_price_by_season\",\n  \"rows\": 63,\n  \"fields\": [\n    {\n      \"column\": \"commodity\",\n      \"properties\": {\n        \"dtype\": \"category\",\n        \"num_unique_values\": 16,\n        \"samples\": [\n          \"Bread\",\n          \"Maize\",\n          \"Millet (finger)\"\n        ],\n        \"semantic_type\": \"\",\n        \"description\": \"\"\n      }\n    },\n    {\n      \"column\": \"season\",\n      \"properties\": {\n        \"dtype\": \"category\",\n        \"num_unique_values\": 4,\n        \"samples\": [\n          \"fourth_quarter\",\n          \"third_quarter\",\n          \"first_quarter\"\n        ],\n        \"semantic_type\": \"\",\n        \"description\": \"\"\n      }\n    },\n    {\n      \"column\": \"standardized_price\",\n      \"properties\": {\n        \"dtype\": \"number\",\n        \"std\": 29.898673629082154,\n        \"min\": 34.498222222222225,\n        \"max\": 139.01028571428571,\n        \"num_unique_values\": 63,\n        \"samples\": [\n          86.42907216494847,\n          57.470689655172414,\n          40.564516129032256\n        ],\n        \"semantic_type\": \"\",\n        \"description\": \"\"\n      }\n    }\n  ]\n}"
            }
          },
          "metadata": {},
          "execution_count": 30
        }
      ],
      "source": [
        "# Convert date to datetime format and extract the seasons\n",
        "cereals_tubers_filtered.loc[:, 'date'] = pd.to_datetime(cereals_tubers_filtered['date'])\n",
        "cereals_tubers_filtered.loc[:, 'season'] = cereals_tubers_filtered['date'].dt.month % 12 // 3 + 1\n",
        "\n",
        "# Map season values using season_map\n",
        "season_map = {1: 'first_quarter', 2: 'second_quarter', 3: 'third_quarter', 4: 'fourth_quarter'}\n",
        "cereals_tubers_filtered.loc[:, 'season'] = cereals_tubers_filtered['season'].map(season_map)\n",
        "\n",
        "# Group by commodity and season and calculate average price\n",
        "avg_price_by_season = cereals_tubers_filtered.groupby(['commodity', 'season'])['standardized_price'].mean().reset_index()\n",
        "\n",
        "# Print or return the result\n",
        "avg_price_by_season\n"
      ]
    },
    {
      "cell_type": "code",
      "execution_count": 31,
      "id": "c4679cfc-5cfd-4c4b-b118-ed5803a33dde",
      "metadata": {
        "colab": {
          "base_uri": "https://localhost:8080/"
        },
        "id": "c4679cfc-5cfd-4c4b-b118-ed5803a33dde",
        "outputId": "4acbeb28-6726-4722-c68c-d951a9c66ae4"
      },
      "outputs": [
        {
          "output_type": "execute_result",
          "data": {
            "text/plain": [
              "dtype('float64')"
            ]
          },
          "metadata": {},
          "execution_count": 31
        }
      ],
      "source": [
        "cereals_tubers_filtered['standardized_price'].dtype"
      ]
    },
    {
      "cell_type": "code",
      "execution_count": 32,
      "id": "c99203fb-6969-4f52-a454-41f4c37bf0b4",
      "metadata": {
        "colab": {
          "base_uri": "https://localhost:8080/",
          "height": 617
        },
        "id": "c99203fb-6969-4f52-a454-41f4c37bf0b4",
        "outputId": "68644968-7b77-4739-81b5-5756c89fb06b"
      },
      "outputs": [
        {
          "output_type": "execute_result",
          "data": {
            "text/plain": [
              "commodity\n",
              "Maize (white)                1229\n",
              "Maize                        1177\n",
              "Potatoes (Irish)              739\n",
              "Sorghum                       662\n",
              "Rice                          342\n",
              "Wheat flour                   330\n",
              "Maize flour                   327\n",
              "Potatoes (Irish, white)       238\n",
              "Maize (white, dry)            232\n",
              "Rice (aromatic)               169\n",
              "Bread                         113\n",
              "Potatoes (Irish, red)         110\n",
              "Sorghum (white)                82\n",
              "Sorghum (red)                  61\n",
              "Millet (finger)                55\n",
              "Rice (imported, Pakistan)      14\n",
              "Name: count, dtype: int64"
            ],
            "text/html": [
              "<div>\n",
              "<style scoped>\n",
              "    .dataframe tbody tr th:only-of-type {\n",
              "        vertical-align: middle;\n",
              "    }\n",
              "\n",
              "    .dataframe tbody tr th {\n",
              "        vertical-align: top;\n",
              "    }\n",
              "\n",
              "    .dataframe thead th {\n",
              "        text-align: right;\n",
              "    }\n",
              "</style>\n",
              "<table border=\"1\" class=\"dataframe\">\n",
              "  <thead>\n",
              "    <tr style=\"text-align: right;\">\n",
              "      <th></th>\n",
              "      <th>count</th>\n",
              "    </tr>\n",
              "    <tr>\n",
              "      <th>commodity</th>\n",
              "      <th></th>\n",
              "    </tr>\n",
              "  </thead>\n",
              "  <tbody>\n",
              "    <tr>\n",
              "      <th>Maize (white)</th>\n",
              "      <td>1229</td>\n",
              "    </tr>\n",
              "    <tr>\n",
              "      <th>Maize</th>\n",
              "      <td>1177</td>\n",
              "    </tr>\n",
              "    <tr>\n",
              "      <th>Potatoes (Irish)</th>\n",
              "      <td>739</td>\n",
              "    </tr>\n",
              "    <tr>\n",
              "      <th>Sorghum</th>\n",
              "      <td>662</td>\n",
              "    </tr>\n",
              "    <tr>\n",
              "      <th>Rice</th>\n",
              "      <td>342</td>\n",
              "    </tr>\n",
              "    <tr>\n",
              "      <th>Wheat flour</th>\n",
              "      <td>330</td>\n",
              "    </tr>\n",
              "    <tr>\n",
              "      <th>Maize flour</th>\n",
              "      <td>327</td>\n",
              "    </tr>\n",
              "    <tr>\n",
              "      <th>Potatoes (Irish, white)</th>\n",
              "      <td>238</td>\n",
              "    </tr>\n",
              "    <tr>\n",
              "      <th>Maize (white, dry)</th>\n",
              "      <td>232</td>\n",
              "    </tr>\n",
              "    <tr>\n",
              "      <th>Rice (aromatic)</th>\n",
              "      <td>169</td>\n",
              "    </tr>\n",
              "    <tr>\n",
              "      <th>Bread</th>\n",
              "      <td>113</td>\n",
              "    </tr>\n",
              "    <tr>\n",
              "      <th>Potatoes (Irish, red)</th>\n",
              "      <td>110</td>\n",
              "    </tr>\n",
              "    <tr>\n",
              "      <th>Sorghum (white)</th>\n",
              "      <td>82</td>\n",
              "    </tr>\n",
              "    <tr>\n",
              "      <th>Sorghum (red)</th>\n",
              "      <td>61</td>\n",
              "    </tr>\n",
              "    <tr>\n",
              "      <th>Millet (finger)</th>\n",
              "      <td>55</td>\n",
              "    </tr>\n",
              "    <tr>\n",
              "      <th>Rice (imported, Pakistan)</th>\n",
              "      <td>14</td>\n",
              "    </tr>\n",
              "  </tbody>\n",
              "</table>\n",
              "</div><br><label><b>dtype:</b> int64</label>"
            ]
          },
          "metadata": {},
          "execution_count": 32
        }
      ],
      "source": [
        "#Total commodities\n",
        "unique_commodities = cereals_tubers_filtered['commodity'].value_counts()\n",
        "unique_commodities"
      ]
    },
    {
      "cell_type": "code",
      "execution_count": 33,
      "id": "ed5808af-ba3c-44ea-a7f1-4135df639ee2",
      "metadata": {
        "colab": {
          "base_uri": "https://localhost:8080/"
        },
        "id": "ed5808af-ba3c-44ea-a7f1-4135df639ee2",
        "outputId": "111d4ecc-d5c9-473b-ab2f-3566ee0f4f94"
      },
      "outputs": [
        {
          "output_type": "execute_result",
          "data": {
            "text/plain": [
              "Index(['date', 'market', 'commodity', 'unit', 'priceflag', 'pricetype',\n",
              "       'currency', 'price', 'usdprice', 'standardized_price', 'standard_unit',\n",
              "       'season'],\n",
              "      dtype='object')"
            ]
          },
          "metadata": {},
          "execution_count": 33
        }
      ],
      "source": [
        "cereals_tubers_filtered.columns"
      ]
    },
    {
      "cell_type": "code",
      "execution_count": 34,
      "id": "52bc1779-1136-43a7-bcfc-d7cfb96c9dc3",
      "metadata": {
        "colab": {
          "base_uri": "https://localhost:8080/"
        },
        "id": "52bc1779-1136-43a7-bcfc-d7cfb96c9dc3",
        "outputId": "6d52ca53-7292-4731-b8d3-e80619a1d4d0"
      },
      "outputs": [
        {
          "output_type": "execute_result",
          "data": {
            "text/plain": [
              "dtype('float64')"
            ]
          },
          "metadata": {},
          "execution_count": 34
        }
      ],
      "source": [
        "cereals_tubers_filtered['standardized_price'].dtype"
      ]
    },
    {
      "cell_type": "markdown",
      "id": "34e72dfb-e037-4ba1-b19f-e66e14d11444",
      "metadata": {
        "id": "34e72dfb-e037-4ba1-b19f-e66e14d11444"
      },
      "source": [
        "## Time Series"
      ]
    },
    {
      "cell_type": "code",
      "execution_count": 35,
      "id": "1f213c07-01e5-41c1-85ef-a25d9fc9df6d",
      "metadata": {
        "colab": {
          "base_uri": "https://localhost:8080/",
          "height": 392
        },
        "id": "1f213c07-01e5-41c1-85ef-a25d9fc9df6d",
        "outputId": "adeba725-ecc4-4ec3-b46b-4d59c5972b7e"
      },
      "outputs": [
        {
          "output_type": "display_data",
          "data": {
            "text/plain": [
              "<Figure size 1000x600 with 1 Axes>"
            ],
            "image/png": "[encoded data removed]"
          },
          "metadata": {}
        }
      ],
      "source": [
        "# Plot the time series\n",
        "plt.figure(figsize=(10, 6))\n",
        "plt.plot(cereals_tubers_filtered['date'], cereals_tubers_filtered['standardized_price'], color='blue')\n",
        "plt.xlabel('Date')\n",
        "plt.ylabel('Price')\n",
        "plt.title('Time Series of Prices for Cereals and Tubers')\n",
        "plt.xticks(rotation=45)\n",
        "plt.tight_layout()\n",
        "plt.show()\n"
      ]
    },
    {
      "cell_type": "markdown",
      "id": "fc648b53-a3d1-4d92-898f-cec6a148e2db",
      "metadata": {
        "id": "fc648b53-a3d1-4d92-898f-cec6a148e2db"
      },
      "source": [
        "**Insights**<br>The historical price data shows a gradual increase until around 2019, after which there are periods of high volatility in prices, with a significant spike between 2020 and 2024.\n",
        "The price fluctuates heavily again, especially from 2021 to 2024."
      ]
    },
    {
      "cell_type": "code",
      "execution_count": 36,
      "id": "b996832d-ceec-45b5-86bb-e0b25427ab9c",
      "metadata": {
        "colab": {
          "base_uri": "https://localhost:8080/"
        },
        "id": "b996832d-ceec-45b5-86bb-e0b25427ab9c",
        "outputId": "c5982bc4-4132-4730-8176-a5c85431e168"
      },
      "outputs": [
        {
          "output_type": "execute_result",
          "data": {
            "text/plain": [
              "dtype('float64')"
            ]
          },
          "metadata": {},
          "execution_count": 36
        }
      ],
      "source": [
        "cereals_tubers_filtered['standardized_price'].dtype"
      ]
    },
    {
      "cell_type": "code",
      "execution_count": 37,
      "id": "74898155-9d6a-445c-b087-4036c2657ed3",
      "metadata": {
        "colab": {
          "base_uri": "https://localhost:8080/"
        },
        "id": "74898155-9d6a-445c-b087-4036c2657ed3",
        "outputId": "0591aedd-9afd-4dbb-b45c-8750ffbf8518"
      },
      "outputs": [
        {
          "output_type": "execute_result",
          "data": {
            "text/plain": [
              "Index(['date', 'market', 'commodity', 'unit', 'priceflag', 'pricetype',\n",
              "       'currency', 'price', 'usdprice', 'standardized_price', 'standard_unit',\n",
              "       'season'],\n",
              "      dtype='object')"
            ]
          },
          "metadata": {},
          "execution_count": 37
        }
      ],
      "source": [
        "cereals_tubers_filtered.columns"
      ]
    },
    {
      "cell_type": "markdown",
      "id": "98244c12-3e57-484a-a091-fe4e00521d7b",
      "metadata": {
        "id": "98244c12-3e57-484a-a091-fe4e00521d7b"
      },
      "source": [
        "## Decompose the Time Series"
      ]
    },
    {
      "cell_type": "code",
      "execution_count": 38,
      "id": "ae00638a-ab1b-4abc-9b7b-a3c8040bc021",
      "metadata": {
        "colab": {
          "base_uri": "https://localhost:8080/",
          "height": 519
        },
        "id": "ae00638a-ab1b-4abc-9b7b-a3c8040bc021",
        "outputId": "94eb86d9-3580-4bcc-f2db-1c25f30ecc28"
      },
      "outputs": [
        {
          "output_type": "display_data",
          "data": {
            "text/plain": [
              "<Figure size 1000x800 with 4 Axes>"
            ],
            "image/png": "[encoded data removed]"
          },
          "metadata": {}
        }
      ],
      "source": [
        "import pandas as pd\n",
        "import matplotlib.pyplot as plt\n",
        "from statsmodels.tsa.seasonal import seasonal_decompose\n",
        "\n",
        "# Assuming 'cereals_tubers_filtered' is your DataFrame and it has a datetime index\n",
        "# If not, you need to convert your index to datetime first\n",
        "# cereals_tubers_filtered.index = pd.to_datetime(cereals_tubers_filtered.index)\n",
        "\n",
        "# Create a date range from 2006 to 2024\n",
        "date_range = pd.date_range(start='2006-01-01', end='2024-12-31', periods=len(cereals_tubers_filtered))\n",
        "\n",
        "# Assign this date range to the DataFrame index\n",
        "cereals_tubers_filtered.index = date_range\n",
        "\n",
        "# Decompose the time series\n",
        "decomposition = seasonal_decompose(cereals_tubers_filtered['standardized_price'], model='additive', period=12)\n",
        "\n",
        "# Plot the decomposition\n",
        "fig, (ax1, ax2, ax3, ax4) = plt.subplots(4, 1, figsize=(10, 8))\n",
        "\n",
        "# Plot the observed data\n",
        "ax1.plot(cereals_tubers_filtered.index, decomposition.observed)\n",
        "ax1.set_title('Observed')\n",
        "\n",
        "# Plot the trend component\n",
        "ax2.plot(cereals_tubers_filtered.index, decomposition.trend)\n",
        "ax2.set_title('Trend')\n",
        "\n",
        "# Plot the seasonal component\n",
        "ax3.plot(cereals_tubers_filtered.index, decomposition.seasonal)\n",
        "ax3.set_title('Seasonal')\n",
        "\n",
        "# Plot the residual component\n",
        "ax4.plot(cereals_tubers_filtered.index, decomposition.resid)\n",
        "ax4.set_title('Residual')\n",
        "\n",
        "# Format the x-axis to show dates\n",
        "for ax in [ax1, ax2, ax3, ax4]:\n",
        "    ax.set_xticks(pd.date_range(start='2006', end='2024', periods=10))\n",
        "    ax.set_xticklabels(pd.date_range(start='2006', end='2024', periods=10).strftime('%Y'))\n",
        "\n",
        "plt.tight_layout()\n",
        "plt.show()\n"
      ]
    },
    {
      "cell_type": "code",
      "execution_count": 39,
      "id": "2452420b-5734-41df-9841-be8e6d202136",
      "metadata": {
        "colab": {
          "base_uri": "https://localhost:8080/"
        },
        "id": "2452420b-5734-41df-9841-be8e6d202136",
        "outputId": "d0bc76c5-03f1-449f-ae7c-c4570383f138"
      },
      "outputs": [
        {
          "output_type": "execute_result",
          "data": {
            "text/plain": [
              "dtype('float64')"
            ]
          },
          "metadata": {},
          "execution_count": 39
        }
      ],
      "source": [
        "cereals_tubers_filtered['standardized_price'].dtype"
      ]
    },
    {
      "cell_type": "code",
      "execution_count": 40,
      "id": "1cf8d386-81a1-4073-9ca6-51cade1b8be0",
      "metadata": {
        "colab": {
          "base_uri": "https://localhost:8080/"
        },
        "id": "1cf8d386-81a1-4073-9ca6-51cade1b8be0",
        "outputId": "fce4b589-69f6-43a6-a42e-acca871977fb"
      },
      "outputs": [
        {
          "output_type": "execute_result",
          "data": {
            "text/plain": [
              "Index(['date', 'market', 'commodity', 'unit', 'priceflag', 'pricetype',\n",
              "       'currency', 'price', 'usdprice', 'standardized_price', 'standard_unit',\n",
              "       'season'],\n",
              "      dtype='object')"
            ]
          },
          "metadata": {},
          "execution_count": 40
        }
      ],
      "source": [
        "cereals_tubers_filtered.columns"
      ]
    },
    {
      "cell_type": "markdown",
      "id": "8291f011-6094-4cba-91c8-fcffbacc3681",
      "metadata": {
        "id": "8291f011-6094-4cba-91c8-fcffbacc3681"
      },
      "source": [
        "## Check for Stationarity"
      ]
    },
    {
      "cell_type": "code",
      "execution_count": 41,
      "id": "d7fb58c8-2400-4616-839c-f72a8341fe4c",
      "metadata": {
        "colab": {
          "base_uri": "https://localhost:8080/"
        },
        "id": "d7fb58c8-2400-4616-839c-f72a8341fe4c",
        "outputId": "20a80842-6207-4c87-a0ad-c8a03c70da32"
      },
      "outputs": [
        {
          "output_type": "stream",
          "name": "stdout",
          "text": [
            "ADF Statistic: -2.114484976395298\n",
            "p-value: 0.23873015042582912\n"
          ]
        }
      ],
      "source": [
        "from statsmodels.tsa.stattools import adfuller\n",
        "\n",
        "# Perform the Augmented Dickey-Fuller test\n",
        "result = adfuller(cereals_tubers_filtered['standardized_price'])\n",
        "print('ADF Statistic:', result[0])\n",
        "print('p-value:', result[1])"
      ]
    },
    {
      "cell_type": "markdown",
      "id": "02095f39-7a1f-465d-8880-4ee8e3092881",
      "metadata": {
        "id": "02095f39-7a1f-465d-8880-4ee8e3092881"
      },
      "source": [
        "**Insights**<br>\n",
        "- The data is not stationary based on the Augmented Dickey-Fuller (ADF) test results. <br>\n",
        "- The p-value is less than the significance level (usually 0.05), we reject the null hypothesis of non-stationarity, meaning the data is stationary."
      ]
    },
    {
      "cell_type": "code",
      "execution_count": 42,
      "id": "5f687910-98e0-4107-8dc6-a27778669423",
      "metadata": {
        "colab": {
          "base_uri": "https://localhost:8080/"
        },
        "id": "5f687910-98e0-4107-8dc6-a27778669423",
        "outputId": "167c44fc-7719-4b58-9af5-e4dd68f8b382"
      },
      "outputs": [
        {
          "output_type": "execute_result",
          "data": {
            "text/plain": [
              "Index(['date', 'market', 'commodity', 'unit', 'priceflag', 'pricetype',\n",
              "       'currency', 'price', 'usdprice', 'standardized_price', 'standard_unit',\n",
              "       'season'],\n",
              "      dtype='object')"
            ]
          },
          "metadata": {},
          "execution_count": 42
        }
      ],
      "source": [
        "cereals_tubers_filtered.columns"
      ]
    },
    {
      "cell_type": "code",
      "execution_count": 43,
      "id": "d5c74a75-b6b9-430f-b9e9-66560b53c63f",
      "metadata": {
        "colab": {
          "base_uri": "https://localhost:8080/"
        },
        "id": "d5c74a75-b6b9-430f-b9e9-66560b53c63f",
        "outputId": "9e3d2388-90c7-4916-fa66-b2095ea42977"
      },
      "outputs": [
        {
          "output_type": "execute_result",
          "data": {
            "text/plain": [
              "dtype('float64')"
            ]
          },
          "metadata": {},
          "execution_count": 43
        }
      ],
      "source": [
        "cereals_tubers_filtered['standardized_price'].dtype"
      ]
    },
    {
      "cell_type": "markdown",
      "id": "b045f9f6-ce14-4ea6-9733-e1f935fb65cc",
      "metadata": {
        "id": "b045f9f6-ce14-4ea6-9733-e1f935fb65cc"
      },
      "source": [
        "## Differencing to Make the Series Stationary"
      ]
    },
    {
      "cell_type": "code",
      "execution_count": 44,
      "id": "278b0fc2-22fa-4992-bb03-7df2aa4c64ff",
      "metadata": {
        "colab": {
          "base_uri": "https://localhost:8080/"
        },
        "id": "278b0fc2-22fa-4992-bb03-7df2aa4c64ff",
        "outputId": "9b1464e6-774e-4ea7-e53d-4be2aaccbe3b"
      },
      "outputs": [
        {
          "output_type": "stream",
          "name": "stdout",
          "text": [
            "Before splitting:\n",
            "float64\n",
            "After splitting:\n",
            "float64\n",
            "float64\n",
            "Train dates:\n",
            "RangeIndex(start=0, stop=4704, step=1)\n",
            "Test dates:\n",
            "RangeIndex(start=4704, stop=5880, step=1)\n"
          ]
        }
      ],
      "source": [
        "if 'date' in cereals_tubers_filtered.columns:\n",
        "    # Convert the date column to datetime\n",
        "    cereals_tubers_filtered['date'] = pd.to_datetime(cereals_tubers_filtered['date'])\n",
        "else:\n",
        "    raise KeyError(\"The 'date' column is not found in the dataset.\")\n",
        "\n",
        "# Set the date column as the DataFrame index\n",
        "cereals_tubers_filtered.set_index('date', inplace=True)\n",
        "\n",
        "# Reset the index to keep 'date' as a column\n",
        "cereals_tubers_filtered.reset_index(inplace=True)\n",
        "\n",
        "# Check the dtype of 'standardized_price' before splitting\n",
        "print(\"Before splitting:\")\n",
        "print(cereals_tubers_filtered['standardized_price'].dtype)\n",
        "\n",
        "# Prepare the data for modeling\n",
        "train_size = int(len(cereals_tubers_filtered) * 0.8)\n",
        "train, test = cereals_tubers_filtered[:train_size], cereals_tubers_filtered[train_size:]\n",
        "\n",
        "# Check the dtype of 'standardized_price' after splitting\n",
        "print(\"After splitting:\")\n",
        "print(train['standardized_price'].dtype)\n",
        "print(test['standardized_price'].dtype)\n",
        "\n",
        "# Define the features and target variable\n",
        "X_train, y_train = train.index, train['standardized_price']\n",
        "X_test, y_test = test.index, test['standardized_price']\n",
        "\n",
        "# Check the dates in the index\n",
        "print(\"Train dates:\")\n",
        "print(X_train)\n",
        "print(\"Test dates:\")\n",
        "print(X_test)"
      ]
    },
    {
      "cell_type": "code",
      "execution_count": 45,
      "id": "2db7964d-cf68-4dc4-bcb4-6ff55d0bc510",
      "metadata": {
        "colab": {
          "base_uri": "https://localhost:8080/"
        },
        "id": "2db7964d-cf68-4dc4-bcb4-6ff55d0bc510",
        "outputId": "179160b1-6d1d-4220-c5e1-580ca6c159bb"
      },
      "outputs": [
        {
          "output_type": "execute_result",
          "data": {
            "text/plain": [
              "Index(['date', 'market', 'commodity', 'unit', 'priceflag', 'pricetype',\n",
              "       'currency', 'price', 'usdprice', 'standardized_price', 'standard_unit',\n",
              "       'season'],\n",
              "      dtype='object')"
            ]
          },
          "metadata": {},
          "execution_count": 45
        }
      ],
      "source": [
        "cereals_tubers_filtered.columns"
      ]
    },
    {
      "cell_type": "code",
      "execution_count": 46,
      "id": "40dc2652-b294-4acb-a65f-591a35a28a46",
      "metadata": {
        "colab": {
          "base_uri": "https://localhost:8080/",
          "height": 416
        },
        "id": "40dc2652-b294-4acb-a65f-591a35a28a46",
        "outputId": "75bef50a-2da8-4f9a-bbef-f73c80fbedf9"
      },
      "outputs": [
        {
          "output_type": "display_data",
          "data": {
            "text/plain": [
              "<Figure size 1000x600 with 1 Axes>"
            ],
            "image/png": "[encoded data removed]"
          },
          "metadata": {}
        }
      ],
      "source": [
        "import matplotlib.dates as mdates\n",
        "\n",
        "# Assuming 'cereals_tubers_filtered' is your DataFrame and has a DateTime index\n",
        "# Create a date range from 2006 to 2024\n",
        "date_range = pd.date_range(start='2006-01-01', end='2024', periods=len(cereals_tubers_filtered))\n",
        "\n",
        "# Update the index of the DataFrame\n",
        "cereals_tubers_filtered.index = date_range\n",
        "\n",
        "# Differencing the time series\n",
        "cereals_tubers_filtered['price_diff'] = cereals_tubers_filtered['standardized_price'].diff()\n",
        "\n",
        "# Plot the differenced series\n",
        "plt.figure(figsize=(10, 6))\n",
        "plt.plot(cereals_tubers_filtered.index, cereals_tubers_filtered['price_diff'], color='green')\n",
        "\n",
        "# Format the x-axis to show even years\n",
        "plt.gca().xaxis.set_major_locator(mdates.YearLocator(2))\n",
        "plt.gca().xaxis.set_major_formatter(mdates.DateFormatter('%Y'))\n",
        "\n",
        "plt.xlabel(\"Date\")\n",
        "plt.ylabel(\"Differenced Price\")\n",
        "plt.title(\"Differenced Time Series\")\n",
        "plt.show()\n"
      ]
    },
    {
      "cell_type": "code",
      "execution_count": 47,
      "id": "552d8c41-a78d-488e-8d16-0d11d9cb369f",
      "metadata": {
        "colab": {
          "base_uri": "https://localhost:8080/"
        },
        "id": "552d8c41-a78d-488e-8d16-0d11d9cb369f",
        "outputId": "0f2acc2e-859d-4cdc-e163-2e07ced3900e"
      },
      "outputs": [
        {
          "output_type": "execute_result",
          "data": {
            "text/plain": [
              "dtype('float64')"
            ]
          },
          "metadata": {},
          "execution_count": 47
        }
      ],
      "source": [
        "cereals_tubers_filtered['standardized_price'].dtype"
      ]
    },
    {
      "cell_type": "markdown",
      "id": "a3721ca5-4ec2-4545-ada2-9fb6c34476bf",
      "metadata": {
        "id": "a3721ca5-4ec2-4545-ada2-9fb6c34476bf"
      },
      "source": [
        "## Check for Stationarity on the Differenced data"
      ]
    },
    {
      "cell_type": "code",
      "execution_count": 48,
      "id": "455060a4-23d1-48a5-8554-6c6473ad3678",
      "metadata": {
        "colab": {
          "base_uri": "https://localhost:8080/"
        },
        "id": "455060a4-23d1-48a5-8554-6c6473ad3678",
        "outputId": "fb7813ee-90e0-459e-b46d-b137571a011e"
      },
      "outputs": [
        {
          "output_type": "stream",
          "name": "stdout",
          "text": [
            "ADF Statistic: -22.462289331880807\n",
            "p-value: 0.0\n"
          ]
        }
      ],
      "source": [
        "result = adfuller(cereals_tubers_filtered['price_diff'].dropna())\n",
        "print('ADF Statistic:', result[0])\n",
        "print('p-value:', result[1])"
      ]
    },
    {
      "cell_type": "markdown",
      "id": "4696fa14-cd8b-46e7-98ac-8ce6b7f50810",
      "metadata": {
        "id": "4696fa14-cd8b-46e7-98ac-8ce6b7f50810"
      },
      "source": [
        "**Insights**<br>The p-value is significantly less than 0.05 (the typical significance level), which means we reject the null hypothesis of non-stationarity. This indicates that the time series is stationary."
      ]
    },
    {
      "cell_type": "code",
      "execution_count": 49,
      "id": "52c55019-8099-442d-afa5-24deeaf303de",
      "metadata": {
        "colab": {
          "base_uri": "https://localhost:8080/"
        },
        "id": "52c55019-8099-442d-afa5-24deeaf303de",
        "outputId": "3f11d18e-cb26-4837-fc04-a7a15c4a210a"
      },
      "outputs": [
        {
          "output_type": "execute_result",
          "data": {
            "text/plain": [
              "dtype('float64')"
            ]
          },
          "metadata": {},
          "execution_count": 49
        }
      ],
      "source": [
        "cereals_tubers_filtered['standardized_price'].dtype"
      ]
    },
    {
      "cell_type": "markdown",
      "id": "8a3395be-1a50-4785-8942-569f6f86ecee",
      "metadata": {
        "id": "8a3395be-1a50-4785-8942-569f6f86ecee"
      },
      "source": [
        "## Autocorrelation and Partial Autocorrelation Plots"
      ]
    },
    {
      "cell_type": "code",
      "execution_count": 51,
      "id": "fad7be8b-08cf-48cf-9ae1-a6985095a31e",
      "metadata": {
        "colab": {
          "base_uri": "https://localhost:8080/",
          "height": 347
        },
        "id": "fad7be8b-08cf-48cf-9ae1-a6985095a31e",
        "outputId": "9eaef094-9b84-4e10-c594-d0ec99c8a994"
      },
      "outputs": [
        {
          "output_type": "display_data",
          "data": {
            "text/plain": [
              "<Figure size 1200x600 with 2 Axes>"
            ],
            "image/png": "[encoded data removed]"
          },
          "metadata": {}
        }
      ],
      "source": [
        "from statsmodels.graphics.tsaplots import plot_acf, plot_pacf\n",
        "\n",
        "# Plot ACF and PACF\n",
        "plt.figure(figsize=(12, 6))\n",
        "plt.subplot(121)\n",
        "plot_acf(cereals_tubers_filtered['price_diff'].dropna(), ax=plt.gca())\n",
        "plt.subplot(122)\n",
        "plot_pacf(cereals_tubers_filtered['price_diff'].dropna(), ax=plt.gca())\n",
        "plt.show()\n"
      ]
    },
    {
      "cell_type": "code",
      "execution_count": 52,
      "id": "e198835b-fec4-44fe-97a4-ad87cb54d53c",
      "metadata": {
        "colab": {
          "base_uri": "https://localhost:8080/"
        },
        "id": "e198835b-fec4-44fe-97a4-ad87cb54d53c",
        "outputId": "51b5cb12-f9ed-4c3e-8540-2fa1e8c6d96a"
      },
      "outputs": [
        {
          "output_type": "execute_result",
          "data": {
            "text/plain": [
              "dtype('float64')"
            ]
          },
          "metadata": {},
          "execution_count": 52
        }
      ],
      "source": [
        "cereals_tubers_filtered['standardized_price'].dtype"
      ]
    },
    {
      "cell_type": "markdown",
      "id": "4c8b9e07-9765-4a90-b477-655ad213f1f0",
      "metadata": {
        "id": "4c8b9e07-9765-4a90-b477-655ad213f1f0"
      },
      "source": [
        "# Modeling"
      ]
    },
    {
      "cell_type": "code",
      "execution_count": 53,
      "id": "4c46cdbb-4f88-4a5c-a5bf-e697211b5d81",
      "metadata": {
        "colab": {
          "base_uri": "https://localhost:8080/"
        },
        "id": "4c46cdbb-4f88-4a5c-a5bf-e697211b5d81",
        "outputId": "17b3db20-931b-427c-e9ef-9d42c2075aca"
      },
      "outputs": [
        {
          "output_type": "execute_result",
          "data": {
            "text/plain": [
              "Index(['date', 'market', 'commodity', 'unit', 'priceflag', 'pricetype',\n",
              "       'currency', 'price', 'usdprice', 'standardized_price', 'standard_unit',\n",
              "       'season', 'price_diff'],\n",
              "      dtype='object')"
            ]
          },
          "metadata": {},
          "execution_count": 53
        }
      ],
      "source": [
        "cereals_tubers_filtered.columns"
      ]
    },
    {
      "cell_type": "code",
      "execution_count": 54,
      "id": "b95d90ce-867c-4812-94f2-5525e3402f20",
      "metadata": {
        "colab": {
          "base_uri": "https://localhost:8080/"
        },
        "id": "b95d90ce-867c-4812-94f2-5525e3402f20",
        "outputId": "ff36dfcc-c43f-4a2f-e018-35aa097d6409"
      },
      "outputs": [
        {
          "output_type": "execute_result",
          "data": {
            "text/plain": [
              "dtype('float64')"
            ]
          },
          "metadata": {},
          "execution_count": 54
        }
      ],
      "source": [
        "cereals_tubers_filtered['standardized_price'].dtype"
      ]
    },
    {
      "cell_type": "markdown",
      "id": "0a292251-2179-4cd7-8cf2-cfa4f83ce9d6",
      "metadata": {
        "id": "0a292251-2179-4cd7-8cf2-cfa4f83ce9d6"
      },
      "source": [
        "### Data Preparation for modeling"
      ]
    },
    {
      "cell_type": "code",
      "execution_count": 55,
      "id": "f6a7f0d1-2876-40fd-b4fe-631fb9c60adc",
      "metadata": {
        "colab": {
          "base_uri": "https://localhost:8080/"
        },
        "id": "f6a7f0d1-2876-40fd-b4fe-631fb9c60adc",
        "outputId": "be24b590-da28-4f4f-e2dd-ff1911ac71b7"
      },
      "outputs": [
        {
          "output_type": "stream",
          "name": "stdout",
          "text": [
            "Before splitting:\n",
            "float64\n",
            "After splitting:\n",
            "float64\n",
            "float64\n"
          ]
        }
      ],
      "source": [
        "# Ensure the 'date' column exists and is correctly referenced\n",
        "if 'date' in cereals_tubers_filtered.columns:\n",
        "    # Convert the date column to datetime\n",
        "    cereals_tubers_filtered['date'] = pd.to_datetime(cereals_tubers_filtered['date'])\n",
        "else:\n",
        "    raise KeyError(\"The 'date' column is not found in the dataset.\")\n",
        "\n",
        "# Set the date column as the DataFrame index\n",
        "cereals_tubers_filtered.set_index('date', inplace=True)\n",
        "\n",
        "# Reset the index to keep 'date' as a column\n",
        "cereals_tubers_filtered.reset_index(inplace=True)\n",
        "\n",
        "# Check the dtype of 'standardized_price' before splitting\n",
        "print(\"Before splitting:\")\n",
        "print(cereals_tubers_filtered['standardized_price'].dtype)\n",
        "# Prepare the data for modeling\n",
        "train_size = int(len(cereals_tubers_filtered) * 0.8)\n",
        "train, test = cereals_tubers_filtered[:train_size], cereals_tubers_filtered[train_size:]\n",
        "\n",
        "\n",
        "# Check the dtype of 'standardized_price' after splitting\n",
        "print(\"After splitting:\")\n",
        "print(train['standardized_price'].dtype)\n",
        "print(test['standardized_price'].dtype)\n",
        "\n",
        "# Define the features and target variable\n",
        "X_train, y_train = train.index, train['standardized_price']\n",
        "X_test, y_test = test.index, test['standardized_price']"
      ]
    },
    {
      "cell_type": "code",
      "execution_count": 56,
      "id": "763bed25-98b8-4c94-ab3d-885904690fa3",
      "metadata": {
        "colab": {
          "base_uri": "https://localhost:8080/"
        },
        "id": "763bed25-98b8-4c94-ab3d-885904690fa3",
        "outputId": "a92c688b-0ddb-4e15-d052-4dfff24acff2"
      },
      "outputs": [
        {
          "output_type": "execute_result",
          "data": {
            "text/plain": [
              "dtype('float64')"
            ]
          },
          "metadata": {},
          "execution_count": 56
        }
      ],
      "source": [
        "cereals_tubers_filtered['standardized_price'].dtype"
      ]
    },
    {
      "cell_type": "markdown",
      "id": "22587042-6fd0-41d8-aa51-5a036e65a89a",
      "metadata": {
        "id": "22587042-6fd0-41d8-aa51-5a036e65a89a"
      },
      "source": [
        "## ARIMA Model"
      ]
    },
    {
      "cell_type": "code",
      "execution_count": 57,
      "id": "bf5e7937-3adf-48f3-bf42-e741f64ce6cd",
      "metadata": {
        "colab": {
          "base_uri": "https://localhost:8080/",
          "height": 592
        },
        "id": "bf5e7937-3adf-48f3-bf42-e741f64ce6cd",
        "outputId": "85334ef4-e5f4-4a8e-e72e-d0d6de931ed4"
      },
      "outputs": [
        {
          "output_type": "error",
          "ename": "NameError",
          "evalue": "name 'forecast' is not defined",
          "traceback": [
            "\u001b[0;31m---------------------------------------------------------------------------\u001b[0m",
            "\u001b[0;31mNameError\u001b[0m                                 Traceback (most recent call last)",
            "\u001b[0;32m<ipython-input-57-5e8d4b9bb435>\u001b[0m in \u001b[0;36m<cell line: 16>\u001b[0;34m()\u001b[0m\n\u001b[1;32m     14\u001b[0m \u001b[0mplt\u001b[0m\u001b[0;34m.\u001b[0m\u001b[0mplot\u001b[0m\u001b[0;34m(\u001b[0m\u001b[0mtrain\u001b[0m\u001b[0;34m.\u001b[0m\u001b[0mindex\u001b[0m\u001b[0;34m,\u001b[0m \u001b[0mtrain\u001b[0m\u001b[0;34m[\u001b[0m\u001b[0;34m'standardized_price'\u001b[0m\u001b[0;34m]\u001b[0m\u001b[0;34m,\u001b[0m \u001b[0mlabel\u001b[0m\u001b[0;34m=\u001b[0m\u001b[0;34m'Train'\u001b[0m\u001b[0;34m)\u001b[0m\u001b[0;34m\u001b[0m\u001b[0;34m\u001b[0m\u001b[0m\n\u001b[1;32m     15\u001b[0m \u001b[0mplt\u001b[0m\u001b[0;34m.\u001b[0m\u001b[0mplot\u001b[0m\u001b[0;34m(\u001b[0m\u001b[0mtest\u001b[0m\u001b[0;34m.\u001b[0m\u001b[0mindex\u001b[0m\u001b[0;34m,\u001b[0m \u001b[0mtest\u001b[0m\u001b[0;34m[\u001b[0m\u001b[0;34m'standardized_price'\u001b[0m\u001b[0;34m]\u001b[0m\u001b[0;34m,\u001b[0m \u001b[0mlabel\u001b[0m\u001b[0;34m=\u001b[0m\u001b[0;34m'Test'\u001b[0m\u001b[0;34m)\u001b[0m\u001b[0;34m\u001b[0m\u001b[0;34m\u001b[0m\u001b[0m\n\u001b[0;32m---> 16\u001b[0;31m \u001b[0mplt\u001b[0m\u001b[0;34m.\u001b[0m\u001b[0mplot\u001b[0m\u001b[0;34m(\u001b[0m\u001b[0mtest\u001b[0m\u001b[0;34m.\u001b[0m\u001b[0mindex\u001b[0m\u001b[0;34m,\u001b[0m \u001b[0mforecast\u001b[0m\u001b[0;34m,\u001b[0m \u001b[0mlabel\u001b[0m\u001b[0;34m=\u001b[0m\u001b[0;34m'Forecast'\u001b[0m\u001b[0;34m,\u001b[0m \u001b[0mcolor\u001b[0m\u001b[0;34m=\u001b[0m\u001b[0;34m'red'\u001b[0m\u001b[0;34m)\u001b[0m\u001b[0;34m\u001b[0m\u001b[0;34m\u001b[0m\u001b[0m\n\u001b[0m\u001b[1;32m     17\u001b[0m \u001b[0;34m\u001b[0m\u001b[0m\n\u001b[1;32m     18\u001b[0m \u001b[0;31m# Format the x-axis to show dates\u001b[0m\u001b[0;34m\u001b[0m\u001b[0;34m\u001b[0m\u001b[0m\n",
            "\u001b[0;31mNameError\u001b[0m: name 'forecast' is not defined"
          ]
        },
        {
          "output_type": "display_data",
          "data": {
            "text/plain": [
              "<Figure size 1000x600 with 1 Axes>"
            ],
            "image/png": "[encoded data removed]"
          },
          "metadata": {}
        }
      ],
      "source": [
        "import matplotlib.dates as mdates\n",
        "from statsmodels.tsa.arima.model import ARIMA\n",
        "\n",
        "# Assuming 'train' and 'test' are your DataFrames and have a DateTime index\n",
        "# Create a date range from 2006 to 2024\n",
        "date_range = pd.date_range(start='2006', end='2024', periods=len(train) + len(test))\n",
        "\n",
        "# Update the index of train and test DataFrames\n",
        "train.index = date_range[:len(train)]\n",
        "test.index = date_range[len(train):]\n",
        "\n",
        "# Plot the results\n",
        "plt.figure(figsize=(10, 6))\n",
        "plt.plot(train.index, train['standardized_price'], label='Train')\n",
        "plt.plot(test.index, test['standardized_price'], label='Test')\n",
        "plt.plot(test.index, forecast, label='Forecast', color='red')\n",
        "\n",
        "# Format the x-axis to show dates\n",
        "plt.gca().xaxis.set_major_locator(mdates.YearLocator(2))\n",
        "plt.gca().xaxis.set_major_formatter(mdates.DateFormatter('%Y'))\n",
        "\n",
        "plt.xlabel(\"Date\")\n",
        "plt.ylabel(\"Price\")\n",
        "plt.title(\"ARIMA Forecast\")\n",
        "plt.legend()\n",
        "plt.show()\n"
      ]
    },
    {
      "cell_type": "markdown",
      "id": "957a91c9-bdd3-4b75-b181-2d1d53ff12c7",
      "metadata": {
        "id": "957a91c9-bdd3-4b75-b181-2d1d53ff12c7"
      },
      "source": [
        "**Insights**<br>The historical price data shows a gradual increase until around 2016, after which there are periods of high volatility in prices, with a significant spike between 2017 and 2018.\n",
        "After 2019, the price drops but fluctuates heavily again, especially from 2020 to 2024."
      ]
    },
    {
      "cell_type": "code",
      "execution_count": null,
      "id": "ea2fa726-7aa0-49c2-8155-05fe11bb7dab",
      "metadata": {
        "id": "ea2fa726-7aa0-49c2-8155-05fe11bb7dab"
      },
      "outputs": [],
      "source": [
        "import pandas as pd\n",
        "import numpy as np\n",
        "from sklearn.metrics import mean_absolute_error, mean_squared_error\n",
        "\n",
        "# Assuming 'forecast' is your forecasted values and 'test' contains the actual values\n",
        "# Calculate performance metrics\n",
        "mae = mean_absolute_error(test['standardized_price'], forecast)\n",
        "mse = mean_squared_error(test['standardized_price'], forecast)\n",
        "rmse = np.sqrt(mse)\n",
        "mape = np.mean(np.abs((test['standardized_price'] - forecast) / test['standardized_price'])) * 100\n",
        "\n",
        "# Fit the ARIMA model to get AIC and BIC\n",
        "model = ARIMA(train['standardized_price'], order=(5, 1, 0))\n",
        "model_fit = model.fit()\n",
        "aic = model_fit.aic\n",
        "bic = model_fit.bic\n",
        "\n",
        "print(f\"MAE: {mae}\")\n",
        "print(f\"MSE: {mse}\")\n",
        "print(f\"RMSE: {rmse}\")\n",
        "print(f\"MAPE: {mape}\")\n",
        "print(f\"AIC: {aic}\")\n",
        "print(f\"BIC: {bic}\")"
      ]
    },
    {
      "cell_type": "markdown",
      "id": "c9522f53-6b85-40b5-a28c-674b4f643d51",
      "metadata": {
        "id": "c9522f53-6b85-40b5-a28c-674b4f643d51"
      },
      "source": [
        "## Conclusion\n",
        "- There are significant price variations for different types of commodities under the cereals and tubers. Kenyan consumers mostly depend on cereals and tubers. Most consumers prefer to buy on wholesale. This indicate that the prices are relatively affordable compared to the retail price. Additionally, consumers, especially in the central region tend to purchase less as they are able to plant and have their own produce.\n",
        "## Recommendations\n",
        "- Consider incorporating additional features that might influence prices, such as economic indicators, weather data, or seasonal effects, to improve the model’s accuracy.\n",
        "## Next Step\n",
        "- **Geographical Comparison**: Incorporate the exact latitudes and longitudes to evaluate markets with similar prices.\n",
        "- **Model Tuning and Optimization**:\n",
        "- **Model Comparison**: Compare the current ARIMA model with other models like LSTM, machine learning model using AIC and BIC to find the best model."
      ]
    },
    {
      "cell_type": "code",
      "execution_count": null,
      "id": "6b6e5da6-46a7-4c7c-893c-8c2f1ebfcb59",
      "metadata": {
        "id": "6b6e5da6-46a7-4c7c-893c-8c2f1ebfcb59"
      },
      "outputs": [],
      "source": []
    }
  ],
  "metadata": {
    "kernelspec": {
      "display_name": "Python 3 (ipykernel)",
      "language": "python",
      "name": "python3"
    },
    "language_info": {
      "codemirror_mode": {
        "name": "ipython",
        "version": 3
      },
      "file_extension": ".py",
      "mimetype": "text/x-python",
      "name": "python",
      "nbconvert_exporter": "python",
      "pygments_lexer": "ipython3",
      "version": "3.11.7"
    },
    "colab": {
      "provenance": [],
      "include_colab_link": true
    }
  },
  "nbformat": 4,
  "nbformat_minor": 5
}